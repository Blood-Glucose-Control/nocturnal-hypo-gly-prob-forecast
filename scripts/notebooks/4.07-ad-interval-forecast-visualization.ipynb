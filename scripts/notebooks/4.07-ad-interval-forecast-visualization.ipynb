{
 "cells": [
  {
   "cell_type": "markdown",
   "metadata": {},
   "source": [
    "### Load data for one patient"
   ]
  },
  {
   "cell_type": "code",
   "execution_count": null,
   "metadata": {},
   "outputs": [],
   "source": [
    "from src.data.data_loader import BrisT1DDataLoader\n",
    "\n",
    "# Split up data into day and night\n",
    "loader = BrisT1DDataLoader(use_cached=True)\n",
    "patient = \"p04\"\n",
    "\n",
    "train_df = loader.train_data[loader.train_data[\"p_num\"] == patient]\n",
    "test_df = loader.validation_data[loader.validation_data[\"p_num\"] == patient]\n",
    "\n",
    "TIME_STEP_SIZE = (train_df[\"datetime\"].iloc[1] - train_df[\"datetime\"].iloc[0]).components.minutes\n",
    "\n",
    "if TIME_STEP_SIZE != 5 and TIME_STEP_SIZE != 15:\n",
    "    error = \"\"\"\n",
    "    First time step is not 5 or 15 minutes. Look at the most common time step size.\n",
    "    \"\"\""
   ]
  },
  {
   "cell_type": "markdown",
   "metadata": {},
   "source": [
    "### Reduce columns and impute missing values on training set"
   ]
  },
  {
   "cell_type": "code",
   "execution_count": null,
   "metadata": {},
   "outputs": [],
   "source": [
    "from src.tuning.benchmark import impute_missing_values\n",
    "\n",
    "def reduce_features(df):\n",
    "\ty_feature = [\"bg-0:00\"]\n",
    "\tx_features = [\n",
    "\t\t# \"hr-0:00\",\n",
    "\t\t# \"steps-0:00\",\n",
    "\t\t# \"cals-0:00\",\n",
    "\t\t\"cob\",\n",
    "\t\t# \"carb_availability\",\n",
    "\t\t# \"insulin_availability\",\n",
    "\t\t\"iob\",\n",
    "\t]\n",
    "\tp_df = df.iloc[:][x_features + y_feature]\n",
    "\n",
    "\t# Impute with default methods\n",
    "\tp_df = impute_missing_values(p_df, columns=x_features)\n",
    "\tp_df = impute_missing_values(p_df, columns=y_feature)\n",
    "\n",
    "\ty, X = p_df[y_feature], p_df[x_features]\n",
    "\treturn y, X\n",
    "\n",
    "y_train, X_train = reduce_features(train_df)"
   ]
  },
  {
   "cell_type": "code",
   "execution_count": null,
   "metadata": {},
   "outputs": [],
   "source": [
    "y_train.describe()"
   ]
  },
  {
   "cell_type": "code",
   "execution_count": null,
   "metadata": {},
   "outputs": [],
   "source": [
    "X_train.describe()"
   ]
  },
  {
   "cell_type": "markdown",
   "metadata": {},
   "source": [
    "### Select and load model with best params"
   ]
  },
  {
   "cell_type": "code",
   "execution_count": null,
   "metadata": {},
   "outputs": [],
   "source": [
    "from src.utils.config_loader import load_yaml_config\n",
    "\n",
    "# Set relative path to config yaml file with params for model\n",
    "config_path = \"../../src/models/configs/ARCH.yaml\"\n",
    "params = load_yaml_config(config_path)"
   ]
  },
  {
   "cell_type": "code",
   "execution_count": null,
   "metadata": {},
   "outputs": [],
   "source": [
    "params"
   ]
  },
  {
   "cell_type": "code",
   "execution_count": null,
   "metadata": {},
   "outputs": [],
   "source": [
    "from sktime.forecasting.arch import ARCH  \n",
    "\n",
    "forecaster = ARCH(**params)"
   ]
  },
  {
   "cell_type": "markdown",
   "metadata": {},
   "source": [
    "### Fit model on training set"
   ]
  },
  {
   "cell_type": "code",
   "execution_count": null,
   "metadata": {},
   "outputs": [],
   "source": [
    "import numpy as np\n",
    "\n",
    "HOURS_TO_PREDICT = 6\n",
    "NUM_STEPS = HOURS_TO_PREDICT * 60 // TIME_STEP_SIZE\n",
    "\n",
    "fh=np.arange(1, NUM_STEPS + 1)\n",
    "\n",
    "forecaster.fit(y=y_train, X=X_train, fh=fh)"
   ]
  },
  {
   "cell_type": "markdown",
   "metadata": {},
   "source": [
    "### Plot predicted glucose levels"
   ]
  },
  {
   "cell_type": "code",
   "execution_count": null,
   "metadata": {},
   "outputs": [],
   "source": [
    "import matplotlib.pyplot as plt\n",
    "import pandas as pd\n",
    "\n",
    "# Create a figure with multiple subplots\n",
    "fig, axes = plt.subplots(nrows=4, ncols=5, figsize=(20, 20))\n",
    "axes = axes.flatten()  # Flatten the 2D array of axes for easier indexing\n",
    "\n",
    "# Initialize the subplot counter\n",
    "subplot_idx = 0\n",
    "\n",
    "# Loop over each day split\n",
    "for _, train_period, test_period in loader.get_validation_day_splits(patient):\n",
    "    y_day, X_day = reduce_features(train_period)\n",
    "    y_night, X_night = reduce_features(test_period)\n",
    "\n",
    "    train_period.set_index(\"datetime\", inplace=True)\n",
    "\n",
    "    ######## Plot true glucose levels ########\n",
    "    true_bg = pd.concat([y_day[\"bg-0:00\"], y_night[\"bg-0:00\"]])\n",
    "    time_index = pd.concat([train_period[\"time\"], test_period[\"time\"]])\n",
    "\n",
    "    ax = axes[subplot_idx]\n",
    "    ax.plot(time_index, true_bg, alpha=0.5, markersize=1, label=\"True glucose levels\")\n",
    "\n",
    "    ######## Plot predicted glucose levels ########\n",
    "    predicted_bg = forecaster.predict(fh=fh, X=X_night)  # Ensure correct prediction\n",
    "    ax.plot(test_period[\"time\"], predicted_bg, label=\"Predicted glucose levels\")\n",
    "\n",
    "    # Add labels, legend, and formatting for each subplot\n",
    "    ax.set_xlabel(\"Time\", fontsize=10)\n",
    "    ax.set_ylabel(\"BGL\", fontsize=10)\n",
    "    ax.set_ylim(0, 40)  # Set the y-axis limits as needed\n",
    "    ax.set_xticks(time_index.iloc[::20])  # Set x-ticks to show every 10th value\n",
    "    ax.legend(loc=\"lower left\")\n",
    "    ax.tick_params(axis=\"x\", rotation=45, labelsize=8)\n",
    "\n",
    "    # Increment the subplot index for the next day\n",
    "    subplot_idx += 1\n",
    "\n",
    "# Adjust layout to avoid overlap\n",
    "plt.tight_layout()\n",
    "\n",
    "# Show the figure with multiple subplots\n",
    "plt.show()"
   ]
  },
  {
   "cell_type": "markdown",
   "metadata": {},
   "source": [
    "### Plot predicted intervals"
   ]
  },
  {
   "cell_type": "code",
   "execution_count": null,
   "metadata": {},
   "outputs": [],
   "source": [
    "import matplotlib.pyplot as plt\n",
    "import pandas as pd\n",
    "\n",
    "######## Plot true glucose levels ########\n",
    "\n",
    "true_bg = pd.concat([y_day[\"bg-0:00\"], y_night[\"bg-0:00\"]])\n",
    "time_index = pd.concat([train_period[\"time\"], test_period[\"time\"]])\n",
    "\n",
    "fig, ax = plt.subplots()\n",
    "\n",
    "ax.plot(time_index, true_bg, alpha=0.5, markersize=1, label=\"True glucose levels\")\n",
    "ax.xaxis.set_ticks(time_index.iloc[::10])\n",
    "\n",
    "\n",
    "######## Plot predicted interval ########\n",
    "\n",
    "pred_int = forecaster.predict_interval(fh=fh, X=X_night, coverage=0.95)[0][0.95]\n",
    "\n",
    "ax.plot(\n",
    "    test_period[\"time\"],\n",
    "    pred_int[\"upper\"],\n",
    "    label=\"Predicted upper interval\",\n",
    "    linestyle=\"--\",\n",
    ")\n",
    "\n",
    "ax.plot(\n",
    "    test_period[\"time\"],\n",
    "    pred_int[\"lower\"],\n",
    "    label=\"Predicted lower interval\",\n",
    "    linestyle=\"--\",\n",
    ")\n",
    "\n",
    "ax.legend(loc=\"lower left\")\n",
    "\n",
    "plt.xticks(rotation=45, fontsize=8)\n",
    "plt.xlabel(\"Time\", fontsize=10)\n",
    "plt.ylabel(\"BGL\", fontsize=10)\n",
    "plt.ylim(0, 40)\n",
    "\n",
    "plt.show()"
   ]
  },
  {
   "cell_type": "markdown",
   "metadata": {},
   "source": [
    "### Plot predicted quantiles"
   ]
  },
  {
   "cell_type": "code",
   "execution_count": null,
   "metadata": {},
   "outputs": [],
   "source": [
    "import matplotlib.pyplot as plt\n",
    "import pandas as pd\n",
    "\n",
    "######## Plot true glucose levels ########\n",
    "\n",
    "true_bg = pd.concat([y_day[\"bg-0:00\"], y_night[\"bg-0:00\"]])\n",
    "time_index = pd.concat([train_period[\"time\"], test_period[\"time\"]])\n",
    "\n",
    "fig, ax = plt.subplots()\n",
    "\n",
    "ax.plot(time_index, true_bg, alpha=0.5, markersize=1, label=\"True glucose levels\")\n",
    "ax.xaxis.set_ticks(time_index.iloc[::10])\n",
    "\n",
    "\n",
    "######## Plot predicted quantiles ########\n",
    "\n",
    "quantiles = [0.95, 0.5, 0.05]\n",
    "pred_int = forecaster.predict_quantiles(fh=fh, X=X_night, alpha=quantiles)[\"bg-0:00\"]\n",
    "\n",
    "ax.plot(\n",
    "    test_period[\"time\"], pred_int[0.05], linestyle=\"--\", label=\"Predicted 0.05 quantile\"\n",
    ")\n",
    "\n",
    "ax.plot(\n",
    "    test_period[\"time\"], pred_int[0.50], label=\"Predicted 0.5 quantile\"\n",
    ")\n",
    "\n",
    "ax.plot(\n",
    "    test_period[\"time\"], pred_int[0.95], linestyle=\"--\", label=\"Predicted 0.95 quantile\"\n",
    ")\n",
    "\n",
    "ax.legend(loc=\"lower left\")\n",
    "\n",
    "plt.xticks(rotation=45, fontsize=8)\n",
    "plt.xlabel(\"Time\", fontsize=10)\n",
    "plt.ylabel(\"BGL\", fontsize=10)\n",
    "plt.ylim(0, 40)\n",
    "\n",
    "plt.show()"
   ]
  }
 ],
 "metadata": {
  "kernelspec": {
   "display_name": "env",
   "language": "python",
   "name": "python3"
  },
  "language_info": {
   "codemirror_mode": {
    "name": "ipython",
    "version": 3
   },
   "file_extension": ".py",
   "mimetype": "text/x-python",
   "name": "python",
   "nbconvert_exporter": "python",
   "pygments_lexer": "ipython3",
   "version": "3.12.7"
  }
 },
 "nbformat": 4,
 "nbformat_minor": 2
}
