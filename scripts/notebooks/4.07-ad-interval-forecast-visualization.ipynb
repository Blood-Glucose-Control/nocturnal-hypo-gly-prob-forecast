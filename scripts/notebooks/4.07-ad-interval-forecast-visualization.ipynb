{
 "cells": [
  {
   "cell_type": "code",
   "execution_count": null,
   "metadata": {},
   "outputs": [],
   "source": [
    "from src.tuning.load_estimators import load_all_forecasters, get_estimator\n",
    "\n",
    "# This loads all sktime forecasters to be accessible by their class name -> don't need to run again\n",
    "forecasters = load_all_forecasters()"
   ]
  },
  {
   "cell_type": "markdown",
   "metadata": {},
   "source": [
    "### Set patient, model, and best params config"
   ]
  },
  {
   "cell_type": "code",
   "execution_count": null,
   "metadata": {},
   "outputs": [],
   "source": [
    "patient = \"p04\"\n",
    "\n",
    "# Set model as sktime forecaster class name\n",
    "model = \"TinyTimeMixerForecaster\"\n",
    "forecaster_class = get_estimator(forecasters, model)\n",
    "\n",
    "# Set relative path to config yaml file with params for model\n",
    "config_path = \"../../src/models/configs/TinyTimeMixerForecaster.yaml\""
   ]
  },
  {
   "cell_type": "markdown",
   "metadata": {},
   "source": [
    "### Load data for one patient"
   ]
  },
  {
   "cell_type": "code",
   "execution_count": null,
   "metadata": {},
   "outputs": [],
   "source": [
    "from src.data.data_loader import BrisT1DDataLoader\n",
    "\n",
    "# Split up data into day and night\n",
    "loader = BrisT1DDataLoader(use_cached=True)\n",
    "\n",
    "train_df = loader.train_data[loader.train_data[\"p_num\"] == patient]\n",
    "test_df = loader.validation_data[loader.validation_data[\"p_num\"] == patient]\n",
    "\n",
    "TIME_STEP_SIZE = (\n",
    "    train_df[\"datetime\"].iloc[1] - train_df[\"datetime\"].iloc[0]\n",
    ").components.minutes\n",
    "\n",
    "if TIME_STEP_SIZE != 5 and TIME_STEP_SIZE != 15:\n",
    "    error = \"\"\"\n",
    "    First time step is not 5 or 15 minutes. Look at the most common time step size.\n",
    "    \"\"\""
   ]
  },
  {
   "cell_type": "markdown",
   "metadata": {},
   "source": [
    "### Reduce columns and impute missing values on training set"
   ]
  },
  {
   "cell_type": "code",
   "execution_count": null,
   "metadata": {},
   "outputs": [],
   "source": [
    "# import pandas as pd\n",
    "from src.tuning.benchmark import impute_missing_values\n",
    "\n",
    "\n",
    "def reduce_features(df):\n",
    "    # Make sure index is set to datetime\n",
    "    p_df = df.iloc[:]\n",
    "    # p_df.set_index(\"datetime\", inplace=True)\n",
    "    # p_df = p_df.asfreq('5T', method='pad')\n",
    "\n",
    "    # Reduce features\n",
    "    y_feature = [\"bg-0:00\"]\n",
    "    x_features = [\n",
    "        # \"hr-0:00\", # -> has NaNs\n",
    "        \"steps-0:00\",\n",
    "        \"cals-0:00\",\n",
    "        \"cob\",\n",
    "        \"carb_availability\",\n",
    "        \"insulin_availability\",\n",
    "        \"iob\",\n",
    "    ]\n",
    "    p_df = p_df[x_features + y_feature]\n",
    "\n",
    "    # Impute with default methods\n",
    "    p_df = impute_missing_values(p_df, columns=x_features)\n",
    "    p_df = impute_missing_values(p_df, columns=y_feature)\n",
    "\n",
    "    y, X = p_df[y_feature], p_df[x_features]\n",
    "    return y, X"
   ]
  },
  {
   "cell_type": "code",
   "execution_count": null,
   "metadata": {},
   "outputs": [],
   "source": [
    "y_train, X_train = reduce_features(train_df)\n",
    "\n",
    "y_train.describe()"
   ]
  },
  {
   "cell_type": "code",
   "execution_count": null,
   "metadata": {},
   "outputs": [],
   "source": [
    "X_train.describe()"
   ]
  },
  {
   "cell_type": "markdown",
   "metadata": {},
   "source": [
    "### Load model with best params"
   ]
  },
  {
   "cell_type": "code",
   "execution_count": null,
   "metadata": {},
   "outputs": [],
   "source": [
    "from src.utils.config_loader import load_yaml_config\n",
    "\n",
    "params = load_yaml_config(config_path)\n",
    "\n",
    "forecaster = forecaster_class(**params)"
   ]
  },
  {
   "cell_type": "markdown",
   "metadata": {},
   "source": [
    "### Fit model on training set"
   ]
  },
  {
   "cell_type": "code",
   "execution_count": null,
   "metadata": {},
   "outputs": [],
   "source": [
    "import numpy as np\n",
    "\n",
    "HOURS_TO_PREDICT = 6\n",
    "NUM_STEPS = HOURS_TO_PREDICT * 60 // TIME_STEP_SIZE\n",
    "\n",
    "fh = np.arange(1, NUM_STEPS + 1)\n",
    "\n",
    "forecaster.fit(y=y_train, X=X_train, fh=fh)"
   ]
  },
  {
   "cell_type": "markdown",
   "metadata": {},
   "source": [
    "### Plot predicted glucose levels"
   ]
  },
  {
   "cell_type": "code",
   "execution_count": null,
   "metadata": {},
   "outputs": [],
   "source": [
    "def plot_predicted(ax, forecaster, fh, X_night, test_period):\n",
    "    predicted_bg = forecaster.predict(fh=fh, X=X_night)\n",
    "    ax.plot(test_period.index, predicted_bg, label=\"Predicted glucose levels\")\n",
    "\n",
    "\n",
    "def plot_intervals(ax, forecaster, fh, X_night, test_period):\n",
    "    pred_int = forecaster.predict_interval(fh=fh, X=X_night, coverage=0.95)[0][0.95]\n",
    "    ax.plot(\n",
    "        test_period.index,\n",
    "        pred_int[\"upper\"],\n",
    "        label=\"Predicted upper interval\",\n",
    "        linestyle=\"--\",\n",
    "    )\n",
    "\n",
    "    ax.plot(\n",
    "        test_period.index,\n",
    "        pred_int[\"lower\"],\n",
    "        label=\"Predicted lower interval\",\n",
    "        linestyle=\"--\",\n",
    "    )\n",
    "\n",
    "\n",
    "def plot_quantiles(ax, forecaster, fh, X_night, test_period):\n",
    "    quantiles = [0.95, 0.5, 0.05]\n",
    "    pred_int = forecaster.predict_quantiles(fh=fh, X=X_night, alpha=quantiles)[\n",
    "        \"bg-0:00\"\n",
    "    ]\n",
    "\n",
    "    ax.plot(\n",
    "        test_period.index,\n",
    "        pred_int[0.05],\n",
    "        linestyle=\"--\",\n",
    "        label=\"0.05 quantile\",\n",
    "    )\n",
    "\n",
    "    ax.plot(test_period.index, pred_int[0.50], label=\"0.5 quantile\")\n",
    "\n",
    "    ax.plot(\n",
    "        test_period.index,\n",
    "        pred_int[0.95],\n",
    "        linestyle=\"--\",\n",
    "        label=\"0.95 quantile\",\n",
    "    )"
   ]
  },
  {
   "cell_type": "code",
   "execution_count": null,
   "metadata": {},
   "outputs": [],
   "source": [
    "import matplotlib.pyplot as plt\n",
    "\n",
    "# Create a figure with multiple subplots\n",
    "fig, axes = plt.subplots(nrows=4, ncols=5, figsize=(20, 20))\n",
    "fig.suptitle(\n",
    "    \"Probabilistic forecasting of nocturnal glucose levels over the span of 20 days\"\n",
    ")\n",
    "\n",
    "axes = axes.flatten()  # Flatten the 2D array of axes for easier indexing\n",
    "\n",
    "# Initialize the subplot counter\n",
    "subplot_idx = 0\n",
    "\n",
    "# Loop over each day split and create one plot per day\n",
    "for _, train_period, test_period in loader.get_validation_day_splits(patient):\n",
    "    y_day, X_day = reduce_features(train_period)\n",
    "    y_night, X_night = reduce_features(test_period)\n",
    "\n",
    "    # Update the model with the true glucose levels for the day\n",
    "    forecaster.update(y=y_day, X=X_day, update_params=True)\n",
    "\n",
    "    ######## Plot true glucose levels ########\n",
    "    ax = axes[subplot_idx]\n",
    "    ax.plot(\n",
    "        train_period.index,\n",
    "        y_day[\"bg-0:00\"],\n",
    "        color=\"skyblue\",\n",
    "        label=\"True glucose levels\",\n",
    "    )\n",
    "    ax.plot(\n",
    "        test_period.index,\n",
    "        y_night[\"bg-0:00\"],\n",
    "        color=\"skyblue\",\n",
    "        linestyle=\"--\",\n",
    "        label=\"True nocturnal glucose levels\",\n",
    "    )\n",
    "\n",
    "    ######## Plot predicted glucose levels ########\n",
    "    plot_predicted(ax, forecaster, fh, X_night, test_period)\n",
    "    # plot_intervals(ax, forecaster, fh, X_night, test_period)\n",
    "    # plot_quantiles(ax, forecaster, fh, X_night, test_period)\n",
    "\n",
    "    # Add labels, legend, and formatting for each subplot\n",
    "    ax.set_xlabel(\"Time\", fontsize=10)\n",
    "    ax.set_ylabel(\"BGL\", fontsize=10)\n",
    "    ax.set_ylim(0, 20)  # Set the y-axis limits as needed\n",
    "    ax.legend()\n",
    "    ax.tick_params(axis=\"x\", rotation=45, labelsize=8)\n",
    "\n",
    "    # Update the model with the true glucose levels for the night\n",
    "    forecaster.update(y=y_night, X=X_night, update_params=True)\n",
    "\n",
    "    # Increment the subplot index for the next day\n",
    "    subplot_idx += 1\n",
    "\n",
    "# Adjust layout to avoid overlap\n",
    "plt.tight_layout(pad=2.0)\n",
    "\n",
    "# Show the figure with multiple subplots\n",
    "plt.show()"
   ]
  }
 ],
 "metadata": {
  "kernelspec": {
   "display_name": "env",
   "language": "python",
   "name": "python3"
  },
  "language_info": {
   "codemirror_mode": {
    "name": "ipython",
    "version": 3
   },
   "file_extension": ".py",
   "mimetype": "text/x-python",
   "name": "python",
   "nbconvert_exporter": "python",
   "pygments_lexer": "ipython3",
   "version": "3.12.7"
  }
 },
 "nbformat": 4,
 "nbformat_minor": 2
}
