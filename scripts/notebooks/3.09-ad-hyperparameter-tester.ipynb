{
 "cells": [
  {
   "cell_type": "code",
   "execution_count": 95,
   "metadata": {},
   "outputs": [
    {
     "name": "stdout",
     "output_type": "stream",
     "text": [
      "{'maxlags': [5, 10, 15]}\n"
     ]
    }
   ],
   "source": [
    "import warnings\n",
    "\n",
    "# Change below to the path of your config file\n",
    "config = load_yaml_config(\"../../src/tuning/configs/modset2.yaml\")\n",
    "# Specify the model name you want to test params for (should match as labelled in the config)\n",
    "param_grid = generate_param_grid(\"VAR\", config)\n",
    "warnings.filterwarnings(\"ignore\")"
   ]
  },
  {
   "cell_type": "code",
   "execution_count": null,
   "metadata": {},
   "outputs": [],
   "source": [
    "from src.data.data_loader import load_data\n",
    "from src.data.data_cleaner import clean_data\n",
    "from src.data.data_transforms import create_time_diff_cols\n",
    "\n",
    "df = clean_data(load_data())\n",
    "df = create_time_diff_cols(df)"
   ]
  },
  {
   "cell_type": "code",
   "execution_count": null,
   "metadata": {},
   "outputs": [],
   "source": [
    "# We'll just tune the hyperparams on the first 100 timepoints for patient 1 since we're just testing\n",
    "y = df.iloc[:100][\n",
    "    [\"bg-0:00\", \"insulin-0:00\"]\n",
    "]  # Only want to test the endogenous data right now\n",
    "y"
   ]
  },
  {
   "cell_type": "code",
   "execution_count": null,
   "metadata": {},
   "outputs": [],
   "source": [
    "from sktime.transformations.series.impute import Imputer\n",
    "\n",
    "# Impute missing values\n",
    "transformer = Imputer(method=\"nearest\")\n",
    "transformer.fit(y)\n",
    "y = transformer.transform(y)\n",
    "\n",
    "y"
   ]
  },
  {
   "cell_type": "code",
   "execution_count": 96,
   "metadata": {},
   "outputs": [],
   "source": [
    "# For testing only: this can be used to simplify the dictionary returned by `get_params()`\n",
    "# so that the param grid has only one value for each parameter\n",
    "def simplify_dict(d):\n",
    "    for key, value in d.items():\n",
    "        if isinstance(value, list):\n",
    "            # Keep only the first element of the list (max length 1)\n",
    "            d[key] = [\n",
    "                value[0]\n",
    "            ]  # If you want to test other params, change this to a different index\n",
    "    return d\n",
    "\n",
    "\n",
    "# need this version of the function for DartsXGBModel to work\n",
    "# def simplify_dict(d):\n",
    "#     for key, value in d.items():\n",
    "#         if isinstance(value, list):\n",
    "#             if key == 'lags_past_covariates':\n",
    "#                 # For lags_past_covariates: must be positive integer or list\n",
    "#                 valid_value = next(\n",
    "#                     (v for v in value if v is not None and (isinstance(v, int) or isinstance(v, list))),\n",
    "#                     3  # Default to 3 if no valid value found\n",
    "#                 )\n",
    "#                 d[key] = [valid_value]\n",
    "#             elif key == 'lags_future_covariates':\n",
    "#                 # For lags_future_covariates: must be tuple or list\n",
    "#                 valid_value = next(\n",
    "#                     (v for v in value if v is not None and isinstance(v, list)),\n",
    "#                     [3, 3]  # Default to [3, 3] if no valid value found\n",
    "#                 )\n",
    "#                 d[key] = [valid_value]\n",
    "#             elif key == 'lags':\n",
    "#                 # For lags: similar to lags_past_covariates\n",
    "#                 valid_value = next(\n",
    "#                     (v for v in value if v is not None and (isinstance(v, int) or isinstance(v, list))),\n",
    "#                     3  # Default to 3 if no valid value found\n",
    "#                 )\n",
    "#                 d[key] = [valid_value]\n",
    "#             elif key == 'add_encoders':\n",
    "#                 # For add_encoders: take the first non-None dictionary value\n",
    "#                 valid_value = next(\n",
    "#                     (v for v in value if v is not None and isinstance(v, dict)),\n",
    "#                     {\"cyclic\": {\"future\": [\"month\"]}}  # Default encoder if no valid value found\n",
    "#                 )\n",
    "#                 d[key] = [valid_value]\n",
    "#             else:\n",
    "#                 # For other parameters, take first non-None value if available\n",
    "#                 d[key] = [value[1] if value[0] is None and len(value) > 1 else value[0]]\n",
    "#     return d"
   ]
  },
  {
   "cell_type": "code",
   "execution_count": 97,
   "metadata": {},
   "outputs": [
    {
     "name": "stdout",
     "output_type": "stream",
     "text": [
      "{'maxlags': [5]}\n"
     ]
    }
   ],
   "source": [
    "# To speed up testing we will only test one value for each parameter\n",
    "param_grid = simplify_dict(param_grid)\n",
    "print(param_grid)"
    "# Load all sktime forecasters to be accessible by class name\n",
    "from sktime.registry import all_estimators\n",
    "\n",
    "# Get all forecasting models\n",
    "forecasters = {name: est for name, est in all_estimators(estimator_types=\"forecaster\")}\n",
    "\n",
    "\n",
    "def load_model(model_name):\n",
    "    \"\"\"Loads the sktime model class given the model name\"\"\"\n",
    "    if model_name not in forecasters:\n",
    "        raise ValueError(f\"Model {model_name} not found in sktime\")\n",
    "\n",
    "    ForecasterClass = forecasters[model_name]  # Get the class\n",
    "    return ForecasterClass()  # Instantiate the model"
   ]
  },
  {
   "cell_type": "code",
   "execution_count": 98,
   "metadata": {},
   "outputs": [],
   "source": [
    "from sktime.forecasting.model_selection import ForecastingGridSearchCV\n",
    "from sktime.split import ExpandingSlidingWindowSplitter\n",
    "from sktime.performance_metrics.forecasting import MeanSquaredError\n",
    "from sktime.datasets import load_airline\n",
    "import pandas as pd\n",
    "import numpy as np\n",
    "from sktime.forecasting.var import VAR  # Change this to the model you want to test\n",
    "\n",
    "# Not the actual data we will use, just a placeholder for simple testing\n",
    "# y = load_airline()\n",
    "\n",
    "y_airline = load_airline()  # univariate\n",
    "y2 = y_airline + 10 * np.random.randn(len(y_airline))\n",
    "y_multi = pd.DataFrame({\"airline\": y_airline, \"airline2\": y2})\n",
    "\n",
    "\n",
    "fh = [1, 2, 3, 4, 5, 6]\n",
    "cv = ExpandingSlidingWindowSplitter(\n",
    "    fh=fh, initial_window=12, step_length=12, max_expanding_window_length=24 * 12\n",
    ")\n",
    "\n",
    "# Specify the forecaster you generated the param grid for\n",
    "forecaster = VAR()\n",
    "\n",
    "gscv = ForecastingGridSearchCV(\n",
    "    forecaster=forecaster,\n",
    "    # Simplify the dictionary so only one set of values are tested\n",
    "    param_grid=param_grid,\n",
    "    cv=cv,\n",
    "    scoring=MeanSquaredError(square_root=True),\n",
    "    # Raise errors so we can see what params are causing errors\n",
    "    error_score=\"raise\",\n",
    ")\n",
    "gscv.fit(y_multi, fh=fh)\n",
    "y_pred = gscv.predict(fh)"
    "\n",
    "fh = [1, 2, 3, 4, 5, 6]\n",
    "cv = ExpandingSlidingWindowSplitter(\n",
    "    fh=fh, initial_window=12, step_length=12, max_expanding_window_length=24 * 12\n",
    ")"
   ]
  },
  {
   "cell_type": "code",
   "execution_count": null,
   "metadata": {},
   "outputs": [],
   "source": []
  },
  {
   "cell_type": "code",
   "execution_count": 99,
   "metadata": {},
   "outputs": [
    {
     "data": {
      "text/html": [
       "<div>\n",
       "<style scoped>\n",
       "    .dataframe tbody tr th:only-of-type {\n",
       "        vertical-align: middle;\n",
       "    }\n",
       "\n",
       "    .dataframe tbody tr th {\n",
       "        vertical-align: top;\n",
       "    }\n",
       "\n",
       "    .dataframe thead th {\n",
       "        text-align: right;\n",
       "    }\n",
       "</style>\n",
       "<table border=\"1\" class=\"dataframe\">\n",
       "  <thead>\n",
       "    <tr style=\"text-align: right;\">\n",
       "      <th></th>\n",
       "      <th>airline</th>\n",
       "      <th>airline2</th>\n",
       "    </tr>\n",
       "    <tr>\n",
       "      <th>Period</th>\n",
       "      <th></th>\n",
       "      <th></th>\n",
       "    </tr>\n",
       "  </thead>\n",
       "  <tbody>\n",
       "    <tr>\n",
       "      <th>1961-01</th>\n",
       "      <td>489.279425</td>\n",
       "      <td>486.546922</td>\n",
       "    </tr>\n",
       "    <tr>\n",
       "      <th>1961-02</th>\n",
       "      <td>505.165205</td>\n",
       "      <td>498.169038</td>\n",
       "    </tr>\n",
       "    <tr>\n",
       "      <th>1961-03</th>\n",
       "      <td>515.562224</td>\n",
       "      <td>513.889995</td>\n",
       "    </tr>\n",
       "    <tr>\n",
       "      <th>1961-04</th>\n",
       "      <td>498.213958</td>\n",
       "      <td>496.290932</td>\n",
       "    </tr>\n",
       "    <tr>\n",
       "      <th>1961-05</th>\n",
       "      <td>473.933550</td>\n",
       "      <td>473.563491</td>\n",
       "    </tr>\n",
       "    <tr>\n",
       "      <th>1961-06</th>\n",
       "      <td>462.104740</td>\n",
       "      <td>461.462882</td>\n",
       "    </tr>\n",
       "  </tbody>\n",
       "</table>\n",
       "</div>"
      ],
      "text/plain": [
       "            airline    airline2\n",
       "Period                         \n",
       "1961-01  489.279425  486.546922\n",
       "1961-02  505.165205  498.169038\n",
       "1961-03  515.562224  513.889995\n",
       "1961-04  498.213958  496.290932\n",
       "1961-05  473.933550  473.563491\n",
       "1961-06  462.104740  461.462882"
      ]
     },
     "execution_count": 99,
     "metadata": {},
     "output_type": "execute_result"
    }
   ],
   "source": [
    "from src.utils.config_loader import load_yaml_config\n",
    "\n",
    "# Change below to the path of your config file\n",
    "config = load_yaml_config(\"../../src/tuning/configs/modset1.yaml\")\n",
    "\n",
    "# Specify the model names you want to test params for as labelled in the config\n",
    "# The names should match their sktime class names\n",
    "models = [\"ARIMA\"]"
   ]
  },
  {
   "cell_type": "code",
   "execution_count": 100,
   "metadata": {},
   "outputs": [
    {
     "data": {
      "text/plain": [
       "{'maxlags': 5}"
      ]
     },
     "execution_count": 100,
     "metadata": {},
     "output_type": "execute_result"
    }
   ],
   "source": [
    "from datetime import datetime\n",
    "import pandas as pd\n",
    "\n",
    "from src.tuning.param_grid import generate_param_grid\n",
    "\n",
    "# Keep track of all models tested and log any errors\n",
    "tested_models = []\n",
    "\n",
    "# Loop through all listed models and tune params for the first day of data\n",
    "for model in models:\n",
    "    forecaster = load_model(model)\n",
    "    params = generate_param_grid(model, config)\n",
    "\n",
    "    param_grid = params\n",
    "    gscv = ForecastingGridSearchCV(\n",
    "        forecaster=forecaster,\n",
    "        # Simplify the dictionary so only one set of values are tested\n",
    "        param_grid=param_grid,\n",
    "        cv=cv,\n",
    "        scoring=MeanSquaredError(square_root=True),\n",
    "        # Raise errors so we can see what params are causing errors\n",
    "        error_score=\"raise\",\n",
    "    )\n",
    "\n",
    "    try:\n",
    "        gscv.fit(y[[\"bg-0:00\"]], X=y[[\"insulin-0:00\"]])\n",
    "        tested_models.append(\n",
    "            {\n",
    "                \"model_name\": model,\n",
    "                \"parameters\": str(gscv.best_params_),\n",
    "                \"status\": \"Pass\",\n",
    "                \"datetime\": datetime.now().strftime(\"%Y-%m-%d %H:%M:%S\"),\n",
    "                \"error\": \"\",\n",
    "            }\n",
    "        )\n",
    "    except Exception as e:\n",
    "        tested_models.append(\n",
    "            {\n",
    "                \"model_name\": model,\n",
    "                \"parameters\": str(params),\n",
    "                \"status\": \"Fail\",\n",
    "                \"datetime\": datetime.now().strftime(\"%Y-%m-%d %H:%M:%S\"),\n",
    "                \"error\": str(e),\n",
    "            }\n",
    "        )\n",
    "        continue\n",
    "\n",
    "pd.DataFrame(tested_models).to_csv(\"tuning_results.csv\", index=False)"
   ]
  }
 ],
 "metadata": {
  "kernelspec": {
   "display_name": "nocturnal-venv",
   "language": "python",
   "name": "python3"
  },
  "language_info": {
   "codemirror_mode": {
    "name": "ipython",
    "version": 3
   },
   "file_extension": ".py",
   "mimetype": "text/x-python",
   "name": "python",
   "nbconvert_exporter": "python",
   "pygments_lexer": "ipython3",
   "version": "3.12.6"
  }
 },
 "nbformat": 4,
 "nbformat_minor": 2
}
