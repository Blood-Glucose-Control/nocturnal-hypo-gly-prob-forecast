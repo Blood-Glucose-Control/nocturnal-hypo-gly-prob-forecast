{
 "cells": [
  {
   "cell_type": "code",
   "execution_count": null,
   "metadata": {},
   "outputs": [],
   "source": [
    "from src.utils.config_loader import load_yaml_config\n",
    "from src.tuning.param_grid import generate_param_grid\n",
    "from pprint import pprint as pp\n",
    "\n",
    "config = load_yaml_config(\"../../src/tuning/configs/modset1.yaml\")\n",
    "param_grid = generate_param_grid(\"ARIMA\", config)\n",
    "pp(param_grid)"
   ]
  },
  {
   "cell_type": "code",
   "execution_count": null,
   "metadata": {},
   "outputs": [],
   "source": [
    "# For testing only: this can be used to simplify the dictionary returned by `get_params()`\n",
    "# so that the param grid has only one value for each parameter\n",
    "def simplify_dict(d):\n",
    "    for key, value in d.items():\n",
    "        if isinstance(value, list):\n",
    "            d[key] = value[:1]  # Keep only the first element of the list (max length 1)\n",
    "        #elif isinstance(value, int):\n",
    "            #d[key] = value[:1]  # Keep only the first element of the list (max length 1)\n",
    "    return d"
   ]
  },
  {
   "cell_type": "code",
   "execution_count": null,
   "metadata": {},
   "outputs": [],
   "source": [
    "from sktime.forecasting.model_selection import ForecastingGridSearchCV\n",
    "from sktime.split import ExpandingSlidingWindowSplitter\n",
    "from sktime.performance_metrics.forecasting import MeanSquaredError\n",
    "from sktime.datasets import load_airline\n",
    "from sktime.forecasting.arima import ARIMA\n",
    "\n",
    "y = load_airline()\n",
    "fh = [1, 2, 3, 4, 5, 6]\n",
    "cv = ExpandingSlidingWindowSplitter(\n",
    "    fh=fh, initial_window=12, step_length=12, max_expanding_window_length=24 * 12\n",
    ")\n",
    "forecaster = ARIMA()\n",
    "gscv = ForecastingGridSearchCV(\n",
    "    forecaster=forecaster,\n",
    "    param_grid=simplify_dict(param_grid), # Simplify the dictionary so only first values are tested\n",
    "    cv=cv,\n",
    "    scoring=MeanSquaredError(square_root=True),\n",
    ")\n",
    "gscv.fit(y)\n",
    "y_pred = gscv.predict(fh)"
   ]
  }
 ],
 "metadata": {
  "kernelspec": {
   "display_name": "env",
   "language": "python",
   "name": "python3"
  },
  "language_info": {
   "codemirror_mode": {
    "name": "ipython",
    "version": 3
   },
   "file_extension": ".py",
   "mimetype": "text/x-python",
   "name": "python",
   "nbconvert_exporter": "python",
   "pygments_lexer": "ipython3",
   "version": "3.12.7"
  }
 },
 "nbformat": 4,
 "nbformat_minor": 2
}
