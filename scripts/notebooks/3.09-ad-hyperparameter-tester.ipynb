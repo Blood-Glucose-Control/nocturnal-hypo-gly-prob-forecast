{
 "cells": [
  {
   "cell_type": "code",
   "execution_count": null,
   "metadata": {},
   "outputs": [],
   "source": [
    "from src.utils.config_loader import load_yaml_config\n",
    "from src.tuning.param_grid import generate_param_grid\n",
    "from pprint import pprint as pp\n",
    "\n",
    "# Change below to the path of your config file\n",
    "config = load_yaml_config(\"../../src/tuning/configs/modset1.yaml\")\n",
    "# Specify the model name you want to test params for (should match as labelled in the config)\n",
    "param_grid = generate_param_grid(\"ARIMA\", config)\n",
    "\n",
    "pp(param_grid)"
   ]
  },
  {
   "cell_type": "code",
   "execution_count": null,
   "metadata": {},
   "outputs": [],
   "source": [
    "# For testing only: this can be used to simplify the dictionary returned by `get_params()`\n",
    "# so that the param grid has only one value for each parameter\n",
    "def simplify_dict(d):\n",
    "    for key, value in d.items():\n",
    "        if isinstance(value, list):\n",
    "            # Keep only the first element of the list (max length 1)\n",
    "            d[key] = [value[0]]\t# If you want to test other params, change this to a different index\n",
    "    return d"
   ]
  },
  {
   "cell_type": "code",
   "execution_count": null,
   "metadata": {},
   "outputs": [],
   "source": [
    "# To speed up testing we will only test one value for each parameter\n",
    "param_grid = simplify_dict(param_grid)\n",
    "param_grid"
   ]
  },
  {
   "cell_type": "code",
   "execution_count": null,
   "metadata": {},
   "outputs": [],
   "source": [
    "from sktime.forecasting.model_selection import ForecastingGridSearchCV\n",
    "from sktime.split import ExpandingSlidingWindowSplitter\n",
    "from sktime.performance_metrics.forecasting import MeanSquaredError\n",
    "from sktime.datasets import load_airline\n",
    "from sktime.forecasting.arima import ARIMA  # Change this to the model you want to test\n",
    "\n",
    "# Not the actual data we will use, just a placeholder for simple testing\n",
    "y = load_airline()\n",
    "fh = [1, 2, 3, 4, 5, 6]\n",
    "cv = ExpandingSlidingWindowSplitter(\n",
    "    fh=fh, initial_window=12, step_length=12, max_expanding_window_length=24 * 12\n",
    ")\n",
    "\n",
    "# Specify the forecaster you generated the param grid for\n",
    "forecaster = ARIMA()\n",
    "\n",
    "gscv = ForecastingGridSearchCV(\n",
    "    forecaster=forecaster,\n",
    "    # Simplify the dictionary so only one set of values are tested\n",
    "    param_grid=param_grid,\n",
    "    cv=cv,\n",
    "    scoring=MeanSquaredError(square_root=True),\n",
    "\t# Raise errors so we can see what params are causing errors\n",
    "    error_score=\"raise\",\n",
    ")\n",
    "gscv.fit(y)\n",
    "y_pred = gscv.predict(fh)"
   ]
  },
  {
   "cell_type": "code",
   "execution_count": null,
   "metadata": {},
   "outputs": [],
   "source": [
    "y_pred"
   ]
  },
  {
   "cell_type": "code",
   "execution_count": null,
   "metadata": {},
   "outputs": [],
   "source": [
    "gscv.best_params_"
   ]
  }
 ],
 "metadata": {
  "kernelspec": {
   "display_name": "env",
   "language": "python",
   "name": "python3"
  },
  "language_info": {
   "codemirror_mode": {
    "name": "ipython",
    "version": 3
   },
   "file_extension": ".py",
   "mimetype": "text/x-python",
   "name": "python",
   "nbconvert_exporter": "python",
   "pygments_lexer": "ipython3",
   "version": "3.12.7"
  }
 },
 "nbformat": 4,
 "nbformat_minor": 2
}
