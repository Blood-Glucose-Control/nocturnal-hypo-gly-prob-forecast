{
 "cells": [
  {
   "cell_type": "code",
   "execution_count": null,
   "metadata": {},
   "outputs": [],
   "source": [
    "%load_ext autoreload\n",
    "%autoreload 2\n",
    "\n",
    "import os\n",
    "import sys\n",
    "module_path = os.path.abspath(os.path.join('../../'))\n",
    "sys.path.insert(0, module_path)"
   ]
  },
  {
   "cell_type": "code",
   "execution_count": null,
   "metadata": {},
   "outputs": [],
   "source": [
    "from src.data.data_loader import load_data\n",
    "\n",
    "# Load the data with specified columns\n",
    "df = load_data(data_source_name=\"kaggle_brisT1D\", dataset_type=\"train\")"
   ]
  },
  {
   "cell_type": "code",
   "execution_count": null,
   "metadata": {},
   "outputs": [],
   "source": [
    "import polars as pl\n",
    "\n",
    "polars_df = pl.DataFrame(df)\n",
    "\n",
    "# Melt (unpivot) data for each patient\n",
    "patient_ids = df[\"p_num\"].unique()\n",
    "for p_id in patient_ids:\n",
    "    patient_df = polars_df.filter(pl.col(\"p_num\") == p_id)\n",
    "    melted_patient_df = (\n",
    "        patient_df.melt(\n",
    "            id_vars=[\"id\", \"p_num\", \"time\"],\n",
    "            variable_name=\"feature_offset\",\n",
    "            value_name=\"value\"\n",
    "        )\n",
    "        .with_columns([\n",
    "            pl.col(\"feature_offset\").str.extract(r\"^(\\w+)\").alias(\"feature\"),\n",
    "            pl.col(\"feature_offset\").str.extract(r\"([+-].+)\").alias(\"offset\"),\n",
    "        ])\n",
    "        .drop(\"feature_offset\")\n",
    "    )\n",
    "\n",
    "    print(melted_patient_df.head())\n",
    "    melted_patient_df.write_parquet(f\"melted_{p_id}.parquet\")\n",
    "\n"
   ]
  },
  {
   "cell_type": "code",
   "execution_count": null,
   "metadata": {},
   "outputs": [],
   "source": [
    "import glob\n",
    "\n",
    "# Clean and pivot melted data\n",
    "# All features (bg, insulin, etc) in feature col become their own col again\n",
    "parquet_files = glob.glob(\"melted_*.parquet\")\n",
    "for file in parquet_files:\n",
    "    melted_df = pl.read_parquet(file)\n",
    "    cleaned_df = melted_df.pivot(\n",
    "        index=[\"id\", \"time\", \"offset\"],\n",
    "        columns=\"feature\",\n",
    "        values=\"value\",\n",
    "        aggregate_function=\"first\",\n",
    "    )\n",
    "    cleaned_file = file.replace(\"melted_\", \"cleaned_\")\n",
    "    cleaned_df.write_parquet(cleaned_file)"
   ]
  },
  {
   "cell_type": "code",
   "execution_count": null,
   "metadata": {},
   "outputs": [],
   "source": [
    "# Display cleaned data\n",
    "parquet_files = glob.glob(\"cleaned_*.parquet\")\n",
    "for file in parquet_files:\n",
    "    cleaned_df = pl.read_parquet(file)\n",
    "    non_empty = cleaned_df.filter(\n",
    "        pl.col(\"bg\").is_not_null()\n",
    "    )\n",
    "    print(f'patient {file.split(\".\")[0].split(\"_\")[1]}')\n",
    "    print(non_empty.head(20))\n",
    "    print(cleaned_df.columns)"
   ]
  },
  {
   "cell_type": "code",
   "execution_count": null,
   "metadata": {},
   "outputs": [],
   "source": []
  }
 ],
 "metadata": {
  "kernelspec": {
   "display_name": "env",
   "language": "python",
   "name": "python3"
  },
  "language_info": {
   "codemirror_mode": {
    "name": "ipython",
    "version": 3
   },
   "file_extension": ".py",
   "mimetype": "text/x-python",
   "name": "python",
   "nbconvert_exporter": "python",
   "pygments_lexer": "ipython3",
   "version": "3.9.6"
  }
 },
 "nbformat": 4,
 "nbformat_minor": 2
}
