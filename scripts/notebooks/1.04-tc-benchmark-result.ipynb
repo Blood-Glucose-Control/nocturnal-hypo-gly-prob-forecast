{
 "cells": [
  {
   "cell_type": "code",
   "execution_count": 4,
   "metadata": {},
   "outputs": [],
   "source": [
    "import pandas as pd\n",
    "\n",
    "result_path = \"../../results/processed/2025-02-17_16-23-05_0_arma_05min.csv\"\n",
    "results = pd.read_csv(result_path)"
   ]
  },
  {
   "cell_type": "code",
   "execution_count": 11,
   "metadata": {},
   "outputs": [
    {
     "name": "stdout",
     "output_type": "stream",
     "text": [
      "\n",
      "Top 5 models for patient_0:\n",
      "1. VARReduce-regressor_Ridge()-lags_115 (MSE: 2.1241)\n",
      "2. VARReduce-regressor_Ridge()-lags_118 (MSE: 2.1242)\n",
      "3. VARReduce-regressor_Ridge()-lags_120 (MSE: 2.1242)\n",
      "4. VARReduce-regressor_Ridge()-lags_108 (MSE: 2.1244)\n",
      "5. VARReduce-regressor_LinearRegression()-lags_115 (MSE: 2.1245)\n",
      "\n",
      "Top 5 models for patient_1:\n",
      "1. VARReduce-regressor_Ridge()-lags_65 (MSE: 2.7520)\n",
      "2. VARReduce-regressor_LinearRegression()-lags_65 (MSE: 2.7524)\n",
      "3. VARReduce-regressor_Ridge()-lags_60 (MSE: 2.7546)\n",
      "4. VARReduce-regressor_LinearRegression()-lags_60 (MSE: 2.7549)\n",
      "5. VARReduce-regressor_Ridge()-lags_63 (MSE: 2.7556)\n",
      "\n",
      "Top 5 models for patient_2:\n",
      "1. VARReduce-regressor_Ridge()-lags_72 (MSE: 1.7635)\n",
      "2. VARReduce-regressor_LinearRegression()-lags_71 (MSE: 1.7636)\n",
      "3. VARReduce-regressor_LinearRegression()-lags_72 (MSE: 1.7640)\n",
      "4. VARReduce-regressor_Ridge()-lags_71 (MSE: 1.7640)\n",
      "5. VARReduce-regressor_Ridge()-lags_73 (MSE: 1.7642)\n",
      "\n",
      "Top 5 models for patient_3:\n",
      "1. VARReduce-regressor_Ridge()-lags_12 (MSE: 1.3039)\n",
      "2. VARReduce-regressor_LinearRegression()-lags_12 (MSE: 1.3041)\n",
      "3. VARReduce-regressor_Ridge()-lags_13 (MSE: 1.3046)\n",
      "4. VARReduce-regressor_LinearRegression()-lags_13 (MSE: 1.3048)\n",
      "5. VARReduce-regressor_Ridge()-lags_14 (MSE: 1.3062)\n",
      "\n",
      "Top 5 models for patient_4:\n",
      "1. VARReduce-regressor_LinearRegression()-lags_151 (MSE: 2.5432)\n",
      "2. VARReduce-regressor_Ridge()-lags_151 (MSE: 2.5435)\n",
      "3. VARReduce-regressor_LinearRegression()-lags_26 (MSE: 2.5453)\n",
      "4. VARReduce-regressor_Ridge()-lags_26 (MSE: 2.5455)\n",
      "5. VARReduce-regressor_LinearRegression()-lags_25 (MSE: 2.5457)\n",
      "\n",
      "Top 5 models for patient_5:\n",
      "1. VARReduce-regressor_Ridge()-lags_140 (MSE: 2.1961)\n",
      "2. VARReduce-regressor_LinearRegression()-lags_140 (MSE: 2.1964)\n",
      "3. VARReduce-regressor_Ridge()-lags_141 (MSE: 2.1992)\n",
      "4. VARReduce-regressor_LinearRegression()-lags_142 (MSE: 2.1992)\n",
      "5. VARReduce-regressor_Ridge()-lags_142 (MSE: 2.1993)\n"
     ]
    }
   ],
   "source": [
    "for patient_id in results[\"validation_id\"].unique():\n",
    "    patient_results = results[results[\"validation_id\"] == patient_id]\n",
    "\n",
    "    top5_models = patient_results.nsmallest(5, \"MeanSquaredError_mean\")\n",
    "\n",
    "    print(f\"\\nTop 5 models for {patient_id}:\")\n",
    "    for i, (_, row) in enumerate(top5_models.iterrows(), 1):\n",
    "        print(f\"{i}. {row['model_id']} (MSE: {row['MeanSquaredError_mean']:.4f})\")"
   ]
  },
  {
   "cell_type": "code",
   "execution_count": null,
   "metadata": {},
   "outputs": [],
   "source": []
  }
 ],
 "metadata": {
  "kernelspec": {
   "display_name": ".noctprob-venv",
   "language": "python",
   "name": "python3"
  },
  "language_info": {
   "codemirror_mode": {
    "name": "ipython",
    "version": 3
   },
   "file_extension": ".py",
   "mimetype": "text/x-python",
   "name": "python",
   "nbconvert_exporter": "python",
   "pygments_lexer": "ipython3",
   "version": "3.12.3"
  }
 },
 "nbformat": 4,
 "nbformat_minor": 2
}
