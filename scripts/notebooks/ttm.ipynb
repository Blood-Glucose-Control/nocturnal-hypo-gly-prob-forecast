{
 "cells": [
  {
   "cell_type": "markdown",
   "id": "1931f4ea",
   "metadata": {},
   "source": [
    "### Download the package\n",
    "```pip install \"granite-tsfm[notebooks] @ git+https://github.com/ibm-granite/granite-tsfm.git@v0.2.22\"```"
   ]
  },
  {
   "cell_type": "code",
   "execution_count": 1,
   "id": "c52c25ef",
   "metadata": {},
   "outputs": [],
   "source": [
    "import math\n",
    "import os\n",
    "import random\n",
    "\n",
    "import pandas as pd\n",
    "from torch.optim import AdamW\n",
    "from torch.optim.lr_scheduler import OneCycleLR\n",
    "from transformers import Trainer, TrainingArguments\n",
    "from transformers.integrations import INTEGRATION_TO_CALLBACK\n",
    "\n",
    "from tsfm_public import (\n",
    "    TimeSeriesPreprocessor,\n",
    "    TrackingCallback,\n",
    "    count_parameters,\n",
    "    get_datasets,\n",
    ")\n",
    "from tsfm_public.toolkit.get_model import get_model\n",
    "from tsfm_public.toolkit.lr_finder import optimal_lr_finder\n",
    "from tsfm_public.toolkit.visualization import plot_predictions\n",
    "from tsfm_public.toolkit.time_series_preprocessor import DEFAULT_FREQUENCY_MAPPING"
   ]
  },
  {
   "cell_type": "markdown",
   "id": "73b70eb3",
   "metadata": {},
   "source": [
    "### Load data"
   ]
  },
  {
   "cell_type": "code",
   "execution_count": 2,
   "id": "f8332c0a",
   "metadata": {},
   "outputs": [
    {
     "name": "stderr",
     "output_type": "stream",
     "text": [
      "INFO:p-40208:t-8767966336:bris_t1d.py:load_data:============================================================\n",
      "INFO:p-40208:t-8767966336:bris_t1d.py:load_data:Beginning data loading process with the following parmeters:\n",
      "INFO:p-40208:t-8767966336:bris_t1d.py:load_data:\tDataset: kaggle_brisT1D - train\n",
      "INFO:p-40208:t-8767966336:bris_t1d.py:load_data:\tColumns: None\n",
      "INFO:p-40208:t-8767966336:bris_t1d.py:load_data:\tGeneric patient start date: 2024-01-01 00:00:00\n",
      "INFO:p-40208:t-8767966336:bris_t1d.py:load_data:\tNumber of validation days: 20\n",
      "INFO:p-40208:t-8767966336:bris_t1d.py:load_data:\tIn parallel with up to 3 workers.\n",
      "\n",
      "INFO:p-40208:t-8767966336:cache_manager.py:get_processed_data_path:Processed data path for kaggle_brisT1D: /Users/tonychan/GlucoseML/nocturnal-hypo-gly-prob-forecast/cache/data/kaggle_brisT1D/processed\n"
     ]
    },
    {
     "name": "stderr",
     "output_type": "stream",
     "text": [
      "INFO:p-40208:t-8767966336:bris_t1d.py:load_data:Loaded full processed data from cache for 9 patients\n",
      "INFO:p-40208:t-8767966336:cache_manager.py:get_processed_data_path:Processed data path for kaggle_brisT1D: /Users/tonychan/GlucoseML/nocturnal-hypo-gly-prob-forecast/cache/data/kaggle_brisT1D/processed\n",
      "INFO:p-40208:t-8767966336:bris_t1d.py:_split_train_validation:Loaded existing train/validation split from cache for 9 patients\n"
     ]
    }
   ],
   "source": [
    "from src.data.diabetes_datasets.kaggle_bris_t1d.bris_t1d import BrisT1DDataLoader\n",
    "\n",
    "loader = BrisT1DDataLoader(use_cached=True)\n",
    "# TODO:TONY - Not sure why it is still processing even if use_cached is True"
   ]
  },
  {
   "cell_type": "markdown",
   "id": "113189b3",
   "metadata": {},
   "source": [
    "### Arguments configuration"
   ]
  },
  {
   "cell_type": "code",
   "execution_count": 3,
   "id": "e9753426",
   "metadata": {},
   "outputs": [],
   "source": [
    "# Try out r1 too\n",
    "# This can also be a path to a checkpoint\n",
    "TTM_MODEL_PATH = \"ibm-granite/granite-timeseries-ttm-r2\"\n",
    "\n",
    "\n",
    "# 100 for full-shot\n",
    "FEWSHOT_PERCENT = 100\n",
    "CONTEXT_LENGTH = 512\n",
    "PREDICTION_LENGTH = 96\n",
    "\n",
    "# Which resolution to train on (15 or 5)\n",
    "RESOLUTION_MIN = 5\n",
    "\n",
    "current_time = pd.Timestamp.now().strftime(\"%Y-%m-%d_%H-%M-%S\")\n",
    "interval = f\"{RESOLUTION_MIN}mins\"\n",
    "\n",
    "# Where to save the checkpoint\n",
    "OUT_DIR = f\"../../models/ttm/kaggle_brisT1D/{interval}/{current_time}\""
   ]
  },
  {
   "cell_type": "markdown",
   "id": "2a5fafdb",
   "metadata": {},
   "source": [
    "### Data processing for ttm"
   ]
  },
  {
   "cell_type": "code",
   "execution_count": 4,
   "id": "6917e99d",
   "metadata": {},
   "outputs": [
    {
     "name": "stdout",
     "output_type": "stream",
     "text": [
      "Processing patient p04...\n",
      "Processing patient p12...\n",
      "Processing patient p03...\n",
      "Processing patient p02...\n",
      "Processing patient p10...\n",
      "Processing patient p11...\n",
      "['p04' 'p12' 'p03' 'p02' 'p10' 'p11']\n"
     ]
    }
   ],
   "source": [
    "from src.tuning.benchmark import impute_missing_values\n",
    "\n",
    "y_feature = [\"bg_mM\"]\n",
    "x_features = [\"steps\", \"cob\", \"carb_availability\", \"insulin_availability\", \"iob\"]\n",
    "\n",
    "# datetime is the index column...\n",
    "timestamp_column = \"datetime\"\n",
    "\n",
    "# exogenous features\n",
    "column_specifiers = {\n",
    "    \"timestamp_column\": timestamp_column,\n",
    "    \"id_columns\": [\"id\"],\n",
    "    \"target_columns\": y_feature,\n",
    "    \"control_columns\": x_features,\n",
    "}\n",
    "\n",
    "data_dict = loader.processed_data\n",
    "\n",
    "\n",
    "def reduce_features_multi_patient(patients_dict, interval=RESOLUTION_MIN):\n",
    "    \"\"\"\n",
    "    Process each patient's data separately to avoid datetime index issues\n",
    "    \"\"\"\n",
    "    processed_patients = []\n",
    "\n",
    "    for patient_id, df in patients_dict.items():\n",
    "        # Check if patient has the correct interval\n",
    "        if (df.index[1] - df.index[0]).components.minutes == interval:\n",
    "            print(f\"Processing patient {patient_id}...\")\n",
    "            # Process each patient individually\n",
    "            p_df = df.iloc[:]\n",
    "            p_df = p_df[x_features + y_feature]\n",
    "            # Impute missing values for this patient\n",
    "            p_df = impute_missing_values(p_df, columns=x_features)\n",
    "            p_df = impute_missing_values(p_df, columns=y_feature)\n",
    "            p_df[\"id\"] = patient_id\n",
    "            processed_patients.append(p_df)\n",
    "\n",
    "    return pd.concat(processed_patients)\n",
    "\n",
    "\n",
    "# Use this instead of combining all patients first\n",
    "all_patients_df = reduce_features_multi_patient(data_dict)\n",
    "\n",
    "# datetime has to be a column\n",
    "data = all_patients_df.reset_index()\n",
    "\n",
    "# Train/val/test split\n",
    "data_length = len(data)\n",
    "split_config = {\n",
    "    \"train\": 0.7,  # 70% for training\n",
    "    \"test\": 0.2,  # 20% for testing (10% auto-assigned to validation)\n",
    "}\n",
    "print(data[\"id\"].unique())"
   ]
  },
  {
   "cell_type": "markdown",
   "id": "63b2bd43",
   "metadata": {},
   "source": [
    "## Few-shot / Full-shot settings"
   ]
  },
  {
   "cell_type": "code",
   "execution_count": null,
   "id": "21d9fec3",
   "metadata": {},
   "outputs": [
    {
     "name": "stderr",
     "output_type": "stream",
     "text": [
      "INFO:p-40208:t-8767966336:get_model.py:get_model:Loading model from: ibm-granite/granite-timeseries-ttm-r2\n"
     ]
    },
    {
     "name": "stdout",
     "output_type": "stream",
     "text": [
      "-------------------- Running few-shot 100% --------------------\n"
     ]
    },
    {
     "name": "stderr",
     "output_type": "stream",
     "text": [
      "INFO:p-40208:t-8767966336:get_model.py:get_model:Model loaded successfully from ibm-granite/granite-timeseries-ttm-r2, revision = main.\n",
      "INFO:p-40208:t-8767966336:get_model.py:get_model:[TTM] context_length = 512, prediction_length = 96\n"
     ]
    },
    {
     "name": "stdout",
     "output_type": "stream",
     "text": [
      "Number of params before freezing backbone 805280\n",
      "Number of params after freezing the backbone 289696\n",
      "Using learning rate = 0.001\n"
     ]
    }
   ],
   "source": [
    "def get_finetune_trainer(\n",
    "    dataset_name,\n",
    "    model_path,\n",
    "    batch_size,  # TODO:TONY - This will need to be dynamic\n",
    "    learning_rate=None,\n",
    "    context_length=CONTEXT_LENGTH,\n",
    "    forecast_length=PREDICTION_LENGTH,\n",
    "    fewshot_percent=5,\n",
    "    freeze_backbone=True,\n",
    "    num_epochs=50,\n",
    "    save_dir=OUT_DIR,\n",
    "    loss=\"mse\",  # TODO:TONY - Try out Pinball loss too\n",
    "    quantile=0.5,\n",
    "    use_cpu=False,\n",
    "):\n",
    "    out_dir = os.path.join(save_dir, dataset_name)\n",
    "\n",
    "    print(\"-\" * 20, f\"Running few-shot {fewshot_percent}%\", \"-\" * 20)\n",
    "\n",
    "    tsp = TimeSeriesPreprocessor(\n",
    "        **column_specifiers,\n",
    "        context_length=context_length,\n",
    "        prediction_length=forecast_length,\n",
    "        scaling=True,\n",
    "        encode_categorical=False,\n",
    "        scaler_type=\"standard\",\n",
    "    )\n",
    "\n",
    "    finetune_forecast_model = get_model(\n",
    "        model_path,\n",
    "        context_length=context_length,\n",
    "        prediction_length=forecast_length,\n",
    "        freq_prefix_tuning=False,\n",
    "        freq=DEFAULT_FREQUENCY_MAPPING[f\"{RESOLUTION_MIN}min\"],\n",
    "        prefer_l1_loss=False,\n",
    "        prefer_longer_context=True,\n",
    "        # Can also provide TTM Config args\n",
    "        loss=loss,\n",
    "        quantile=quantile,\n",
    "    )\n",
    "\n",
    "    # TODO:TONY - Pull this out of the function\n",
    "    # TODO:TONY - Check the shape of this function\n",
    "    dset_train, dset_val, dset_test = get_datasets(\n",
    "        tsp,\n",
    "        data,\n",
    "        split_config,\n",
    "        fewshot_fraction=fewshot_percent / 100,\n",
    "        fewshot_location=\"last\",  # Take the last x percent of the training data\n",
    "        use_frequency_token=finetune_forecast_model.config.resolution_prefix_tuning,\n",
    "    )\n",
    "\n",
    "    if freeze_backbone:\n",
    "        print(\n",
    "            \"Number of params before freezing backbone\",\n",
    "            count_parameters(finetune_forecast_model),\n",
    "        )\n",
    "\n",
    "        # Freeze the backbone of the model\n",
    "        for param in finetune_forecast_model.backbone.parameters():\n",
    "            param.requires_grad = False\n",
    "\n",
    "        # Count params\n",
    "        print(\n",
    "            \"Number of params after freezing the backbone\",\n",
    "            count_parameters(finetune_forecast_model),\n",
    "        )\n",
    "\n",
    "    # Find optimal learning rate\n",
    "    # Use with caution: Set it manually if the suggested learning rate is not suitable\n",
    "    if learning_rate is None:\n",
    "        learning_rate, finetune_forecast_model = optimal_lr_finder(\n",
    "            finetune_forecast_model,\n",
    "            dset_train,\n",
    "            batch_size=batch_size,\n",
    "        )\n",
    "        print(\"OPTIMAL SUGGESTED LEARNING RATE =\", learning_rate)\n",
    "\n",
    "    print(f\"Using learning rate = {learning_rate}\")\n",
    "    finetune_forecast_args = TrainingArguments(\n",
    "        output_dir=os.path.join(out_dir, \"output\"),\n",
    "        overwrite_output_dir=True,\n",
    "        learning_rate=learning_rate,\n",
    "        num_train_epochs=num_epochs,\n",
    "        do_eval=True,\n",
    "        eval_strategy=\"epoch\",\n",
    "        per_device_train_batch_size=batch_size,\n",
    "        per_device_eval_batch_size=batch_size,\n",
    "        dataloader_num_workers=8,\n",
    "        report_to=\"none\",\n",
    "        save_strategy=\"epoch\",\n",
    "        logging_strategy=\"epoch\",\n",
    "        save_total_limit=100,\n",
    "        logging_dir=os.path.join(\n",
    "            out_dir, \"logs\"\n",
    "        ),  # Make sure to specify a logging directory\n",
    "        load_best_model_at_end=True,  # Load the best model when training ends\n",
    "        metric_for_best_model=\"eval_loss\",  # Metric to monitor for early stopping\n",
    "        greater_is_better=False,  # For loss\n",
    "        use_cpu=use_cpu,\n",
    "    )\n",
    "\n",
    "    # Create the early stopping callback\n",
    "    # early_stopping_callback = EarlyStoppingCallback(\n",
    "    #     early_stopping_patience=10,  # Number of epochs with no improvement after which to stop\n",
    "    #     early_stopping_threshold=1e-5,  # Minimum improvement required to consider as improvement\n",
    "    # )\n",
    "    tracking_callback = TrackingCallback()\n",
    "\n",
    "    # Optimizer and scheduler\n",
    "    optimizer = AdamW(finetune_forecast_model.parameters(), lr=learning_rate)\n",
    "    scheduler = OneCycleLR(\n",
    "        optimizer,\n",
    "        learning_rate,\n",
    "        epochs=num_epochs,\n",
    "        steps_per_epoch=math.ceil(len(dset_train) / (batch_size)),\n",
    "    )\n",
    "\n",
    "    finetune_forecast_trainer = Trainer(\n",
    "        model=finetune_forecast_model,\n",
    "        args=finetune_forecast_args,\n",
    "        train_dataset=dset_train,\n",
    "        eval_dataset=dset_val,\n",
    "        callbacks=[\n",
    "            # TODO:TONY - Remove early stopping for now\n",
    "            # early_stopping_callback,\n",
    "            tracking_callback\n",
    "        ],\n",
    "        optimizers=(optimizer, scheduler),\n",
    "    )\n",
    "    finetune_forecast_trainer.remove_callback(INTEGRATION_TO_CALLBACK[\"codecarbon\"])\n",
    "\n",
    "    return finetune_forecast_trainer, dset_test\n",
    "\n",
    "\n",
    "# From the doc string, I think this is the percentage of the training data to use for few shot finetuning\n",
    "dataset_name = f\"{RESOLUTION_MIN}min_patients\"\n",
    "finetune_forecast_trainer, dset_test = get_finetune_trainer(\n",
    "    model_path=TTM_MODEL_PATH,\n",
    "    dataset_name=dataset_name,\n",
    "    context_length=CONTEXT_LENGTH,\n",
    "    forecast_length=PREDICTION_LENGTH,\n",
    "    batch_size=64,\n",
    "    fewshot_percent=FEWSHOT_PERCENT,\n",
    "    learning_rate=0.001,\n",
    "    save_dir=OUT_DIR,\n",
    ")"
   ]
  },
  {
   "cell_type": "markdown",
   "id": "94a51ca1",
   "metadata": {},
   "source": [
    "### Start the finetune"
   ]
  },
  {
   "cell_type": "code",
   "execution_count": 9,
   "id": "b4b3f04f",
   "metadata": {},
   "outputs": [
    {
     "name": "stdout",
     "output_type": "stream",
     "text": [
      "{'loss': 0.8596, 'grad_norm': 0.5748658776283264, 'learning_rate': 5.0489998773502296e-05, 'epoch': 1.0}\n",
      "{'eval_loss': 0.8879503607749939, 'eval_runtime': 69.6458, 'eval_samples_per_second': 215.246, 'eval_steps_per_second': 3.374, 'epoch': 1.0}\n",
      "{'loss': 0.8377, 'grad_norm': 0.4806883931159973, 'learning_rate': 8.150149478455891e-05, 'epoch': 2.0}\n",
      "{'eval_loss': 0.8808636665344238, 'eval_runtime': 69.3982, 'eval_samples_per_second': 216.014, 'eval_steps_per_second': 3.386, 'epoch': 2.0}\n",
      "{'loss': 0.8298, 'grad_norm': 0.7164957523345947, 'learning_rate': 0.00013167902738683466, 'epoch': 3.0}\n",
      "{'eval_loss': 0.8772957921028137, 'eval_runtime': 70.7651, 'eval_samples_per_second': 211.842, 'eval_steps_per_second': 3.321, 'epoch': 3.0}\n",
      "{'loss': 0.8238, 'grad_norm': 0.4873969852924347, 'learning_rate': 0.0001988294205159325, 'epoch': 4.0}\n",
      "{'eval_loss': 0.8743990659713745, 'eval_runtime': 70.2361, 'eval_samples_per_second': 213.437, 'eval_steps_per_second': 3.346, 'epoch': 4.0}\n",
      "{'loss': 0.8197, 'grad_norm': 0.5487491488456726, 'learning_rate': 0.0002800176427486676, 'epoch': 5.0}\n",
      "{'eval_loss': 0.8736287355422974, 'eval_runtime': 69.4633, 'eval_samples_per_second': 215.812, 'eval_steps_per_second': 3.383, 'epoch': 5.0}\n",
      "{'loss': 0.817, 'grad_norm': 0.7091041803359985, 'learning_rate': 0.00037169509261985526, 'epoch': 6.0}\n",
      "{'eval_loss': 0.8778728246688843, 'eval_runtime': 70.5652, 'eval_samples_per_second': 212.442, 'eval_steps_per_second': 3.33, 'epoch': 6.0}\n",
      "{'loss': 0.8159, 'grad_norm': 0.5130015015602112, 'learning_rate': 0.0004698547020598852, 'epoch': 7.0}\n",
      "{'eval_loss': 0.872166633605957, 'eval_runtime': 345.0163, 'eval_samples_per_second': 43.45, 'eval_steps_per_second': 0.681, 'epoch': 7.0}\n",
      "{'loss': 0.8149, 'grad_norm': 0.5782470107078552, 'learning_rate': 0.0005702060786411177, 'epoch': 8.0}\n",
      "{'eval_loss': 0.881248414516449, 'eval_runtime': 68.6181, 'eval_samples_per_second': 218.47, 'eval_steps_per_second': 3.425, 'epoch': 8.0}\n",
      "{'loss': 0.8146, 'grad_norm': 0.823068380355835, 'learning_rate': 0.0006683630314583186, 'epoch': 9.0}\n",
      "{'eval_loss': 0.8789583444595337, 'eval_runtime': 68.955, 'eval_samples_per_second': 217.403, 'eval_steps_per_second': 3.408, 'epoch': 9.0}\n",
      "{'loss': 0.8142, 'grad_norm': 0.5712894797325134, 'learning_rate': 0.0007600352842003909, 'epoch': 10.0}\n",
      "{'eval_loss': 0.875373899936676, 'eval_runtime': 69.2138, 'eval_samples_per_second': 216.59, 'eval_steps_per_second': 3.395, 'epoch': 10.0}\n",
      "{'loss': 0.8138, 'grad_norm': 0.4478702247142792, 'learning_rate': 0.000841215995955549, 'epoch': 11.0}\n",
      "{'eval_loss': 0.8771384954452515, 'eval_runtime': 68.499, 'eval_samples_per_second': 218.85, 'eval_steps_per_second': 3.431, 'epoch': 11.0}\n",
      "{'loss': 0.8133, 'grad_norm': 0.5072460770606995, 'learning_rate': 0.0009083568935290278, 'epoch': 12.0}\n",
      "{'eval_loss': 0.875823438167572, 'eval_runtime': 68.9155, 'eval_samples_per_second': 217.527, 'eval_steps_per_second': 3.41, 'epoch': 12.0}\n",
      "{'loss': 0.8127, 'grad_norm': 0.5849527716636658, 'learning_rate': 0.0009585233605325039, 'epoch': 13.0}\n",
      "{'eval_loss': 0.8817387223243713, 'eval_runtime': 69.0611, 'eval_samples_per_second': 217.069, 'eval_steps_per_second': 3.403, 'epoch': 13.0}\n",
      "{'loss': 0.8117, 'grad_norm': 0.5288981795310974, 'learning_rate': 0.0009895227045604047, 'epoch': 14.0}\n",
      "{'eval_loss': 0.8806368708610535, 'eval_runtime': 70.5901, 'eval_samples_per_second': 212.367, 'eval_steps_per_second': 3.329, 'epoch': 14.0}\n",
      "{'loss': 0.8108, 'grad_norm': 0.7370110750198364, 'learning_rate': 0.0009999999992556623, 'epoch': 15.0}\n",
      "{'eval_loss': 0.8772546648979187, 'eval_runtime': 70.7366, 'eval_samples_per_second': 211.927, 'eval_steps_per_second': 3.322, 'epoch': 15.0}\n",
      "{'loss': 0.8086, 'grad_norm': 0.5184007287025452, 'learning_rate': 0.000997984708723081, 'epoch': 16.0}\n",
      "{'eval_loss': 0.8808130025863647, 'eval_runtime': 70.4509, 'eval_samples_per_second': 212.787, 'eval_steps_per_second': 3.336, 'epoch': 16.0}\n",
      "{'loss': 0.8067, 'grad_norm': 0.3751261532306671, 'learning_rate': 0.0009919599542289525, 'epoch': 17.0}\n",
      "{'eval_loss': 0.8756380081176758, 'eval_runtime': 70.0867, 'eval_samples_per_second': 213.892, 'eval_steps_per_second': 3.353, 'epoch': 17.0}\n",
      "{'loss': 0.805, 'grad_norm': 0.44692233204841614, 'learning_rate': 0.0009819742435539654, 'epoch': 18.0}\n",
      "{'eval_loss': 0.8772643804550171, 'eval_runtime': 69.4135, 'eval_samples_per_second': 215.967, 'eval_steps_per_second': 3.386, 'epoch': 18.0}\n",
      "{'loss': 0.8033, 'grad_norm': 0.5744599103927612, 'learning_rate': 0.0009681079757689713, 'epoch': 19.0}\n",
      "{'eval_loss': 0.8759676218032837, 'eval_runtime': 69.9527, 'eval_samples_per_second': 214.302, 'eval_steps_per_second': 3.359, 'epoch': 19.0}\n",
      "{'loss': 0.8006, 'grad_norm': 0.5448863506317139, 'learning_rate': 0.0009504727939089421, 'epoch': 20.0}\n",
      "{'eval_loss': 0.8752214908599854, 'eval_runtime': 71.2035, 'eval_samples_per_second': 210.537, 'eval_steps_per_second': 3.3, 'epoch': 20.0}\n",
      "{'loss': 0.799, 'grad_norm': 0.7597392797470093, 'learning_rate': 0.0009292106860888957, 'epoch': 21.0}\n",
      "{'eval_loss': 0.8808764219284058, 'eval_runtime': 69.8064, 'eval_samples_per_second': 214.751, 'eval_steps_per_second': 3.366, 'epoch': 21.0}\n",
      "{'loss': 0.7974, 'grad_norm': 0.532662034034729, 'learning_rate': 0.0009044928422990818, 'epoch': 22.0}\n",
      "{'eval_loss': 0.8787466883659363, 'eval_runtime': 70.5874, 'eval_samples_per_second': 212.375, 'eval_steps_per_second': 3.329, 'epoch': 22.0}\n",
      "{'loss': 0.7953, 'grad_norm': 0.5128907561302185, 'learning_rate': 0.0008765182760838397, 'epoch': 23.0}\n",
      "{'eval_loss': 0.8788598775863647, 'eval_runtime': 70.6103, 'eval_samples_per_second': 212.306, 'eval_steps_per_second': 3.328, 'epoch': 23.0}\n",
      "{'loss': 0.7927, 'grad_norm': 0.4677056670188904, 'learning_rate': 0.0008455122222015555, 'epoch': 24.0}\n",
      "{'eval_loss': 0.878340482711792, 'eval_runtime': 69.6622, 'eval_samples_per_second': 215.196, 'eval_steps_per_second': 3.373, 'epoch': 24.0}\n",
      "{'loss': 0.7906, 'grad_norm': 0.545899510383606, 'learning_rate': 0.0008117243231668252, 'epoch': 25.0}\n",
      "{'eval_loss': 0.8784139156341553, 'eval_runtime': 69.1874, 'eval_samples_per_second': 216.672, 'eval_steps_per_second': 3.397, 'epoch': 25.0}\n",
      "{'loss': 0.7885, 'grad_norm': 0.6084650158882141, 'learning_rate': 0.0007754266192757133, 'epoch': 26.0}\n",
      "{'eval_loss': 0.8758113980293274, 'eval_runtime': 69.3812, 'eval_samples_per_second': 216.067, 'eval_steps_per_second': 3.387, 'epoch': 26.0}\n",
      "{'loss': 0.7858, 'grad_norm': 0.439544141292572, 'learning_rate': 0.000736911358297247, 'epoch': 27.0}\n",
      "{'eval_loss': 0.8776732087135315, 'eval_runtime': 265.2994, 'eval_samples_per_second': 56.506, 'eval_steps_per_second': 0.886, 'epoch': 27.0}\n",
      "{'loss': 0.7838, 'grad_norm': 0.40644749999046326, 'learning_rate': 0.0006964886424662181, 'epoch': 28.0}\n",
      "{'eval_loss': 0.876512885093689, 'eval_runtime': 273.0691, 'eval_samples_per_second': 54.898, 'eval_steps_per_second': 0.861, 'epoch': 28.0}\n",
      "{'loss': 0.7812, 'grad_norm': 0.9189597368240356, 'learning_rate': 0.0006544839317223261, 'epoch': 29.0}\n",
      "{'eval_loss': 0.8782769441604614, 'eval_runtime': 71.3367, 'eval_samples_per_second': 210.144, 'eval_steps_per_second': 3.294, 'epoch': 29.0}\n",
      "{'loss': 0.779, 'grad_norm': 0.5287331938743591, 'learning_rate': 0.0006112354232981109, 'epoch': 30.0}\n",
      "{'eval_loss': 0.8778930306434631, 'eval_runtime': 69.1774, 'eval_samples_per_second': 216.704, 'eval_steps_per_second': 3.397, 'epoch': 30.0}\n",
      "{'loss': 0.7759, 'grad_norm': 0.47458770871162415, 'learning_rate': 0.0005670913287536929, 'epoch': 31.0}\n",
      "{'eval_loss': 0.8768979907035828, 'eval_runtime': 69.1343, 'eval_samples_per_second': 216.839, 'eval_steps_per_second': 3.399, 'epoch': 31.0}\n",
      "{'loss': 0.7739, 'grad_norm': 0.4562529921531677, 'learning_rate': 0.0005224070703820366, 'epoch': 32.0}\n",
      "{'eval_loss': 0.8804571628570557, 'eval_runtime': 70.0887, 'eval_samples_per_second': 213.886, 'eval_steps_per_second': 3.353, 'epoch': 32.0}\n",
      "{'loss': 0.7718, 'grad_norm': 0.8165572285652161, 'learning_rate': 0.00047754241955763225, 'epoch': 33.0}\n",
      "{'eval_loss': 0.8768599033355713, 'eval_runtime': 69.9559, 'eval_samples_per_second': 214.292, 'eval_steps_per_second': 3.359, 'epoch': 33.0}\n",
      "{'loss': 0.7686, 'grad_norm': 0.677159309387207, 'learning_rate': 0.0004328586000689304, 'epoch': 34.0}\n",
      "{'eval_loss': 0.8797252774238586, 'eval_runtime': 69.4429, 'eval_samples_per_second': 215.875, 'eval_steps_per_second': 3.384, 'epoch': 34.0}\n",
      "{'loss': 0.7664, 'grad_norm': 0.5855079889297485, 'learning_rate': 0.00038871537975679375, 'epoch': 35.0}\n",
      "{'eval_loss': 0.8797235488891602, 'eval_runtime': 69.9877, 'eval_samples_per_second': 214.195, 'eval_steps_per_second': 3.358, 'epoch': 35.0}\n",
      "{'loss': 0.7642, 'grad_norm': 0.7562540173530579, 'learning_rate': 0.00034546817387538233, 'epoch': 36.0}\n",
      "{'eval_loss': 0.8803247809410095, 'eval_runtime': 70.356, 'eval_samples_per_second': 213.073, 'eval_steps_per_second': 3.34, 'epoch': 36.0}\n",
      "{'loss': 0.7624, 'grad_norm': 0.5232610702514648, 'learning_rate': 0.00030346518349750815, 'epoch': 37.0}\n",
      "{'eval_loss': 0.8766037225723267, 'eval_runtime': 69.2782, 'eval_samples_per_second': 216.388, 'eval_steps_per_second': 3.392, 'epoch': 37.0}\n",
      "{'loss': 0.7597, 'grad_norm': 1.4205520153045654, 'learning_rate': 0.0002630445920043353, 'epoch': 38.0}\n",
      "{'eval_loss': 0.8782747387886047, 'eval_runtime': 70.4726, 'eval_samples_per_second': 212.721, 'eval_steps_per_second': 3.335, 'epoch': 38.0}\n",
      "{'loss': 0.7574, 'grad_norm': 0.6461567878723145, 'learning_rate': 0.0002245318422316438, 'epoch': 39.0}\n",
      "{'eval_loss': 0.8819420337677002, 'eval_runtime': 68.5151, 'eval_samples_per_second': 218.798, 'eval_steps_per_second': 3.43, 'epoch': 39.0}\n",
      "{'loss': 0.7551, 'grad_norm': 1.8759856224060059, 'learning_rate': 0.00018823701619547344, 'epoch': 40.0}\n",
      "{'eval_loss': 0.8799600005149841, 'eval_runtime': 70.1193, 'eval_samples_per_second': 213.793, 'eval_steps_per_second': 3.351, 'epoch': 40.0}\n",
      "{'loss': 0.7539, 'grad_norm': 0.7306310534477234, 'learning_rate': 0.00015445233849405504, 'epoch': 41.0}\n",
      "{'eval_loss': 0.8762503862380981, 'eval_runtime': 69.9584, 'eval_samples_per_second': 214.284, 'eval_steps_per_second': 3.359, 'epoch': 41.0}\n",
      "{'loss': 0.7515, 'grad_norm': 0.7291978001594543, 'learning_rate': 0.000123449823487172, 'epoch': 42.0}\n",
      "{'eval_loss': 0.8761293292045593, 'eval_runtime': 69.3696, 'eval_samples_per_second': 216.103, 'eval_steps_per_second': 3.388, 'epoch': 42.0}\n",
      "{'loss': 0.7501, 'grad_norm': 0.6388526558876038, 'learning_rate': 9.547908519647603e-05, 'epoch': 43.0}\n",
      "{'eval_loss': 0.8765164613723755, 'eval_runtime': 70.1789, 'eval_samples_per_second': 213.611, 'eval_steps_per_second': 3.349, 'epoch': 43.0}\n",
      "{'loss': 0.7489, 'grad_norm': 0.802468478679657, 'learning_rate': 7.076532756015592e-05, 'epoch': 44.0}\n",
      "{'eval_loss': 0.8775908946990967, 'eval_runtime': 508.4008, 'eval_samples_per_second': 29.487, 'eval_steps_per_second': 0.462, 'epoch': 44.0}\n",
      "{'loss': 0.7479, 'grad_norm': 0.6653969287872314, 'learning_rate': 4.9507531223245255e-05, 'epoch': 45.0}\n",
      "{'eval_loss': 0.8762949705123901, 'eval_runtime': 68.9843, 'eval_samples_per_second': 217.31, 'eval_steps_per_second': 3.407, 'epoch': 45.0}\n",
      "{'loss': 0.7464, 'grad_norm': 0.6718753576278687, 'learning_rate': 3.187685146246692e-05, 'epoch': 46.0}\n",
      "{'eval_loss': 0.8773487210273743, 'eval_runtime': 69.5148, 'eval_samples_per_second': 215.652, 'eval_steps_per_second': 3.381, 'epoch': 46.0}\n",
      "{'loss': 0.7463, 'grad_norm': 0.529906690120697, 'learning_rate': 1.8015240144582947e-05, 'epoch': 47.0}\n",
      "{'eval_loss': 0.8774620890617371, 'eval_runtime': 70.1708, 'eval_samples_per_second': 213.636, 'eval_steps_per_second': 3.349, 'epoch': 47.0}\n",
      "{'loss': 0.745, 'grad_norm': 0.7117635011672974, 'learning_rate': 8.03430281342944e-06, 'epoch': 48.0}\n",
      "{'eval_loss': 0.8768348693847656, 'eval_runtime': 72.0011, 'eval_samples_per_second': 208.205, 'eval_steps_per_second': 3.264, 'epoch': 48.0}\n",
      "{'loss': 0.7453, 'grad_norm': 1.0635402202606201, 'learning_rate': 2.014400107700745e-06, 'epoch': 49.0}\n",
      "{'eval_loss': 0.8771592378616333, 'eval_runtime': 71.9164, 'eval_samples_per_second': 208.45, 'eval_steps_per_second': 3.268, 'epoch': 49.0}\n",
      "{'loss': 0.7444, 'grad_norm': 0.8006638884544373, 'learning_rate': 4.000744337889357e-09, 'epoch': 50.0}\n",
      "{'eval_loss': 0.8771861791610718, 'eval_runtime': 73.1908, 'eval_samples_per_second': 204.821, 'eval_steps_per_second': 3.211, 'epoch': 50.0}\n",
      "{'train_runtime': 14879.2897, 'train_samples_per_second': 353.68, 'train_steps_per_second': 5.528, 'train_loss': 0.7872401275170973, 'epoch': 50.0}\n",
      "[TrackingCallback] Mean Epoch Time = 205.31531210899354 seconds, Total Train Time = 14879.289614200592\n"
     ]
    },
    {
     "data": {
      "text/plain": [
       "TrainOutput(global_step=82250, training_loss=0.7872401275170973, metrics={'train_runtime': 14879.2897, 'train_samples_per_second': 353.68, 'train_steps_per_second': 5.528, 'train_loss': 0.7872401275170973, 'epoch': 50.0})"
      ]
     },
     "execution_count": 9,
     "metadata": {},
     "output_type": "execute_result"
    }
   ],
   "source": [
    "### Fine-tune\n",
    "finetune_forecast_trainer.train()"
   ]
  },
  {
   "cell_type": "markdown",
   "id": "ea506c07",
   "metadata": {},
   "source": [
    "### Evaluate"
   ]
  },
  {
   "cell_type": "code",
   "execution_count": 11,
   "id": "af47e428",
   "metadata": {},
   "outputs": [
    {
     "name": "stdout",
     "output_type": "stream",
     "text": [
      "++++++++++++++++++++ Test MSE after few-shot 100% fine-tuning ++++++++++++++++++++\n",
      "{'eval_loss': 0.9574525952339172, 'eval_runtime': 79.7012, 'eval_samples_per_second': 383.169, 'eval_steps_per_second': 5.997, 'epoch': 50.0}\n",
      "{'eval_loss': 0.9574525952339172, 'eval_runtime': 79.7012, 'eval_samples_per_second': 383.169, 'eval_steps_per_second': 5.997, 'epoch': 50.0}\n",
      "++++++++++++++++++++++++++++++++++++++++++++++++++++++++++++\n"
     ]
    }
   ],
   "source": [
    "# Evaluation\n",
    "print(\"+\" * 20, f\"Test MSE after few-shot {FEWSHOT_PERCENT}% fine-tuning\", \"+\" * 20)\n",
    "finetune_forecast_trainer.model.loss = \"mse\"  # fixing metric to mse for evaluation\n",
    "\n",
    "fewshot_output = finetune_forecast_trainer.evaluate(dset_test)\n",
    "print(fewshot_output)\n",
    "print(\"+\" * 60)"
   ]
  },
  {
   "cell_type": "markdown",
   "id": "78f7563d",
   "metadata": {},
   "source": [
    "### Predict"
   ]
  },
  {
   "cell_type": "code",
   "execution_count": null,
   "id": "1edc2c9a",
   "metadata": {},
   "outputs": [
    {
     "ename": "",
     "evalue": "",
     "output_type": "error",
     "traceback": [
      "\u001b[1;31mThe Kernel crashed while executing code in the current cell or a previous cell. \n",
      "\u001b[1;31mPlease review the code in the cell(s) to identify a possible cause of the failure. \n",
      "\u001b[1;31mClick <a href='https://aka.ms/vscodeJupyterKernelCrash'>here</a> for more info. \n",
      "\u001b[1;31mView Jupyter <a href='command:jupyter.viewOutput'>log</a> for further details."
     ]
    }
   ],
   "source": [
    "# get predictions\n",
    "predictions_dict = finetune_forecast_trainer.predict(dset_test)\n",
    "predictions_np = predictions_dict.predictions[0]\n",
    "print(predictions_np.shape)\n",
    "\n",
    "# get backbone embeddings (if needed for further analysis)\n",
    "backbone_embedding = predictions_dict.predictions[1]\n",
    "print(backbone_embedding.shape)\n",
    "\n",
    "\n",
    "# plot\n",
    "random.seed(42)  # For reproducibility\n",
    "test_dataset_size = len(dset_test)\n",
    "valid_indices = random.sample(range(test_dataset_size), min(10, test_dataset_size))\n",
    "plot_predictions(\n",
    "    model=finetune_forecast_trainer.model,\n",
    "    dset=dset_test,\n",
    "    plot_dir=os.path.join(OUT_DIR, dataset_name),\n",
    "    plot_prefix=\"test_fewshot\",\n",
    "    indices=valid_indices,\n",
    "    channel=0,\n",
    ")"
   ]
  },
  {
   "cell_type": "markdown",
   "id": "ec20e5c6",
   "metadata": {},
   "source": [
    "### Eval_loss vs epochs"
   ]
  },
  {
   "cell_type": "code",
   "execution_count": 141,
   "id": "cc82d389",
   "metadata": {},
   "outputs": [
    {
     "name": "stdout",
     "output_type": "stream",
     "text": [
      "Total epochs: 7\n",
      "Epoch range: 1.0 to 7.0\n",
      "Loss range: 0.8722 to 0.8880\n",
      "Final loss: 0.8722\n"
     ]
    },
    {
     "data": {
      "image/png": "[encoded data removed]",
      "text/plain": [
       "<Figure size 1200x800 with 1 Axes>"
      ]
     },
     "metadata": {},
     "output_type": "display_data"
    }
   ],
   "source": [
    "import os\n",
    "import json\n",
    "import matplotlib.pyplot as plt\n",
    "\n",
    "checkpoint_dirs = []\n",
    "\n",
    "\n",
    "latest_checkpoint = (\n",
    "    \"../../models/ttm/15mins/2025-09-27_16-05-09/5min_patients/output/checkpoint-11515\"\n",
    ")\n",
    "\n",
    "trainer_state = json.load(open(os.path.join(latest_checkpoint, \"trainer_state.json\")))\n",
    "log_history = trainer_state[\"log_history\"]\n",
    "epochs = []\n",
    "eval_losses = []\n",
    "\n",
    "for entry in log_history:\n",
    "    if \"epoch\" in entry and \"eval_loss\" in entry:\n",
    "        epochs.append(entry[\"epoch\"])\n",
    "        eval_losses.append(entry[\"eval_loss\"])\n",
    "\n",
    "# Create the plot\n",
    "plt.figure(figsize=(12, 8))\n",
    "plt.plot(epochs, eval_losses, \"b-\", linewidth=2, marker=\"o\", markersize=4)\n",
    "plt.xlabel(\"Epoch\", fontsize=12)\n",
    "plt.ylabel(\"Evaluation Loss\", fontsize=12)\n",
    "plt.title(\"Training Progress: Epoch vs Evaluation Loss\", fontsize=14, fontweight=\"bold\")\n",
    "plt.grid(True, alpha=0.3)\n",
    "plt.tight_layout()\n",
    "\n",
    "# Add some statistics\n",
    "min_loss = min(eval_losses)\n",
    "min_epoch = epochs[eval_losses.index(min_loss)]\n",
    "plt.annotate(\n",
    "    f\"Min Loss: {min_loss:.4f} at Epoch {min_epoch}\",\n",
    "    xy=(min_epoch, min_loss),\n",
    "    xytext=(\n",
    "        min_epoch + len(epochs) * 0.1,\n",
    "        min_loss + (max(eval_losses) - min(eval_losses)) * 0.1,\n",
    "    ),\n",
    "    arrowprops=dict(arrowstyle=\"->\", color=\"red\", alpha=0.7),\n",
    "    fontsize=10,\n",
    "    color=\"red\",\n",
    ")\n",
    "\n",
    "print(f\"Total epochs: {len(epochs)}\")\n",
    "print(f\"Epoch range: {min(epochs)} to {max(epochs)}\")\n",
    "print(f\"Loss range: {min(eval_losses):.4f} to {max(eval_losses):.4f}\")\n",
    "print(f\"Final loss: {eval_losses[-1]:.4f}\")\n",
    "\n",
    "plt.show()"
   ]
  },
  {
   "cell_type": "markdown",
   "id": "2d615d1e",
   "metadata": {},
   "source": [
    "### Load from a checkpoint"
   ]
  },
  {
   "cell_type": "code",
   "execution_count": null,
   "id": "37be8b1d",
   "metadata": {},
   "outputs": [
    {
     "name": "stderr",
     "output_type": "stream",
     "text": [
      "INFO:p-1546:t-8767966336:get_model.py:get_model:Loading model from: ../../models/ttm/15mins/2025-09-27_16-05-09/5min_patients/output/checkpoint-11515\n",
      "INFO:p-1546:t-8767966336:get_model.py:get_model:Model loaded successfully from ../../models/ttm/15mins/2025-09-27_16-05-09/5min_patients/output/checkpoint-11515, revision = None.\n",
      "INFO:p-1546:t-8767966336:get_model.py:get_model:[TTM] context_length = 512, prediction_length = 96\n"
     ]
    }
   ],
   "source": [
    "# Load from checkpoint\n",
    "\n",
    "model = get_model(\n",
    "    \"../../models/ttm/15mins/2025-09-27_16-05-09/5min_patients/output/checkpoint-11515\",  # Direct checkpoint path\n",
    "    context_length=CONTEXT_LENGTH,\n",
    "    prediction_length=PREDICTION_LENGTH,\n",
    ")\n",
    "\n",
    "random.seed(42)  # For reproducibility\n",
    "test_dataset_size = len(dset_test)\n",
    "valid_indices = random.sample(range(test_dataset_size), min(10, test_dataset_size))\n",
    "plot_predictions(\n",
    "    model=finetune_forecast_trainer.model,\n",
    "    dset=dset_test,\n",
    "    plot_dir=os.path.join(OUT_DIR, dataset_name),\n",
    "    plot_prefix=\"test_fewshot\",\n",
    "    indices=valid_indices,\n",
    "    channel=0,\n",
    ")"
   ]
  },
  {
   "cell_type": "code",
   "execution_count": null,
   "id": "cb62a8fa",
   "metadata": {},
   "outputs": [],
   "source": []
  }
 ],
 "metadata": {
  "kernelspec": {
   "display_name": ".noctprob-venv",
   "language": "python",
   "name": "python3"
  },
  "language_info": {
   "codemirror_mode": {
    "name": "ipython",
    "version": 3
   },
   "file_extension": ".py",
   "mimetype": "text/x-python",
   "name": "python",
   "nbconvert_exporter": "python",
   "pygments_lexer": "ipython3",
   "version": "3.12.3"
  }
 },
 "nbformat": 4,
 "nbformat_minor": 5
}
