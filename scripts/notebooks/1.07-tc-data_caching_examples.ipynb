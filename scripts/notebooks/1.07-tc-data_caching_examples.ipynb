{
 "cells": [
  {
   "cell_type": "code",
   "execution_count": 1,
   "id": "335bdcaa",
   "metadata": {},
   "outputs": [
    {
     "name": "stderr",
     "output_type": "stream",
     "text": [
      "2025-07-30T02:28:50 - Processed cache not found or not used, processing raw data and saving to cache...\n",
      "2025-07-30T02:28:50 - Raw data for kaggle_brisT1D already exists in cache\n",
      "2025-07-30T02:28:55 - Processing train data. This may take a while...\n",
      "c:\\users\\tony\\glucoseml\\nocturnal-hypo-gly-prob-forecast\\src\\data\\preprocessing\\generic_cleaning.py:116: UserWarning: Could not infer format, so each element will be parsed individually, falling back to `dateutil`. To ensure parsing is consistent and as-expected, please specify a format.\n",
      "  df.index = pd.to_datetime(df.index, utc=True)\n",
      "2025-07-30T02:28:55 - Deriving features...\n",
      "2025-07-30T02:28:55 - Filling in gaps...\n",
      "2025-07-30T02:28:55 - Creating COB and carb availability columns...\n",
      "2025-07-30T02:28:55 - Creating IOB and insulin availability columns. This may take a while depending on the size of the data.\n",
      "2025-07-30T02:28:55 - Processing insulin dynamics\n"
     ]
    },
    {
     "name": "stdout",
     "output_type": "stream",
     "text": [
      "Columns after coercing time: ['id', 'p_num', 'bg_mM', 'dose_units', 'food_g', 'hr_bpm', 'steps', 'cals', 'activity', 'msg_type', 'food_g_keep']\n"
     ]
    },
    {
     "name": "stderr",
     "output_type": "stream",
     "text": [
      "2025-07-30T02:28:56 - Done deriving features.\n",
      "2025-07-30T02:28:56 - Done processing train data. Saving processed data to cache...\n",
      "2025-07-30T02:28:56 - Saved processed train data for kaggle_brisT1D\n"
     ]
    }
   ],
   "source": [
    "from src.data.diabetes_datasets.data_loader import get_loader\n",
    "\n",
    "loader = get_loader(\n",
    "    data_source_name=\"kaggle_brisT1D\",\n",
    "    dataset_type=\"train\",\n",
    "    keep_columns=[\n",
    "        \"datetime\",\n",
    "        \"p_num\",\n",
    "        \"bg_mM\",\n",
    "        \"hr_bpm\",\n",
    "        \"steps\",\n",
    "        \"cals\",\n",
    "        \"cob\",\n",
    "        \"carb_availability\",\n",
    "        \"iob\",\n",
    "        \"insulin_availability\",\n",
    "    ],\n",
    "    use_cached=False,\n",
    ")"
   ]
  },
  {
   "cell_type": "code",
   "execution_count": 2,
   "id": "869d5dc8",
   "metadata": {},
   "outputs": [
    {
     "data": {
      "text/html": [
       "<div>\n",
       "<style scoped>\n",
       "    .dataframe tbody tr th:only-of-type {\n",
       "        vertical-align: middle;\n",
       "    }\n",
       "\n",
       "    .dataframe tbody tr th {\n",
       "        vertical-align: top;\n",
       "    }\n",
       "\n",
       "    .dataframe thead th {\n",
       "        text-align: right;\n",
       "    }\n",
       "</style>\n",
       "<table border=\"1\" class=\"dataframe\">\n",
       "  <thead>\n",
       "    <tr style=\"text-align: right;\">\n",
       "      <th></th>\n",
       "      <th>datetime</th>\n",
       "      <th>p_num</th>\n",
       "      <th>bg_mM</th>\n",
       "      <th>hr_bpm</th>\n",
       "      <th>steps</th>\n",
       "      <th>cals</th>\n",
       "      <th>cob</th>\n",
       "      <th>carb_availability</th>\n",
       "      <th>iob</th>\n",
       "      <th>insulin_availability</th>\n",
       "    </tr>\n",
       "  </thead>\n",
       "  <tbody>\n",
       "    <tr>\n",
       "      <th>6723</th>\n",
       "      <td>2025-03-12 06:55:00</td>\n",
       "      <td>p01</td>\n",
       "      <td>NaN</td>\n",
       "      <td>NaN</td>\n",
       "      <td>NaN</td>\n",
       "      <td>NaN</td>\n",
       "      <td>87.408970</td>\n",
       "      <td>48.647153</td>\n",
       "      <td>28.187021</td>\n",
       "      <td>1.931029</td>\n",
       "    </tr>\n",
       "    <tr>\n",
       "      <th>6724</th>\n",
       "      <td>2025-03-12 07:10:00</td>\n",
       "      <td>p01</td>\n",
       "      <td>NaN</td>\n",
       "      <td>80.3</td>\n",
       "      <td>92.0</td>\n",
       "      <td>4.8</td>\n",
       "      <td>81.394240</td>\n",
       "      <td>47.241370</td>\n",
       "      <td>27.295364</td>\n",
       "      <td>1.899391</td>\n",
       "    </tr>\n",
       "    <tr>\n",
       "      <th>6725</th>\n",
       "      <td>2025-03-12 07:25:00</td>\n",
       "      <td>p01</td>\n",
       "      <td>NaN</td>\n",
       "      <td>75.5</td>\n",
       "      <td>0.0</td>\n",
       "      <td>4.8</td>\n",
       "      <td>75.574056</td>\n",
       "      <td>45.482110</td>\n",
       "      <td>26.425267</td>\n",
       "      <td>1.863221</td>\n",
       "    </tr>\n",
       "    <tr>\n",
       "      <th>6726</th>\n",
       "      <td>2025-03-12 07:40:00</td>\n",
       "      <td>p01</td>\n",
       "      <td>NaN</td>\n",
       "      <td>76.9</td>\n",
       "      <td>65.0</td>\n",
       "      <td>4.8</td>\n",
       "      <td>69.987191</td>\n",
       "      <td>43.473307</td>\n",
       "      <td>25.572340</td>\n",
       "      <td>1.823792</td>\n",
       "    </tr>\n",
       "    <tr>\n",
       "      <th>6727</th>\n",
       "      <td>2025-03-12 07:55:00</td>\n",
       "      <td>p01</td>\n",
       "      <td>NaN</td>\n",
       "      <td>77.1</td>\n",
       "      <td>0.0</td>\n",
       "      <td>5.0</td>\n",
       "      <td>59.271225</td>\n",
       "      <td>36.874083</td>\n",
       "      <td>22.067263</td>\n",
       "      <td>1.513891</td>\n",
       "    </tr>\n",
       "  </tbody>\n",
       "</table>\n",
       "</div>"
      ],
      "text/plain": [
       "                datetime p_num  bg_mM  hr_bpm  steps  cals        cob  \\\n",
       "6723 2025-03-12 06:55:00   p01    NaN     NaN    NaN   NaN  87.408970   \n",
       "6724 2025-03-12 07:10:00   p01    NaN    80.3   92.0   4.8  81.394240   \n",
       "6725 2025-03-12 07:25:00   p01    NaN    75.5    0.0   4.8  75.574056   \n",
       "6726 2025-03-12 07:40:00   p01    NaN    76.9   65.0   4.8  69.987191   \n",
       "6727 2025-03-12 07:55:00   p01    NaN    77.1    0.0   5.0  59.271225   \n",
       "\n",
       "      carb_availability        iob  insulin_availability  \n",
       "6723          48.647153  28.187021              1.931029  \n",
       "6724          47.241370  27.295364              1.899391  \n",
       "6725          45.482110  26.425267              1.863221  \n",
       "6726          43.473307  25.572340              1.823792  \n",
       "6727          36.874083  22.067263              1.513891  "
      ]
     },
     "execution_count": 2,
     "metadata": {},
     "output_type": "execute_result"
    }
   ],
   "source": [
    "loader.processed_data.head()\n",
    "loader.validation_data.head()"
   ]
  },
  {
   "cell_type": "code",
   "execution_count": null,
   "id": "ebc53feb",
   "metadata": {},
   "outputs": [],
   "source": []
  }
 ],
 "metadata": {
  "kernelspec": {
   "display_name": ".noctprob-venv",
   "language": "python",
   "name": "python3"
  },
  "language_info": {
   "codemirror_mode": {
    "name": "ipython",
    "version": 3
   },
   "file_extension": ".py",
   "mimetype": "text/x-python",
   "name": "python",
   "nbconvert_exporter": "python",
   "pygments_lexer": "ipython3",
   "version": "3.12.7"
  }
 },
 "nbformat": 4,
 "nbformat_minor": 5
}
