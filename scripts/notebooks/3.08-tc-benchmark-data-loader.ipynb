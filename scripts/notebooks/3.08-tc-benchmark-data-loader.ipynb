{
 "cells": [
  {
   "cell_type": "code",
   "execution_count": 1,
   "metadata": {},
   "outputs": [],
   "source": [
    "from sktime.benchmarking.forecasting import ForecastingBenchmark\n",
    "from sktime.forecasting.naive import NaiveForecaster\n",
    "from sktime.performance_metrics.forecasting import MeanSquaredPercentageError\n",
    "from sktime.split import ExpandingWindowSplitter\n",
    "\n",
    "# from sktime.datasets import load_longley\n",
    "import pandas as pd\n",
    "from src.data.data_loader import load_data\n",
    "from src.data.data_cleaner import clean_data"
   ]
  },
  {
   "cell_type": "code",
   "execution_count": 13,
   "metadata": {},
   "outputs": [],
   "source": [
    "def load_diabetes_data():\n",
    "    df = clean_data(load_data())\n",
    "    patient_data = df[df[\"p_num\"] == \"p01\"].copy()\n",
    "    patient_data = patient_data.fillna(0)\n",
    "\n",
    "    # Set datetime index\n",
    "    patient_data[\"time\"] = pd.to_datetime(patient_data[\"time\"])\n",
    "    # patient_data = patient_data.set_index('time')\n",
    "\n",
    "    y = patient_data[\"bg-0:00\"]\n",
    "    X = patient_data[[\"insulin-0:00\", \"carbs-0:00\", \"hr-0:00\"]]\n",
    "\n",
    "    return y, X\n",
    "\n",
    "\n",
    "# y, X = load_longley()\n",
    "\n",
    "# Update your dataset loaders\n",
    "dataset_loaders = [load_diabetes_data]"
   ]
  },
  {
   "cell_type": "code",
   "execution_count": 14,
   "metadata": {},
   "outputs": [],
   "source": [
    "benchmark = ForecastingBenchmark()\n",
    "benchmark.add_estimator(\n",
    "    estimator=NaiveForecaster(strategy=\"mean\", sp=1),\n",
    "    estimator_id=\"NaiveForecaster-mean-v1\",\n",
    ")\n",
    "benchmark.add_estimator(\n",
    "    estimator=NaiveForecaster(strategy=\"last\", sp=1),\n",
    "    estimator_id=\"NaiveForecaster-last-v1\",\n",
    ")"
   ]
  },
  {
   "cell_type": "code",
   "execution_count": 15,
   "metadata": {},
   "outputs": [],
   "source": [
    "steps_per_hour = 12\n",
    "hours_to_forecast = 6\n",
    "\n",
    "cv_splitter = ExpandingWindowSplitter(\n",
    "    initial_window=steps_per_hour,\n",
    "    step_length=steps_per_hour,\n",
    "    fh=steps_per_hour * hours_to_forecast,\n",
    ")"
   ]
  },
  {
   "cell_type": "code",
   "execution_count": 16,
   "metadata": {},
   "outputs": [],
   "source": [
    "scorers = [MeanSquaredPercentageError()]"
   ]
  },
  {
   "cell_type": "code",
   "execution_count": 17,
   "metadata": {},
   "outputs": [],
   "source": [
    "for dataset_loader in dataset_loaders:\n",
    "    benchmark.add_task(\n",
    "        dataset_loader,\n",
    "        cv_splitter,\n",
    "        scorers,\n",
    "    )"
   ]
  },
  {
   "cell_type": "code",
   "execution_count": 18,
   "metadata": {},
   "outputs": [
    {
     "name": "stderr",
     "output_type": "stream",
     "text": [
      "/var/folders/lv/s2fdnq713td8c15d7dlzjk6c0000gn/T/ipykernel_55684/1814209915.py:7: UserWarning: Could not infer format, so each element will be parsed individually, falling back to `dateutil`. To ensure parsing is consistent and as-expected, please specify a format.\n",
      "  patient_data['time'] = pd.to_datetime(patient_data['time'])\n",
      "/Users/tonychan/GlucoseML/nocturnal-hypo-gly-prob-forecast/venv/lib/python3.9/site-packages/gluonts/json.py:102: UserWarning: Using `json`-module for json-handling. Consider installing one of `orjson`, `ujson` to speed up serialization and deserialization.\n",
      "  warnings.warn(\n",
      "/var/folders/lv/s2fdnq713td8c15d7dlzjk6c0000gn/T/ipykernel_55684/1814209915.py:7: UserWarning: Could not infer format, so each element will be parsed individually, falling back to `dateutil`. To ensure parsing is consistent and as-expected, please specify a format.\n",
      "  patient_data['time'] = pd.to_datetime(patient_data['time'])\n"
     ]
    },
    {
     "data": {
      "text/html": [
       "<div>\n",
       "<style scoped>\n",
       "    .dataframe tbody tr th:only-of-type {\n",
       "        vertical-align: middle;\n",
       "    }\n",
       "\n",
       "    .dataframe tbody tr th {\n",
       "        vertical-align: top;\n",
       "    }\n",
       "\n",
       "    .dataframe thead th {\n",
       "        text-align: right;\n",
       "    }\n",
       "</style>\n",
       "<table border=\"1\" class=\"dataframe\">\n",
       "  <thead>\n",
       "    <tr style=\"text-align: right;\">\n",
       "      <th></th>\n",
       "      <th>0</th>\n",
       "      <th>1</th>\n",
       "    </tr>\n",
       "  </thead>\n",
       "  <tbody>\n",
       "    <tr>\n",
       "      <th>validation_id</th>\n",
       "      <td>[dataset=load_diabetes_data]_[cv_splitter=Expa...</td>\n",
       "      <td>[dataset=load_diabetes_data]_[cv_splitter=Expa...</td>\n",
       "    </tr>\n",
       "    <tr>\n",
       "      <th>model_id</th>\n",
       "      <td>NaiveForecaster-last-v1</td>\n",
       "      <td>NaiveForecaster-mean-v1</td>\n",
       "    </tr>\n",
       "    <tr>\n",
       "      <th>runtime_secs</th>\n",
       "      <td>23.361416</td>\n",
       "      <td>19.860873</td>\n",
       "    </tr>\n",
       "    <tr>\n",
       "      <th>MeanSquaredPercentageError_fold_0_test</th>\n",
       "      <td>0.061471</td>\n",
       "      <td>0.018221</td>\n",
       "    </tr>\n",
       "    <tr>\n",
       "      <th>MeanSquaredPercentageError_fold_1_test</th>\n",
       "      <td>0.225385</td>\n",
       "      <td>0.075764</td>\n",
       "    </tr>\n",
       "    <tr>\n",
       "      <th>...</th>\n",
       "      <td>...</td>\n",
       "      <td>...</td>\n",
       "    </tr>\n",
       "    <tr>\n",
       "      <th>MeanSquaredPercentageError_fold_695_test</th>\n",
       "      <td>0.487185</td>\n",
       "      <td>0.205711</td>\n",
       "    </tr>\n",
       "    <tr>\n",
       "      <th>MeanSquaredPercentageError_fold_696_test</th>\n",
       "      <td>0.151235</td>\n",
       "      <td>0.016905</td>\n",
       "    </tr>\n",
       "    <tr>\n",
       "      <th>MeanSquaredPercentageError_fold_697_test</th>\n",
       "      <td>0.865333</td>\n",
       "      <td>0.7946</td>\n",
       "    </tr>\n",
       "    <tr>\n",
       "      <th>MeanSquaredPercentageError_mean</th>\n",
       "      <td>128702640355733392367318468657152.0</td>\n",
       "      <td>99752492011008571189352244183040.0</td>\n",
       "    </tr>\n",
       "    <tr>\n",
       "      <th>MeanSquaredPercentageError_std</th>\n",
       "      <td>615212037566374961944611686187008.0</td>\n",
       "      <td>348583723571010112040659471826944.0</td>\n",
       "    </tr>\n",
       "  </tbody>\n",
       "</table>\n",
       "<p>703 rows × 2 columns</p>\n",
       "</div>"
      ],
      "text/plain": [
       "                                                                                          0  \\\n",
       "validation_id                             [dataset=load_diabetes_data]_[cv_splitter=Expa...   \n",
       "model_id                                                            NaiveForecaster-last-v1   \n",
       "runtime_secs                                                                      23.361416   \n",
       "MeanSquaredPercentageError_fold_0_test                                             0.061471   \n",
       "MeanSquaredPercentageError_fold_1_test                                             0.225385   \n",
       "...                                                                                     ...   \n",
       "MeanSquaredPercentageError_fold_695_test                                           0.487185   \n",
       "MeanSquaredPercentageError_fold_696_test                                           0.151235   \n",
       "MeanSquaredPercentageError_fold_697_test                                           0.865333   \n",
       "MeanSquaredPercentageError_mean                         128702640355733392367318468657152.0   \n",
       "MeanSquaredPercentageError_std                          615212037566374961944611686187008.0   \n",
       "\n",
       "                                                                                          1  \n",
       "validation_id                             [dataset=load_diabetes_data]_[cv_splitter=Expa...  \n",
       "model_id                                                            NaiveForecaster-mean-v1  \n",
       "runtime_secs                                                                      19.860873  \n",
       "MeanSquaredPercentageError_fold_0_test                                             0.018221  \n",
       "MeanSquaredPercentageError_fold_1_test                                             0.075764  \n",
       "...                                                                                     ...  \n",
       "MeanSquaredPercentageError_fold_695_test                                           0.205711  \n",
       "MeanSquaredPercentageError_fold_696_test                                           0.016905  \n",
       "MeanSquaredPercentageError_fold_697_test                                             0.7946  \n",
       "MeanSquaredPercentageError_mean                          99752492011008571189352244183040.0  \n",
       "MeanSquaredPercentageError_std                          348583723571010112040659471826944.0  \n",
       "\n",
       "[703 rows x 2 columns]"
      ]
     },
     "execution_count": 18,
     "metadata": {},
     "output_type": "execute_result"
    }
   ],
   "source": [
    "results_df = benchmark.run(\"./forecasting_results.csv\")\n",
    "results_df.T"
   ]
  },
  {
   "cell_type": "code",
   "execution_count": null,
   "metadata": {},
   "outputs": [],
   "source": []
  }
 ],
 "metadata": {
  "kernelspec": {
   "display_name": "venv",
   "language": "python",
   "name": "python3"
  },
  "language_info": {
   "codemirror_mode": {
    "name": "ipython",
    "version": 3
   },
   "file_extension": ".py",
   "mimetype": "text/x-python",
   "name": "python",
   "nbconvert_exporter": "python",
   "pygments_lexer": "ipython3",
   "version": "3.9.12"
  }
 },
 "nbformat": 4,
 "nbformat_minor": 2
}
