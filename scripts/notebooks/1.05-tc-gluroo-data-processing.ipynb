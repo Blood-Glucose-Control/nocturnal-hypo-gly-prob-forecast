{
 "cells": [
  {
   "cell_type": "code",
   "execution_count": 7,
   "metadata": {
    "ExecuteTime": {
     "end_time": "2025-03-19T01:45:01.923741Z",
     "start_time": "2025-03-19T01:45:01.438421Z"
    }
   },
   "outputs": [
    {
     "data": {
      "text/plain": [
       "13012   NaN\n",
       "12799   NaN\n",
       "14610   NaN\n",
       "10373   NaN\n",
       "11174   NaN\n",
       "         ..\n",
       "25051   NaN\n",
       "12657   NaN\n",
       "12880   NaN\n",
       "9465    NaN\n",
       "22670   NaN\n",
       "Name: carbs-0:00, Length: 1000, dtype: float64"
      ]
     },
     "execution_count": 7,
     "metadata": {},
     "output_type": "execute_result"
    }
   ],
   "source": [
    "from src.data.data_loader import BrisT1DDataLoader\n",
    "from src.tuning.benchmark import impute_missing_values\n",
    "\n",
    "# Use 02, 03, 04\n",
    "patient = \"p02\"\n",
    "\n",
    "# Split up data into day and night\n",
    "loader = BrisT1DDataLoader(use_cached=True)\n",
    "\n",
    "train_df = loader.train_data[loader.train_data[\"p_num\"] == patient]\n",
    "test_df = loader.validation_data[loader.validation_data[\"p_num\"] == patient]\n",
    "\n",
    "TIME_STEP_SIZE = (\n",
    "    train_df[\"datetime\"].iloc[1] - train_df[\"datetime\"].iloc[0]\n",
    ").components.minutes\n",
    "\n",
    "\n",
    "if TIME_STEP_SIZE != 5 and TIME_STEP_SIZE != 15:\n",
    "    error = \"\"\"\n",
    "    First time step is not 5 or 15 minutes. Look at the most common time step size.\n",
    "    \"\"\"\n",
    "\n",
    "\n",
    "def reduce_features(df):\n",
    "    # Make sure index is set to datetime\n",
    "    p_df = df.iloc[:]\n",
    "    # p_df.set_index(\"datetime\", inplace=True)\n",
    "    # p_df = p_df.asfreq('5T', method='pad')\n",
    "\n",
    "    # Reduce features\n",
    "    y_feature = [\"bg-0:00\"]\n",
    "    x_features = [\n",
    "        # \"hr-0:00\", # -> has NaNs\n",
    "        \"steps-0:00\",\n",
    "        \"cals-0:00\",\n",
    "        \"carbs-0:00\",\n",
    "        \"cob\",\n",
    "        \"carb_availability\",\n",
    "        \"insulin_availability\",\n",
    "        \"iob\",\n",
    "    ]\n",
    "    p_df = p_df[x_features + y_feature]\n",
    "\n",
    "    # Impute with default methods\n",
    "    p_df = impute_missing_values(p_df, columns=x_features)\n",
    "    p_df = impute_missing_values(p_df, columns=y_feature)\n",
    "\n",
    "    y, X = p_df[y_feature], p_df[x_features]\n",
    "    return y, X\n",
    "\n",
    "\n",
    "# train_df\n",
    "# y_train, X_train = reduce_features(train_df)\n",
    "# y_train\n",
    "# train_df[\"carbs-0:00\"].sample(1000)\n",
    "# X_train[\"carbs-0:00\"].sample(1000)"
   ]
  },
  {
   "cell_type": "markdown",
   "metadata": {},
   "source": [
    "## TODO\n",
    "1. Calculate CR and ISF\n",
    "2. Convert bg from mmol/L (millimoles per liter) to mg/dL (milligrams per deciliter)\n",
    "3. Find out the trend of DEXCOM: https://www.dexcom.com/all-access/dexcom-cgm-explained/trend-arrow-and-treatment-decisions\n",
    "4. Process carbs to `ANNOUNCE_MEAL`. (I guess there is no way to capture Portein here, which is used in the model)\n",
    "    - Filter out everything that is below 5 grams\n",
    "    - 5-20 g will be considered `INTERVENTION_SNACKS`\n",
    "    - greater than 20 g will be considered `ANNOUNCE_MEAL`\n",
    "5. Process does units to `DOSE_INSULIN`"
   ]
  },
  {
   "cell_type": "markdown",
   "metadata": {},
   "source": [
    "## Calulcate CR and ISF\n",
    " - CR: carb/insulin ratio (how many carbs a insulin can cover)\n",
    "     - Find out window where there is both insulin and food announcement \n",
    " - ISF: blood sugar/insulin ratio (how much glucose drop for each unit of insulin)\n",
    "    - Need to find out a large dose of insulin with no food announcement\n",
    "     \n",
    "\n",
    "Do we need to find out 5 windows for each patient? Like ISF for early morn, breakfast and so on....\n",
    "Probably would be hard to figure that out?\n",
    "\n"
   ]
  },
  {
   "cell_type": "markdown",
   "metadata": {},
   "source": [
    "```\n",
    "{\n",
    "    \"startOffsetTt\": 14400,\n",
    "    \"name\": \"Early morn\",\n",
    "    \"carbRatio\": 13.5,\n",
    "    \"isf\": 85,\n",
    "    \"insulinResistance\": 1,\n",
    "    \"target\": 100,\n",
    "},\n",
    "{\n",
    "    \"startOffsetTt\": 23400,\n",
    "    \"name\": \"Breakfast\",\n",
    "    \"carbRatio\": 11.5,\n",
    "    \"isf\": 85,\n",
    "    \"insulinResistance\": 1,\n",
    "    \"target\": 105,\n",
    "},\n",
    "{\n",
    "    \"startOffsetTt\": 37800,\n",
    "    \"name\": \"Lunch\",\n",
    "    \"carbRatio\": 13.5,\n",
    "    \"isf\": 18,\n",
    "    \"insulinResistance\": 1,\n",
    "    \"target\": 110,\n",
    "},\n",
    "{\n",
    "    \"startOffsetTt\": 52200,\n",
    "    \"name\": \"Aft&Dinner\",\n",
    "    \"carbRatio\": 13.5,\n",
    "    \"isf\": 85,\n",
    "    \"insulinResistance\": 1,\n",
    "    \"target\": 110,\n",
    "},\n",
    "{\n",
    "    \"startOffsetTt\": 79200,\n",
    "    \"name\": \"Night\",\n",
    "    \"carbRatio\": 13.5,\n",
    "    \"isf\": 85,\n",
    "    \"insulinResistance\": 1,\n",
    "    \"target\": 110,\n",
    "}\n",
    "```"
   ]
  },
  {
   "cell_type": "code",
   "execution_count": null,
   "metadata": {},
   "outputs": [],
   "source": []
  },
  {
   "cell_type": "code",
   "execution_count": null,
   "metadata": {},
   "outputs": [],
   "source": []
  }
 ],
 "metadata": {
  "kernelspec": {
   "display_name": ".noctprob-venv",
   "language": "python",
   "name": "python3"
  },
  "language_info": {
   "codemirror_mode": {
    "name": "ipython",
    "version": 3
   },
   "file_extension": ".py",
   "mimetype": "text/x-python",
   "name": "python",
   "nbconvert_exporter": "python",
   "pygments_lexer": "ipython3",
   "version": "3.12.3"
  }
 },
 "nbformat": 4,
 "nbformat_minor": 2
}
