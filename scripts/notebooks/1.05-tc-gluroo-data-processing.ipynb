{
 "cells": [
  {
   "cell_type": "code",
   "execution_count": 16,
   "metadata": {},
   "outputs": [],
   "source": [
    "from src.data.data_loader import BrisT1DDataLoader\n",
    "\n",
    "# Use 02, 03, 04\n",
    "patient = \"p02\"\n",
    "\n",
    "# Split up data into day and night\n",
    "loader = BrisT1DDataLoader(use_cached=True)\n",
    "\n",
    "train_df = loader.train_data[loader.train_data[\"p_num\"] == patient]\n",
    "test_df = loader.validation_data[loader.validation_data[\"p_num\"] == patient]\n",
    "\n",
    "TIME_STEP_SIZE = (\n",
    "    train_df[\"datetime\"].iloc[1] - train_df[\"datetime\"].iloc[0]\n",
    ").components.minutes\n",
    "\n",
    "\n",
    "if TIME_STEP_SIZE != 5 and TIME_STEP_SIZE != 15:\n",
    "    error = \"\"\"\n",
    "    First time step is not 5 or 15 minutes. Look at the most common time step size.\n",
    "    \"\"\""
   ]
  },
  {
   "cell_type": "markdown",
   "metadata": {},
   "source": [
    "## Calulcate CR and ISF\n",
    " - CR: carb/insulin ratio (how many carbs a insulin can cover)\n",
    "     - Need to find out a large dose of insulin with no food announcmeent\n",
    " - ISF: blood sugar/insulin ratio (how much glucose drop for each unit of insulin)\n",
    "     - Find out window where there is both insulin and food announcement \n",
    "\n",
    "Do we need to find out 5 windows for each patient? Like ISF for early morn, breakfast and so on....\n",
    "Probably would be hard to figure that out?\n",
    "\n"
   ]
  },
  {
   "cell_type": "markdown",
   "metadata": {},
   "source": [
    "```\n",
    "{\n",
    "    \"offsetIndex\": 0,\n",
    "    \"startOffsetTt\": 14400,\n",
    "    \"name\": \"Early morn\",\n",
    "    \"carbRatio\": 13.5,\n",
    "    \"isf\": 85,\n",
    "    \"insulinResistance\": 1,\n",
    "    \"target\": 100,\n",
    "    \"dateCreated\": \"2025-01-30T00:25:47.118865+00:00\",\n",
    "    \"groupId\": 10\n",
    "},\n",
    "{\n",
    "    \"offsetIndex\": 1,\n",
    "    \"startOffsetTt\": 23400,\n",
    "    \"name\": \"Breakfast\",\n",
    "    \"carbRatio\": 11.5,\n",
    "    \"isf\": 85,\n",
    "    \"insulinResistance\": 1,\n",
    "    \"target\": 105,\n",
    "    \"dateCreated\": \"2025-01-30T00:25:47.118865+00:00\",\n",
    "    \"groupId\": 10\n",
    "},\n",
    "{\n",
    "    \"offsetIndex\": 2,\n",
    "    \"startOffsetTt\": 37800,\n",
    "    \"name\": \"Lunch\",\n",
    "    \"carbRatio\": 13.5,\n",
    "    \"isf\": 18,\n",
    "    \"insulinResistance\": 1,\n",
    "    \"target\": 110,\n",
    "    \"dateCreated\": \"2025-01-30T00:25:47.118865+00:00\",\n",
    "    \"groupId\": 10\n",
    "},\n",
    "{\n",
    "    \"offsetIndex\": 3,\n",
    "    \"startOffsetTt\": 52200,\n",
    "    \"name\": \"Aft&Dinner\",\n",
    "    \"carbRatio\": 13.5,\n",
    "    \"isf\": 85,\n",
    "    \"insulinResistance\": 1,\n",
    "    \"target\": 110,\n",
    "    \"dateCreated\": \"2025-01-30T00:25:47.118865+00:00\",\n",
    "    \"groupId\": 10\n",
    "},\n",
    "{\n",
    "    \"offsetIndex\": 4,\n",
    "    \"startOffsetTt\": 79200,\n",
    "    \"name\": \"Night\",\n",
    "    \"carbRatio\": 13.5,\n",
    "    \"isf\": 85,\n",
    "    \"insulinResistance\": 1,\n",
    "    \"target\": 110,\n",
    "    \"dateCreated\": \"2025-01-30T00:25:47.118865+00:00\",\n",
    "    \"groupId\": 10\n",
    "}\n",
    "```"
   ]
  },
  {
   "cell_type": "code",
   "execution_count": null,
   "metadata": {},
   "outputs": [],
   "source": []
  }
 ],
 "metadata": {
  "kernelspec": {
   "display_name": ".noctprob-venv",
   "language": "python",
   "name": "python3"
  },
  "language_info": {
   "codemirror_mode": {
    "name": "ipython",
    "version": 3
   },
   "file_extension": ".py",
   "mimetype": "text/x-python",
   "name": "python",
   "nbconvert_exporter": "python",
   "pygments_lexer": "ipython3",
   "version": "3.12.3"
  }
 },
 "nbformat": 4,
 "nbformat_minor": 2
}
