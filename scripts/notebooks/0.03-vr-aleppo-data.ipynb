{
 "cells": [
  {
   "cell_type": "code",
   "execution_count": 5,
   "id": "dbe6b06b",
   "metadata": {},
   "outputs": [],
   "source": [
    "# This is the script for processing Aleppo2017 data into the common format.\n",
    "# Author: David Buchanan\n",
    "# Date: Febuary 4th, 2020, edited June 14th, by Elizabeth Chun\n",
    "\n",
    "import datetime\n",
    "# For working with dates and times\n",
    "\n",
    "# This study downloads as a zipped folder containing data tables and forms\n",
    "# First download the entire dataset. Do not rename the downloaded folder\n",
    "# Place the downloaded folder into a folder of your creation specific for this dataset\n",
    "# You may name your created folder however you like\n",
    "# Here we have named the created folder by first author last name and date of the original paper\n",
    "dataset = \"../data_downloads/aleppo\"\n",
    "# If you have a different naming method, you will need to adjust this, eg.\n",
    "# dataset = \"insert_your_name\"\n",
    "\n",
    "# using the original file path exactly as downloaded\n",
    "file = dataset + \"/Data Tables/HDeviceCGM.txt\"\n",
    "# alternatively, if file paths have been changed simply set file = the CGM file\n",
    "\n",
    "basedate = datetime.date(2015, 5, 22)\n",
    "# The data has days as days since study start\n",
    "# Establishing a base date to work from\n",
    "\n",
    "newfile = dataset + \"_processed.csv\"\n",
    "with open(file) as file:  # Open the data file\n",
    "    with open(newfile, \"w\") as export:  # Open the file for the processed data\n",
    "        isheader = True\n",
    "        # Flag to mark when the header is being read\n",
    "\n",
    "        for line in file:\n",
    "            # Work line by line within the file\n",
    "\n",
    "            if isheader:\n",
    "                # Executes on the first iteration i.e. when reading the header\n",
    "\n",
    "                isheader = False\n",
    "                # All future lines will not be header lines\n",
    "\n",
    "                export.write('\"id\",\"time\",\"gl\"\\n')\n",
    "                # Write the export file's header\n",
    "\n",
    "                continue\n",
    "                # Move to the next iteration without executing the rest of the code\n",
    "\n",
    "            line = line.split(\"|\")\n",
    "            # Split the data by delimiting character so it can be worked with\n",
    "\n",
    "            day = datetime.timedelta(days=int(line[4]))\n",
    "            # obtain the \"number of days since enrolled in study\" field in a way useful for doing date arithmetic\n",
    "\n",
    "            thisdate = basedate + day\n",
    "            # Create the date that will get written to the file\n",
    "\n",
    "            thistime = datetime.datetime.strptime(line[5], \"%H:%M:%S\").time()\n",
    "            # Read the reading time as a time object\n",
    "\n",
    "            thedatetime = datetime.datetime.combine(thisdate, thistime)\n",
    "            # Combine the read date and time objects\n",
    "\n",
    "            val = line[9]\n",
    "\n",
    "            export.write(\n",
    "                str(line[2]) + \",\" + str(thedatetime) + \",\" + line[9][0:3] + \"\\n\"\n",
    "            )\n",
    "            # Write all the data to the export file in the working directory\n",
    "\n",
    "# this is a large dataset, so do not be surprised is the runtime is somewhat long"
   ]
  },
  {
   "cell_type": "code",
   "execution_count": 11,
   "id": "2c068922",
   "metadata": {},
   "outputs": [],
   "source": [
    "# import polars as pl\n",
    "# my_file = \"../data_downloads/aleppo_processed.csv\"\n",
    "\n",
    "# df = pl.read_csv(my_file)\n",
    "# Load each data table\n",
    "import pandas as pd\n",
    "import os\n",
    "\n",
    "dataset_path = os.path.abspath(\"../data_downloads/aleppo/Data Tables\")\n",
    "cgm_df = pd.read_csv(os.path.join(dataset_path, \"HDeviceCGM.txt\"), sep=\"|\")\n",
    "bgm_df = pd.read_csv(os.path.join(dataset_path, \"HDeviceBGM.txt\"), sep=\"|\")\n",
    "# a1c_df = pd.read_csv(os.path.join(dataset_path, 'HA1c.txt'), sep='|')\n",
    "insulin_df = pd.read_csv(os.path.join(dataset_path, \"HInsulin.txt\"), sep=\"|\")\n",
    "medications_df = pd.read_csv(os.path.join(dataset_path, \"HMedication.txt\"), sep=\"|\")\n",
    "# patient_df = pd.read_csv(os.path.join(dataset_path, 'HPatient.txt'), sep='|')"
   ]
  },
  {
   "cell_type": "code",
   "execution_count": 12,
   "id": "5711a6c7",
   "metadata": {},
   "outputs": [
    {
     "name": "stdout",
     "output_type": "stream",
     "text": [
      "Index(['RecID', 'ParentHDeviceUploadsID', 'PtID', 'SiteID',\n",
      "       'DeviceDtTmDaysFromEnroll', 'DeviceTm', 'DexInternalDtTmDaysFromEnroll',\n",
      "       'DexInternalTm', 'RecordType', 'GlucoseValue'],\n",
      "      dtype='object')\n",
      "Index(['RecID', 'ParentHDeviceUploadsID', 'PtID', 'SiteID',\n",
      "       'DeviceDtTmDaysFromEnroll', 'DeviceTm', 'RecordType', 'RecordSubType',\n",
      "       'GlucoseValue'],\n",
      "      dtype='object')\n",
      "Index(['RecID', 'PtID', 'SiteID', 'InsName', 'InsRoute', 'InsInjectionFreq',\n",
      "       'InsTypeStart', 'InsTypeStartDtDaysFromEnroll', 'InsTypeStartUnknown',\n",
      "       'InsTypeStopDtDaysFromEnroll', 'InsTypeStopUnknown',\n",
      "       'InsTypeStartEstimate', 'InsTypeStopEstimate'],\n",
      "      dtype='object')\n",
      "Index(['RecID', 'PtID', 'SiteID', 'DrugName', 'MedDose', 'MedUnit',\n",
      "       'MedDoseUnk', 'MedRoute', 'MedLocSide', 'MedFreqType', 'MedFreqNum',\n",
      "       'MedFreqPer', 'MedFreqUnk', 'MedInd', 'MedicalCondition1',\n",
      "       'MedicalCondition2', 'AdverseEvent1', 'AdverseEvent2',\n",
      "       'PreExistingCondition1', 'PreExistingCondition2', 'MedStartTrtCat',\n",
      "       'MedStartDtDaysFromEnroll', 'MedStartDtApprox',\n",
      "       'MedStopDtDaysFromEnroll', 'MedStopDtApprox', 'MedOngoing',\n",
      "       'MedStartPreEnrRange', 'MedStartMonthsAfterEnroll',\n",
      "       'MedStartYearsAfterEnroll', 'MedStopMonthsAfterEnroll',\n",
      "       'MedStopYearsAfterEnroll', 'MedStopDtUnk', 'MedStartDtUnk',\n",
      "       'MedCondNotReqd', 'PreExistCondNotReqd', 'AdvEventNotReqd'],\n",
      "      dtype='object')\n"
     ]
    }
   ],
   "source": [
    "print(cgm_df.columns)\n",
    "print(bgm_df.columns)\n",
    "# print(a1c_df.columns)\n",
    "print(insulin_df.columns)\n",
    "print(medications_df.columns)\n",
    "# print(patient_df.columns)"
   ]
  },
  {
   "cell_type": "code",
   "execution_count": 19,
   "id": "0695527c",
   "metadata": {},
   "outputs": [
    {
     "data": {
      "text/plain": [
       "(14950661, 10)"
      ]
     },
     "execution_count": 19,
     "metadata": {},
     "output_type": "execute_result"
    }
   ],
   "source": [
    "cgm_df.shape"
   ]
  },
  {
   "cell_type": "code",
   "execution_count": null,
   "id": "8840fb8c",
   "metadata": {},
   "outputs": [],
   "source": [
    "import pandas as pd\n",
    "from src.data.aleppo.aleppo import AleppoDataLoader\n",
    "\n",
    "# file_path = \"../data_downloads/aleppo_processed.csv\"\n",
    "# aleppo = AleppoDataLoader(file_path)\n",
    "test = pd.read_csv(\"../data_downloads/aleppo_processed.csv\")\n",
    "test = test.rename(columns={\"id\": \"p_num\", \"gl\": \"bgl\", \"time\": \"datetime\"})\n",
    "test.to_csv(\"../data_downloads/aleppo_processed.csv\")"
   ]
  },
  {
   "cell_type": "code",
   "execution_count": null,
   "id": "946d5996",
   "metadata": {},
   "outputs": [],
   "source": [
    "import pandas as pd\n",
    "\n",
    "file_path = \"../data_downloads/aleppo_processed.csv\"\n",
    "keep_columns = [\"p_num\", \"date\", \"bgl\"]\n",
    "aleppo = AleppoDataLoader(file_path=file_path, keep_columns=keep_columns)"
   ]
  },
  {
   "cell_type": "markdown",
   "id": "09481970",
   "metadata": {},
   "source": [
    "# Anderson Dataset"
   ]
  },
  {
   "cell_type": "code",
   "execution_count": 4,
   "id": "ad25c4a0",
   "metadata": {},
   "outputs": [
    {
     "ename": "OSError",
     "evalue": "Cannot save file into a non-existent directory: '..\\data_downloads'",
     "output_type": "error",
     "traceback": [
      "\u001b[1;31m---------------------------------------------------------------------------\u001b[0m",
      "\u001b[1;31mOSError\u001b[0m                                   Traceback (most recent call last)",
      "Cell \u001b[1;32mIn[4], line 43\u001b[0m\n\u001b[0;32m     40\u001b[0m write_header \u001b[38;5;241m=\u001b[39m \u001b[38;5;129;01mnot\u001b[39;00m os\u001b[38;5;241m.\u001b[39mpath\u001b[38;5;241m.\u001b[39mexists(output_file)\n\u001b[0;32m     42\u001b[0m \u001b[38;5;66;03m# Save the cleaned data\u001b[39;00m\n\u001b[1;32m---> 43\u001b[0m \u001b[43mcurr\u001b[49m\u001b[38;5;241;43m.\u001b[39;49m\u001b[43mto_csv\u001b[49m\u001b[43m(\u001b[49m\u001b[43moutput_file\u001b[49m\u001b[43m,\u001b[49m\u001b[43m \u001b[49m\u001b[43mindex\u001b[49m\u001b[38;5;241;43m=\u001b[39;49m\u001b[38;5;28;43;01mFalse\u001b[39;49;00m\u001b[43m,\u001b[49m\u001b[43m \u001b[49m\u001b[43mheader\u001b[49m\u001b[38;5;241;43m=\u001b[39;49m\u001b[43mwrite_header\u001b[49m\u001b[43m,\u001b[49m\u001b[43m \u001b[49m\u001b[43mmode\u001b[49m\u001b[38;5;241;43m=\u001b[39;49m\u001b[38;5;124;43m'\u001b[39;49m\u001b[38;5;124;43ma\u001b[39;49m\u001b[38;5;124;43m'\u001b[39;49m\u001b[43m)\u001b[49m\n\u001b[0;32m     45\u001b[0m \u001b[38;5;66;03m# Note: 'DisplayTime' is used because it is user-configurable.\u001b[39;00m\n\u001b[0;32m     46\u001b[0m \u001b[38;5;66;03m# \"The time displayed to the user on the receiver or phone. This time is assumed to be user-configurable.\"\u001b[39;00m\n\u001b[0;32m     47\u001b[0m \u001b[38;5;66;03m# Source: https://developer.dexcom.com/glossary\u001b[39;00m\n",
      "File \u001b[1;32mc:\\Users\\viloh\\Documents\\nocturnal-hypo-gly-prob-forecast\\.venv\\Lib\\site-packages\\pandas\\util\\_decorators.py:333\u001b[0m, in \u001b[0;36mdeprecate_nonkeyword_arguments.<locals>.decorate.<locals>.wrapper\u001b[1;34m(*args, **kwargs)\u001b[0m\n\u001b[0;32m    327\u001b[0m \u001b[38;5;28;01mif\u001b[39;00m \u001b[38;5;28mlen\u001b[39m(args) \u001b[38;5;241m>\u001b[39m num_allow_args:\n\u001b[0;32m    328\u001b[0m     warnings\u001b[38;5;241m.\u001b[39mwarn(\n\u001b[0;32m    329\u001b[0m         msg\u001b[38;5;241m.\u001b[39mformat(arguments\u001b[38;5;241m=\u001b[39m_format_argument_list(allow_args)),\n\u001b[0;32m    330\u001b[0m         \u001b[38;5;167;01mFutureWarning\u001b[39;00m,\n\u001b[0;32m    331\u001b[0m         stacklevel\u001b[38;5;241m=\u001b[39mfind_stack_level(),\n\u001b[0;32m    332\u001b[0m     )\n\u001b[1;32m--> 333\u001b[0m \u001b[38;5;28;01mreturn\u001b[39;00m \u001b[43mfunc\u001b[49m\u001b[43m(\u001b[49m\u001b[38;5;241;43m*\u001b[39;49m\u001b[43margs\u001b[49m\u001b[43m,\u001b[49m\u001b[43m \u001b[49m\u001b[38;5;241;43m*\u001b[39;49m\u001b[38;5;241;43m*\u001b[39;49m\u001b[43mkwargs\u001b[49m\u001b[43m)\u001b[49m\n",
      "File \u001b[1;32mc:\\Users\\viloh\\Documents\\nocturnal-hypo-gly-prob-forecast\\.venv\\Lib\\site-packages\\pandas\\core\\generic.py:3967\u001b[0m, in \u001b[0;36mNDFrame.to_csv\u001b[1;34m(self, path_or_buf, sep, na_rep, float_format, columns, header, index, index_label, mode, encoding, compression, quoting, quotechar, lineterminator, chunksize, date_format, doublequote, escapechar, decimal, errors, storage_options)\u001b[0m\n\u001b[0;32m   3956\u001b[0m df \u001b[38;5;241m=\u001b[39m \u001b[38;5;28mself\u001b[39m \u001b[38;5;28;01mif\u001b[39;00m \u001b[38;5;28misinstance\u001b[39m(\u001b[38;5;28mself\u001b[39m, ABCDataFrame) \u001b[38;5;28;01melse\u001b[39;00m \u001b[38;5;28mself\u001b[39m\u001b[38;5;241m.\u001b[39mto_frame()\n\u001b[0;32m   3958\u001b[0m formatter \u001b[38;5;241m=\u001b[39m DataFrameFormatter(\n\u001b[0;32m   3959\u001b[0m     frame\u001b[38;5;241m=\u001b[39mdf,\n\u001b[0;32m   3960\u001b[0m     header\u001b[38;5;241m=\u001b[39mheader,\n\u001b[1;32m   (...)\u001b[0m\n\u001b[0;32m   3964\u001b[0m     decimal\u001b[38;5;241m=\u001b[39mdecimal,\n\u001b[0;32m   3965\u001b[0m )\n\u001b[1;32m-> 3967\u001b[0m \u001b[38;5;28;01mreturn\u001b[39;00m \u001b[43mDataFrameRenderer\u001b[49m\u001b[43m(\u001b[49m\u001b[43mformatter\u001b[49m\u001b[43m)\u001b[49m\u001b[38;5;241;43m.\u001b[39;49m\u001b[43mto_csv\u001b[49m\u001b[43m(\u001b[49m\n\u001b[0;32m   3968\u001b[0m \u001b[43m    \u001b[49m\u001b[43mpath_or_buf\u001b[49m\u001b[43m,\u001b[49m\n\u001b[0;32m   3969\u001b[0m \u001b[43m    \u001b[49m\u001b[43mlineterminator\u001b[49m\u001b[38;5;241;43m=\u001b[39;49m\u001b[43mlineterminator\u001b[49m\u001b[43m,\u001b[49m\n\u001b[0;32m   3970\u001b[0m \u001b[43m    \u001b[49m\u001b[43msep\u001b[49m\u001b[38;5;241;43m=\u001b[39;49m\u001b[43msep\u001b[49m\u001b[43m,\u001b[49m\n\u001b[0;32m   3971\u001b[0m \u001b[43m    \u001b[49m\u001b[43mencoding\u001b[49m\u001b[38;5;241;43m=\u001b[39;49m\u001b[43mencoding\u001b[49m\u001b[43m,\u001b[49m\n\u001b[0;32m   3972\u001b[0m \u001b[43m    \u001b[49m\u001b[43merrors\u001b[49m\u001b[38;5;241;43m=\u001b[39;49m\u001b[43merrors\u001b[49m\u001b[43m,\u001b[49m\n\u001b[0;32m   3973\u001b[0m \u001b[43m    \u001b[49m\u001b[43mcompression\u001b[49m\u001b[38;5;241;43m=\u001b[39;49m\u001b[43mcompression\u001b[49m\u001b[43m,\u001b[49m\n\u001b[0;32m   3974\u001b[0m \u001b[43m    \u001b[49m\u001b[43mquoting\u001b[49m\u001b[38;5;241;43m=\u001b[39;49m\u001b[43mquoting\u001b[49m\u001b[43m,\u001b[49m\n\u001b[0;32m   3975\u001b[0m \u001b[43m    \u001b[49m\u001b[43mcolumns\u001b[49m\u001b[38;5;241;43m=\u001b[39;49m\u001b[43mcolumns\u001b[49m\u001b[43m,\u001b[49m\n\u001b[0;32m   3976\u001b[0m \u001b[43m    \u001b[49m\u001b[43mindex_label\u001b[49m\u001b[38;5;241;43m=\u001b[39;49m\u001b[43mindex_label\u001b[49m\u001b[43m,\u001b[49m\n\u001b[0;32m   3977\u001b[0m \u001b[43m    \u001b[49m\u001b[43mmode\u001b[49m\u001b[38;5;241;43m=\u001b[39;49m\u001b[43mmode\u001b[49m\u001b[43m,\u001b[49m\n\u001b[0;32m   3978\u001b[0m \u001b[43m    \u001b[49m\u001b[43mchunksize\u001b[49m\u001b[38;5;241;43m=\u001b[39;49m\u001b[43mchunksize\u001b[49m\u001b[43m,\u001b[49m\n\u001b[0;32m   3979\u001b[0m \u001b[43m    \u001b[49m\u001b[43mquotechar\u001b[49m\u001b[38;5;241;43m=\u001b[39;49m\u001b[43mquotechar\u001b[49m\u001b[43m,\u001b[49m\n\u001b[0;32m   3980\u001b[0m \u001b[43m    \u001b[49m\u001b[43mdate_format\u001b[49m\u001b[38;5;241;43m=\u001b[39;49m\u001b[43mdate_format\u001b[49m\u001b[43m,\u001b[49m\n\u001b[0;32m   3981\u001b[0m \u001b[43m    \u001b[49m\u001b[43mdoublequote\u001b[49m\u001b[38;5;241;43m=\u001b[39;49m\u001b[43mdoublequote\u001b[49m\u001b[43m,\u001b[49m\n\u001b[0;32m   3982\u001b[0m \u001b[43m    \u001b[49m\u001b[43mescapechar\u001b[49m\u001b[38;5;241;43m=\u001b[39;49m\u001b[43mescapechar\u001b[49m\u001b[43m,\u001b[49m\n\u001b[0;32m   3983\u001b[0m \u001b[43m    \u001b[49m\u001b[43mstorage_options\u001b[49m\u001b[38;5;241;43m=\u001b[39;49m\u001b[43mstorage_options\u001b[49m\u001b[43m,\u001b[49m\n\u001b[0;32m   3984\u001b[0m \u001b[43m\u001b[49m\u001b[43m)\u001b[49m\n",
      "File \u001b[1;32mc:\\Users\\viloh\\Documents\\nocturnal-hypo-gly-prob-forecast\\.venv\\Lib\\site-packages\\pandas\\io\\formats\\format.py:1014\u001b[0m, in \u001b[0;36mDataFrameRenderer.to_csv\u001b[1;34m(self, path_or_buf, encoding, sep, columns, index_label, mode, compression, quoting, quotechar, lineterminator, chunksize, date_format, doublequote, escapechar, errors, storage_options)\u001b[0m\n\u001b[0;32m    993\u001b[0m     created_buffer \u001b[38;5;241m=\u001b[39m \u001b[38;5;28;01mFalse\u001b[39;00m\n\u001b[0;32m    995\u001b[0m csv_formatter \u001b[38;5;241m=\u001b[39m CSVFormatter(\n\u001b[0;32m    996\u001b[0m     path_or_buf\u001b[38;5;241m=\u001b[39mpath_or_buf,\n\u001b[0;32m    997\u001b[0m     lineterminator\u001b[38;5;241m=\u001b[39mlineterminator,\n\u001b[1;32m   (...)\u001b[0m\n\u001b[0;32m   1012\u001b[0m     formatter\u001b[38;5;241m=\u001b[39m\u001b[38;5;28mself\u001b[39m\u001b[38;5;241m.\u001b[39mfmt,\n\u001b[0;32m   1013\u001b[0m )\n\u001b[1;32m-> 1014\u001b[0m \u001b[43mcsv_formatter\u001b[49m\u001b[38;5;241;43m.\u001b[39;49m\u001b[43msave\u001b[49m\u001b[43m(\u001b[49m\u001b[43m)\u001b[49m\n\u001b[0;32m   1016\u001b[0m \u001b[38;5;28;01mif\u001b[39;00m created_buffer:\n\u001b[0;32m   1017\u001b[0m     \u001b[38;5;28;01massert\u001b[39;00m \u001b[38;5;28misinstance\u001b[39m(path_or_buf, StringIO)\n",
      "File \u001b[1;32mc:\\Users\\viloh\\Documents\\nocturnal-hypo-gly-prob-forecast\\.venv\\Lib\\site-packages\\pandas\\io\\formats\\csvs.py:251\u001b[0m, in \u001b[0;36mCSVFormatter.save\u001b[1;34m(self)\u001b[0m\n\u001b[0;32m    247\u001b[0m \u001b[38;5;250m\u001b[39m\u001b[38;5;124;03m\"\"\"\u001b[39;00m\n\u001b[0;32m    248\u001b[0m \u001b[38;5;124;03mCreate the writer & save.\u001b[39;00m\n\u001b[0;32m    249\u001b[0m \u001b[38;5;124;03m\"\"\"\u001b[39;00m\n\u001b[0;32m    250\u001b[0m \u001b[38;5;66;03m# apply compression and byte/text conversion\u001b[39;00m\n\u001b[1;32m--> 251\u001b[0m \u001b[38;5;28;01mwith\u001b[39;00m \u001b[43mget_handle\u001b[49m\u001b[43m(\u001b[49m\n\u001b[0;32m    252\u001b[0m \u001b[43m    \u001b[49m\u001b[38;5;28;43mself\u001b[39;49m\u001b[38;5;241;43m.\u001b[39;49m\u001b[43mfilepath_or_buffer\u001b[49m\u001b[43m,\u001b[49m\n\u001b[0;32m    253\u001b[0m \u001b[43m    \u001b[49m\u001b[38;5;28;43mself\u001b[39;49m\u001b[38;5;241;43m.\u001b[39;49m\u001b[43mmode\u001b[49m\u001b[43m,\u001b[49m\n\u001b[0;32m    254\u001b[0m \u001b[43m    \u001b[49m\u001b[43mencoding\u001b[49m\u001b[38;5;241;43m=\u001b[39;49m\u001b[38;5;28;43mself\u001b[39;49m\u001b[38;5;241;43m.\u001b[39;49m\u001b[43mencoding\u001b[49m\u001b[43m,\u001b[49m\n\u001b[0;32m    255\u001b[0m \u001b[43m    \u001b[49m\u001b[43merrors\u001b[49m\u001b[38;5;241;43m=\u001b[39;49m\u001b[38;5;28;43mself\u001b[39;49m\u001b[38;5;241;43m.\u001b[39;49m\u001b[43merrors\u001b[49m\u001b[43m,\u001b[49m\n\u001b[0;32m    256\u001b[0m \u001b[43m    \u001b[49m\u001b[43mcompression\u001b[49m\u001b[38;5;241;43m=\u001b[39;49m\u001b[38;5;28;43mself\u001b[39;49m\u001b[38;5;241;43m.\u001b[39;49m\u001b[43mcompression\u001b[49m\u001b[43m,\u001b[49m\n\u001b[0;32m    257\u001b[0m \u001b[43m    \u001b[49m\u001b[43mstorage_options\u001b[49m\u001b[38;5;241;43m=\u001b[39;49m\u001b[38;5;28;43mself\u001b[39;49m\u001b[38;5;241;43m.\u001b[39;49m\u001b[43mstorage_options\u001b[49m\u001b[43m,\u001b[49m\n\u001b[0;32m    258\u001b[0m \u001b[43m\u001b[49m\u001b[43m)\u001b[49m \u001b[38;5;28;01mas\u001b[39;00m handles:\n\u001b[0;32m    259\u001b[0m     \u001b[38;5;66;03m# Note: self.encoding is irrelevant here\u001b[39;00m\n\u001b[0;32m    260\u001b[0m     \u001b[38;5;28mself\u001b[39m\u001b[38;5;241m.\u001b[39mwriter \u001b[38;5;241m=\u001b[39m csvlib\u001b[38;5;241m.\u001b[39mwriter(\n\u001b[0;32m    261\u001b[0m         handles\u001b[38;5;241m.\u001b[39mhandle,\n\u001b[0;32m    262\u001b[0m         lineterminator\u001b[38;5;241m=\u001b[39m\u001b[38;5;28mself\u001b[39m\u001b[38;5;241m.\u001b[39mlineterminator,\n\u001b[1;32m   (...)\u001b[0m\n\u001b[0;32m    267\u001b[0m         quotechar\u001b[38;5;241m=\u001b[39m\u001b[38;5;28mself\u001b[39m\u001b[38;5;241m.\u001b[39mquotechar,\n\u001b[0;32m    268\u001b[0m     )\n\u001b[0;32m    270\u001b[0m     \u001b[38;5;28mself\u001b[39m\u001b[38;5;241m.\u001b[39m_save()\n",
      "File \u001b[1;32mc:\\Users\\viloh\\Documents\\nocturnal-hypo-gly-prob-forecast\\.venv\\Lib\\site-packages\\pandas\\io\\common.py:749\u001b[0m, in \u001b[0;36mget_handle\u001b[1;34m(path_or_buf, mode, encoding, compression, memory_map, is_text, errors, storage_options)\u001b[0m\n\u001b[0;32m    747\u001b[0m \u001b[38;5;66;03m# Only for write methods\u001b[39;00m\n\u001b[0;32m    748\u001b[0m \u001b[38;5;28;01mif\u001b[39;00m \u001b[38;5;124m\"\u001b[39m\u001b[38;5;124mr\u001b[39m\u001b[38;5;124m\"\u001b[39m \u001b[38;5;129;01mnot\u001b[39;00m \u001b[38;5;129;01min\u001b[39;00m mode \u001b[38;5;129;01mand\u001b[39;00m is_path:\n\u001b[1;32m--> 749\u001b[0m     \u001b[43mcheck_parent_directory\u001b[49m\u001b[43m(\u001b[49m\u001b[38;5;28;43mstr\u001b[39;49m\u001b[43m(\u001b[49m\u001b[43mhandle\u001b[49m\u001b[43m)\u001b[49m\u001b[43m)\u001b[49m\n\u001b[0;32m    751\u001b[0m \u001b[38;5;28;01mif\u001b[39;00m compression:\n\u001b[0;32m    752\u001b[0m     \u001b[38;5;28;01mif\u001b[39;00m compression \u001b[38;5;241m!=\u001b[39m \u001b[38;5;124m\"\u001b[39m\u001b[38;5;124mzstd\u001b[39m\u001b[38;5;124m\"\u001b[39m:\n\u001b[0;32m    753\u001b[0m         \u001b[38;5;66;03m# compression libraries do not like an explicit text-mode\u001b[39;00m\n",
      "File \u001b[1;32mc:\\Users\\viloh\\Documents\\nocturnal-hypo-gly-prob-forecast\\.venv\\Lib\\site-packages\\pandas\\io\\common.py:616\u001b[0m, in \u001b[0;36mcheck_parent_directory\u001b[1;34m(path)\u001b[0m\n\u001b[0;32m    614\u001b[0m parent \u001b[38;5;241m=\u001b[39m Path(path)\u001b[38;5;241m.\u001b[39mparent\n\u001b[0;32m    615\u001b[0m \u001b[38;5;28;01mif\u001b[39;00m \u001b[38;5;129;01mnot\u001b[39;00m parent\u001b[38;5;241m.\u001b[39mis_dir():\n\u001b[1;32m--> 616\u001b[0m     \u001b[38;5;28;01mraise\u001b[39;00m \u001b[38;5;167;01mOSError\u001b[39;00m(\u001b[38;5;124mrf\u001b[39m\u001b[38;5;124m\"\u001b[39m\u001b[38;5;124mCannot save file into a non-existent directory: \u001b[39m\u001b[38;5;124m'\u001b[39m\u001b[38;5;132;01m{\u001b[39;00mparent\u001b[38;5;132;01m}\u001b[39;00m\u001b[38;5;124m'\u001b[39m\u001b[38;5;124m\"\u001b[39m)\n",
      "\u001b[1;31mOSError\u001b[0m: Cannot save file into a non-existent directory: '..\\data_downloads'"
     ]
    }
   ],
   "source": [
    "# This is the script for processing Anderson2016 data into the common format.\n",
    "# Author: David Buchanan\n",
    "# Adapted to Python by ChatGPT\n",
    "# Original Date: January 31st, 2020, edited June 13th, 2020 by Elizabeth Chun\n",
    "\n",
    "import os\n",
    "import pandas as pd\n",
    "\n",
    "# Set the dataset name (name of the created folder)\n",
    "# dataset = \"../data_downloads/anderson\"\n",
    "\n",
    "# Change the working directory to the dataset folder\n",
    "# os.chdir(dataset)\n",
    "\n",
    "# Define the file path\n",
    "file_path = os.path.join(\"Data Tables\", \"CGM.txt\")\n",
    "\n",
    "# Alternatively, if the file structure has been changed, place CGM.txt directly in the folder and use:\n",
    "# file_path = \"CGM.txt\"\n",
    "\n",
    "# Read the raw data\n",
    "curr = pd.read_csv(file_path, sep=\"|\")\n",
    "\n",
    "# Reorder and keep only the columns we want\n",
    "curr = curr.iloc[\n",
    "    :, [0, 4, 3]\n",
    "]  # Columns 1, 5, and 4 in R are 0, 4, and 3 in Python (0-indexed)\n",
    "\n",
    "# Rename columns to standard format\n",
    "curr.columns = [\"id\", \"time\", \"gl\"]\n",
    "\n",
    "# Ensure glucose values are numeric\n",
    "curr[\"gl\"] = pd.to_numeric(curr[\"gl\"], errors=\"coerce\")\n",
    "\n",
    "# Standardize date and time\n",
    "curr[\"time\"] = pd.to_datetime(curr[\"time\"], format=\"%Y-%m-%d %H:%M:%S\", errors=\"coerce\")\n",
    "\n",
    "# Define the output file name\n",
    "output_file = f\"./{dataset}_processed.csv\"\n",
    "\n",
    "# Check if the file exists to determine header inclusion\n",
    "write_header = not os.path.exists(output_file)\n",
    "\n",
    "# Save the cleaned data\n",
    "curr.to_csv(output_file, index=False, header=write_header, mode=\"a\")\n",
    "\n",
    "# Note: 'DisplayTime' is used because it is user-configurable.\n",
    "# \"The time displayed to the user on the receiver or phone. This time is assumed to be user-configurable.\"\n",
    "# Source: https://developer.dexcom.com/glossary"
   ]
  },
  {
   "cell_type": "code",
   "execution_count": 5,
   "id": "b9188e5a",
   "metadata": {},
   "outputs": [],
   "source": [
    "curr.to_csv(\"./test.csv\", index=False, header=write_header, mode=\"a\")"
   ]
  },
  {
   "cell_type": "code",
   "execution_count": 15,
   "id": "b1c833e0",
   "metadata": {},
   "outputs": [],
   "source": [
    "ketones_df = pd.read_csv(\n",
    "    os.path.join(os.getcwd(), \"Data Tables\", \"Ketone.txt\"), sep=\"|\"\n",
    ")\n",
    "ketones_df = ketones_df.rename(columns={\"DeidentID\": \"id\", \"DataDtTm\": \"time\"})[\n",
    "    [\"id\", \"time\", \"Ketone\", \"Units\", \"DeviceModel\"]\n",
    "]"
   ]
  },
  {
   "cell_type": "code",
   "execution_count": 17,
   "id": "dc9ed3e5",
   "metadata": {},
   "outputs": [
    {
     "data": {
      "application/vnd.microsoft.datawrangler.viewer.v0+json": {
       "columns": [
        {
         "name": "index",
         "rawType": "int64",
         "type": "integer"
        },
        {
         "name": "id",
         "rawType": "int64",
         "type": "integer"
        },
        {
         "name": "time",
         "rawType": "datetime64[ns]",
         "type": "datetime"
        },
        {
         "name": "gl",
         "rawType": "int64",
         "type": "integer"
        }
       ],
       "ref": "a87d2725-ae19-4542-a643-11f21e99e0ba",
       "rows": [
        [
         "0",
         "1",
         "2013-09-29 17:36:48",
         "194"
        ],
        [
         "1",
         "1",
         "2013-09-29 17:41:48",
         "204"
        ],
        [
         "2",
         "1",
         "2013-09-29 17:46:48",
         "201"
        ],
        [
         "3",
         "1",
         "2013-09-29 17:51:48",
         "204"
        ],
        [
         "4",
         "1",
         "2013-09-29 17:56:48",
         "200"
        ],
        [
         "5",
         "1",
         "2013-09-29 18:01:48",
         "196"
        ],
        [
         "6",
         "1",
         "2013-09-29 18:06:48",
         "192"
        ],
        [
         "7",
         "1",
         "2013-09-29 18:11:48",
         "191"
        ],
        [
         "8",
         "1",
         "2013-09-29 18:16:48",
         "186"
        ],
        [
         "9",
         "1",
         "2013-09-29 18:21:48",
         "168"
        ],
        [
         "10",
         "1",
         "2013-09-29 18:26:48",
         "162"
        ],
        [
         "11",
         "1",
         "2013-09-29 18:31:48",
         "162"
        ],
        [
         "12",
         "1",
         "2013-09-29 18:36:48",
         "156"
        ],
        [
         "13",
         "1",
         "2013-09-29 18:41:48",
         "150"
        ],
        [
         "14",
         "1",
         "2013-09-29 18:46:48",
         "147"
        ],
        [
         "15",
         "1",
         "2013-09-29 18:51:48",
         "145"
        ],
        [
         "16",
         "1",
         "2013-09-29 18:56:48",
         "142"
        ],
        [
         "17",
         "1",
         "2013-09-29 19:01:48",
         "137"
        ],
        [
         "18",
         "1",
         "2013-09-29 19:06:48",
         "127"
        ],
        [
         "19",
         "1",
         "2013-09-29 19:11:48",
         "126"
        ],
        [
         "20",
         "1",
         "2013-09-29 19:16:48",
         "125"
        ],
        [
         "21",
         "1",
         "2013-09-29 19:21:47",
         "128"
        ],
        [
         "22",
         "1",
         "2013-09-29 19:26:47",
         "135"
        ],
        [
         "23",
         "1",
         "2013-09-29 19:31:48",
         "139"
        ],
        [
         "24",
         "1",
         "2013-09-29 19:36:47",
         "136"
        ],
        [
         "25",
         "1",
         "2013-09-29 19:41:47",
         "135"
        ],
        [
         "26",
         "1",
         "2013-09-29 19:46:47",
         "129"
        ],
        [
         "27",
         "1",
         "2013-09-29 19:51:47",
         "126"
        ],
        [
         "28",
         "1",
         "2013-09-29 19:56:47",
         "117"
        ],
        [
         "29",
         "1",
         "2013-09-29 20:01:47",
         "99"
        ],
        [
         "30",
         "1",
         "2013-09-29 20:06:47",
         "113"
        ],
        [
         "31",
         "1",
         "2013-09-29 20:11:47",
         "111"
        ],
        [
         "32",
         "1",
         "2013-09-29 20:16:47",
         "117"
        ],
        [
         "33",
         "1",
         "2013-09-29 20:21:47",
         "132"
        ],
        [
         "34",
         "1",
         "2013-09-29 20:26:47",
         "179"
        ],
        [
         "35",
         "1",
         "2013-09-29 20:31:47",
         "201"
        ],
        [
         "36",
         "1",
         "2013-09-29 20:36:47",
         "224"
        ],
        [
         "37",
         "1",
         "2013-09-29 20:41:47",
         "205"
        ],
        [
         "38",
         "1",
         "2013-09-29 20:46:47",
         "219"
        ],
        [
         "39",
         "1",
         "2013-09-29 20:51:47",
         "226"
        ],
        [
         "40",
         "1",
         "2013-09-29 20:56:47",
         "225"
        ],
        [
         "41",
         "1",
         "2013-09-29 21:01:47",
         "219"
        ],
        [
         "42",
         "1",
         "2013-09-29 21:06:47",
         "211"
        ],
        [
         "43",
         "1",
         "2013-09-29 21:11:47",
         "205"
        ],
        [
         "44",
         "1",
         "2013-09-29 21:16:47",
         "200"
        ],
        [
         "45",
         "1",
         "2013-09-29 21:21:47",
         "196"
        ],
        [
         "46",
         "1",
         "2013-09-29 21:26:47",
         "182"
        ],
        [
         "47",
         "1",
         "2013-09-29 21:31:47",
         "178"
        ],
        [
         "48",
         "1",
         "2013-09-29 21:36:47",
         "175"
        ],
        [
         "49",
         "1",
         "2013-09-29 21:41:47",
         "161"
        ]
       ],
       "shape": {
        "columns": 3,
        "rows": 1302636
       }
      },
      "text/html": [
       "<div>\n",
       "<style scoped>\n",
       "    .dataframe tbody tr th:only-of-type {\n",
       "        vertical-align: middle;\n",
       "    }\n",
       "\n",
       "    .dataframe tbody tr th {\n",
       "        vertical-align: top;\n",
       "    }\n",
       "\n",
       "    .dataframe thead th {\n",
       "        text-align: right;\n",
       "    }\n",
       "</style>\n",
       "<table border=\"1\" class=\"dataframe\">\n",
       "  <thead>\n",
       "    <tr style=\"text-align: right;\">\n",
       "      <th></th>\n",
       "      <th>id</th>\n",
       "      <th>time</th>\n",
       "      <th>gl</th>\n",
       "    </tr>\n",
       "  </thead>\n",
       "  <tbody>\n",
       "    <tr>\n",
       "      <th>0</th>\n",
       "      <td>1</td>\n",
       "      <td>2013-09-29 17:36:48</td>\n",
       "      <td>194</td>\n",
       "    </tr>\n",
       "    <tr>\n",
       "      <th>1</th>\n",
       "      <td>1</td>\n",
       "      <td>2013-09-29 17:41:48</td>\n",
       "      <td>204</td>\n",
       "    </tr>\n",
       "    <tr>\n",
       "      <th>2</th>\n",
       "      <td>1</td>\n",
       "      <td>2013-09-29 17:46:48</td>\n",
       "      <td>201</td>\n",
       "    </tr>\n",
       "    <tr>\n",
       "      <th>3</th>\n",
       "      <td>1</td>\n",
       "      <td>2013-09-29 17:51:48</td>\n",
       "      <td>204</td>\n",
       "    </tr>\n",
       "    <tr>\n",
       "      <th>4</th>\n",
       "      <td>1</td>\n",
       "      <td>2013-09-29 17:56:48</td>\n",
       "      <td>200</td>\n",
       "    </tr>\n",
       "    <tr>\n",
       "      <th>...</th>\n",
       "      <td>...</td>\n",
       "      <td>...</td>\n",
       "      <td>...</td>\n",
       "    </tr>\n",
       "    <tr>\n",
       "      <th>1302631</th>\n",
       "      <td>20</td>\n",
       "      <td>2014-06-01 12:53:08</td>\n",
       "      <td>144</td>\n",
       "    </tr>\n",
       "    <tr>\n",
       "      <th>1302632</th>\n",
       "      <td>20</td>\n",
       "      <td>2014-06-01 12:58:09</td>\n",
       "      <td>143</td>\n",
       "    </tr>\n",
       "    <tr>\n",
       "      <th>1302633</th>\n",
       "      <td>20</td>\n",
       "      <td>2014-06-01 13:03:08</td>\n",
       "      <td>143</td>\n",
       "    </tr>\n",
       "    <tr>\n",
       "      <th>1302634</th>\n",
       "      <td>20</td>\n",
       "      <td>2014-06-01 13:08:08</td>\n",
       "      <td>140</td>\n",
       "    </tr>\n",
       "    <tr>\n",
       "      <th>1302635</th>\n",
       "      <td>20</td>\n",
       "      <td>2014-06-01 13:13:08</td>\n",
       "      <td>136</td>\n",
       "    </tr>\n",
       "  </tbody>\n",
       "</table>\n",
       "<p>1302636 rows × 3 columns</p>\n",
       "</div>"
      ],
      "text/plain": [
       "         id                time   gl\n",
       "0         1 2013-09-29 17:36:48  194\n",
       "1         1 2013-09-29 17:41:48  204\n",
       "2         1 2013-09-29 17:46:48  201\n",
       "3         1 2013-09-29 17:51:48  204\n",
       "4         1 2013-09-29 17:56:48  200\n",
       "...      ..                 ...  ...\n",
       "1302631  20 2014-06-01 12:53:08  144\n",
       "1302632  20 2014-06-01 12:58:09  143\n",
       "1302633  20 2014-06-01 13:03:08  143\n",
       "1302634  20 2014-06-01 13:08:08  140\n",
       "1302635  20 2014-06-01 13:13:08  136\n",
       "\n",
       "[1302636 rows x 3 columns]"
      ]
     },
     "execution_count": 17,
     "metadata": {},
     "output_type": "execute_result"
    }
   ],
   "source": [
    "curr"
   ]
  },
  {
   "cell_type": "code",
   "execution_count": 16,
   "id": "0cd15369",
   "metadata": {},
   "outputs": [
    {
     "data": {
      "application/vnd.microsoft.datawrangler.viewer.v0+json": {
       "columns": [
        {
         "name": "index",
         "rawType": "int64",
         "type": "integer"
        },
        {
         "name": "id",
         "rawType": "int64",
         "type": "integer"
        },
        {
         "name": "time",
         "rawType": "object",
         "type": "string"
        },
        {
         "name": "Ketone",
         "rawType": "float64",
         "type": "float"
        },
        {
         "name": "Units",
         "rawType": "object",
         "type": "string"
        },
        {
         "name": "DeviceModel",
         "rawType": "object",
         "type": "string"
        }
       ],
       "ref": "8e8b34a4-43e7-4ed0-9204-987d278fbfef",
       "rows": [
        [
         "0",
         "1",
         "2013-11-17 17:34:00",
         "2.4",
         "US",
         "Abbott BG Meter"
        ],
        [
         "1",
         "1",
         "2013-11-14 19:31:00",
         "0.2",
         "US",
         "Abbott BG Meter"
        ],
        [
         "2",
         "1",
         "2013-11-14 18:38:00",
         "0.2",
         "US",
         "Abbott BG Meter"
        ],
        [
         "3",
         "1",
         "2013-11-04 12:43:00",
         "4.1",
         "US",
         "Abbott BG Meter"
        ],
        [
         "4",
         "1",
         "2013-11-04 12:42:00",
         "2.3",
         "US",
         "Abbott BG Meter"
        ],
        [
         "5",
         "1",
         "2013-11-04 12:41:00",
         "0.7",
         "US",
         "Abbott BG Meter"
        ],
        [
         "6",
         "1",
         "2013-09-29 15:01:00",
         "4.3",
         "US",
         "Abbott BG Meter"
        ],
        [
         "7",
         "1",
         "2013-09-29 15:00:00",
         "2.3",
         "US",
         "Abbott BG Meter"
        ],
        [
         "8",
         "1",
         "2013-09-29 14:27:00",
         "0.7",
         "US",
         "Abbott BG Meter"
        ],
        [
         "9",
         "1",
         "2013-12-28 19:23:00",
         "4.6",
         "US",
         "Abbott BG Meter"
        ],
        [
         "10",
         "1",
         "2013-12-28 19:23:00",
         "0.8",
         "US",
         "Abbott BG Meter"
        ],
        [
         "11",
         "1",
         "2013-12-28 19:20:00",
         "2.4",
         "US",
         "Abbott BG Meter"
        ],
        [
         "12",
         "1",
         "2013-12-23 16:50:00",
         "2.3",
         "US",
         "Abbott BG Meter"
        ],
        [
         "13",
         "1",
         "2013-12-16 15:21:00",
         "4.3",
         "US",
         "Abbott BG Meter"
        ],
        [
         "14",
         "1",
         "2013-12-16 15:21:00",
         "2.4",
         "US",
         "Abbott BG Meter"
        ],
        [
         "15",
         "1",
         "2013-12-16 15:20:00",
         "0.7",
         "US",
         "Abbott BG Meter"
        ],
        [
         "16",
         "2",
         "2013-09-27 13:15:00",
         "4.3",
         "US",
         "Abbott BG Meter"
        ],
        [
         "17",
         "2",
         "2013-09-27 13:14:00",
         "2.3",
         "US",
         "Abbott BG Meter"
        ],
        [
         "18",
         "2",
         "2013-09-27 13:13:00",
         "0.7",
         "US",
         "Abbott BG Meter"
        ],
        [
         "19",
         "2",
         "2013-08-26 19:14:00",
         "0.1",
         "US",
         "Abbott BG Meter"
        ],
        [
         "20",
         "2",
         "2013-08-26 15:01:00",
         "4.6",
         "US",
         "Abbott BG Meter"
        ],
        [
         "21",
         "2",
         "2013-08-26 15:00:00",
         "2.6",
         "US",
         "Abbott BG Meter"
        ],
        [
         "22",
         "2",
         "2013-08-26 14:59:00",
         "0.8",
         "US",
         "Abbott BG Meter"
        ],
        [
         "23",
         "2",
         "2013-11-09 12:13:00",
         "0.4",
         "US",
         "Abbott BG Meter"
        ],
        [
         "24",
         "2",
         "2013-11-09 09:18:00",
         "4.4",
         "US",
         "Abbott BG Meter"
        ],
        [
         "25",
         "2",
         "2013-11-09 09:17:00",
         "2.3",
         "US",
         "Abbott BG Meter"
        ],
        [
         "26",
         "2",
         "2013-11-09 09:16:00",
         "0.7",
         "US",
         "Abbott BG Meter"
        ],
        [
         "27",
         "3",
         "2014-06-06 15:38:00",
         "0.4",
         "US",
         "Abbott BG Meter"
        ],
        [
         "28",
         "3",
         "2014-06-03 09:16:00",
         "0.4",
         "US",
         "Abbott BG Meter"
        ],
        [
         "29",
         "3",
         "2014-05-25 18:33:00",
         "4.5",
         "US",
         "Abbott BG Meter"
        ],
        [
         "30",
         "3",
         "2014-05-25 18:32:00",
         "0.8",
         "US",
         "Abbott BG Meter"
        ],
        [
         "31",
         "3",
         "2014-05-25 18:32:00",
         "2.5",
         "US",
         "Abbott BG Meter"
        ],
        [
         "32",
         "3",
         "2014-05-03 14:51:00",
         "0.3",
         "US",
         "Abbott BG Meter"
        ],
        [
         "33",
         "3",
         "2014-04-27 19:10:00",
         "0.1",
         "US",
         "Abbott BG Meter"
        ],
        [
         "34",
         "3",
         "2014-04-27 15:17:00",
         "0.8",
         "US",
         "Abbott BG Meter"
        ],
        [
         "35",
         "3",
         "2014-04-27 15:16:00",
         "4.6",
         "US",
         "Abbott BG Meter"
        ],
        [
         "36",
         "3",
         "2014-04-27 15:15:00",
         "2.5",
         "US",
         "Abbott BG Meter"
        ],
        [
         "37",
         "3",
         "2014-07-11 09:24:00",
         "4.7",
         "US",
         "Abbott BG Meter"
        ],
        [
         "38",
         "3",
         "2014-07-11 09:23:00",
         "2.3",
         "US",
         "Abbott BG Meter"
        ],
        [
         "39",
         "3",
         "2014-07-11 09:22:00",
         "0.7",
         "US",
         "Abbott BG Meter"
        ],
        [
         "40",
         "4",
         "2012-05-12 17:40:00",
         "2.6",
         "US",
         "Abbott BG Meter"
        ],
        [
         "41",
         "4",
         "2012-04-23 13:16:00",
         "3.8",
         "US",
         "Abbott BG Meter"
        ],
        [
         "42",
         "4",
         "2012-04-23 13:14:00",
         "0.7",
         "US",
         "Abbott BG Meter"
        ],
        [
         "43",
         "4",
         "2012-04-23 13:05:00",
         "2.4",
         "US",
         "Abbott BG Meter"
        ],
        [
         "44",
         "4",
         "2012-03-22 19:11:00",
         "0.1",
         "US",
         "Abbott BG Meter"
        ],
        [
         "45",
         "4",
         "2012-03-22 15:21:00",
         "0.6",
         "US",
         "Abbott BG Meter"
        ],
        [
         "46",
         "4",
         "2012-03-22 15:20:00",
         "4.3",
         "US",
         "Abbott BG Meter"
        ],
        [
         "47",
         "4",
         "2012-03-22 15:19:00",
         "2.4",
         "US",
         "Abbott BG Meter"
        ],
        [
         "48",
         "4",
         "2012-06-13 09:16:00",
         "2.6",
         "US",
         "Abbott BG Meter"
        ],
        [
         "49",
         "4",
         "2012-06-05 09:18:00",
         "4.7",
         "US",
         "Abbott BG Meter"
        ]
       ],
       "shape": {
        "columns": 5,
        "rows": 702
       }
      },
      "text/html": [
       "<div>\n",
       "<style scoped>\n",
       "    .dataframe tbody tr th:only-of-type {\n",
       "        vertical-align: middle;\n",
       "    }\n",
       "\n",
       "    .dataframe tbody tr th {\n",
       "        vertical-align: top;\n",
       "    }\n",
       "\n",
       "    .dataframe thead th {\n",
       "        text-align: right;\n",
       "    }\n",
       "</style>\n",
       "<table border=\"1\" class=\"dataframe\">\n",
       "  <thead>\n",
       "    <tr style=\"text-align: right;\">\n",
       "      <th></th>\n",
       "      <th>id</th>\n",
       "      <th>time</th>\n",
       "      <th>Ketone</th>\n",
       "      <th>Units</th>\n",
       "      <th>DeviceModel</th>\n",
       "    </tr>\n",
       "  </thead>\n",
       "  <tbody>\n",
       "    <tr>\n",
       "      <th>0</th>\n",
       "      <td>1</td>\n",
       "      <td>2013-11-17 17:34:00</td>\n",
       "      <td>2.4</td>\n",
       "      <td>US</td>\n",
       "      <td>Abbott BG Meter</td>\n",
       "    </tr>\n",
       "    <tr>\n",
       "      <th>1</th>\n",
       "      <td>1</td>\n",
       "      <td>2013-11-14 19:31:00</td>\n",
       "      <td>0.2</td>\n",
       "      <td>US</td>\n",
       "      <td>Abbott BG Meter</td>\n",
       "    </tr>\n",
       "    <tr>\n",
       "      <th>2</th>\n",
       "      <td>1</td>\n",
       "      <td>2013-11-14 18:38:00</td>\n",
       "      <td>0.2</td>\n",
       "      <td>US</td>\n",
       "      <td>Abbott BG Meter</td>\n",
       "    </tr>\n",
       "    <tr>\n",
       "      <th>3</th>\n",
       "      <td>1</td>\n",
       "      <td>2013-11-04 12:43:00</td>\n",
       "      <td>4.1</td>\n",
       "      <td>US</td>\n",
       "      <td>Abbott BG Meter</td>\n",
       "    </tr>\n",
       "    <tr>\n",
       "      <th>4</th>\n",
       "      <td>1</td>\n",
       "      <td>2013-11-04 12:42:00</td>\n",
       "      <td>2.3</td>\n",
       "      <td>US</td>\n",
       "      <td>Abbott BG Meter</td>\n",
       "    </tr>\n",
       "    <tr>\n",
       "      <th>...</th>\n",
       "      <td>...</td>\n",
       "      <td>...</td>\n",
       "      <td>...</td>\n",
       "      <td>...</td>\n",
       "      <td>...</td>\n",
       "    </tr>\n",
       "    <tr>\n",
       "      <th>697</th>\n",
       "      <td>8</td>\n",
       "      <td>2014-12-19 18:09:00</td>\n",
       "      <td>0.7</td>\n",
       "      <td>US</td>\n",
       "      <td>Abbott BG Meter</td>\n",
       "    </tr>\n",
       "    <tr>\n",
       "      <th>698</th>\n",
       "      <td>8</td>\n",
       "      <td>2014-11-14 18:59:00</td>\n",
       "      <td>4.6</td>\n",
       "      <td>US</td>\n",
       "      <td>Abbott BG Meter</td>\n",
       "    </tr>\n",
       "    <tr>\n",
       "      <th>699</th>\n",
       "      <td>8</td>\n",
       "      <td>2014-11-14 18:58:00</td>\n",
       "      <td>0.7</td>\n",
       "      <td>US</td>\n",
       "      <td>Abbott BG Meter</td>\n",
       "    </tr>\n",
       "    <tr>\n",
       "      <th>700</th>\n",
       "      <td>10</td>\n",
       "      <td>2013-01-14 17:24:00</td>\n",
       "      <td>4.5</td>\n",
       "      <td>US</td>\n",
       "      <td>Abbott BG Meter</td>\n",
       "    </tr>\n",
       "    <tr>\n",
       "      <th>701</th>\n",
       "      <td>10</td>\n",
       "      <td>2013-01-14 17:23:00</td>\n",
       "      <td>0.8</td>\n",
       "      <td>US</td>\n",
       "      <td>Abbott BG Meter</td>\n",
       "    </tr>\n",
       "  </tbody>\n",
       "</table>\n",
       "<p>702 rows × 5 columns</p>\n",
       "</div>"
      ],
      "text/plain": [
       "     id                 time  Ketone Units      DeviceModel\n",
       "0     1  2013-11-17 17:34:00     2.4    US  Abbott BG Meter\n",
       "1     1  2013-11-14 19:31:00     0.2    US  Abbott BG Meter\n",
       "2     1  2013-11-14 18:38:00     0.2    US  Abbott BG Meter\n",
       "3     1  2013-11-04 12:43:00     4.1    US  Abbott BG Meter\n",
       "4     1  2013-11-04 12:42:00     2.3    US  Abbott BG Meter\n",
       "..   ..                  ...     ...   ...              ...\n",
       "697   8  2014-12-19 18:09:00     0.7    US  Abbott BG Meter\n",
       "698   8  2014-11-14 18:59:00     4.6    US  Abbott BG Meter\n",
       "699   8  2014-11-14 18:58:00     0.7    US  Abbott BG Meter\n",
       "700  10  2013-01-14 17:24:00     4.5    US  Abbott BG Meter\n",
       "701  10  2013-01-14 17:23:00     0.8    US  Abbott BG Meter\n",
       "\n",
       "[702 rows x 5 columns]"
      ]
     },
     "execution_count": 16,
     "metadata": {},
     "output_type": "execute_result"
    }
   ],
   "source": [
    "ketones_df"
   ]
  }
 ],
 "metadata": {
  "kernelspec": {
   "display_name": ".venv",
   "language": "python",
   "name": "python3"
  },
  "language_info": {
   "codemirror_mode": {
    "name": "ipython",
    "version": 3
   },
   "file_extension": ".py",
   "mimetype": "text/x-python",
   "name": "python",
   "nbconvert_exporter": "python",
   "pygments_lexer": "ipython3",
   "version": "3.11.9"
  }
 },
 "nbformat": 4,
 "nbformat_minor": 5
}
