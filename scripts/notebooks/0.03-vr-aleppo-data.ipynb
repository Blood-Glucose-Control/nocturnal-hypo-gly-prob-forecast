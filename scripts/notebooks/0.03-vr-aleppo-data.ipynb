{
 "cells": [
  {
   "cell_type": "code",
   "execution_count": 5,
   "id": "dbe6b06b",
   "metadata": {},
   "outputs": [],
   "source": [
    "# This is the script for processing Aleppo2017 data into the common format.\n",
    "# Author: David Buchanan\n",
    "# Date: Febuary 4th, 2020, edited June 14th, by Elizabeth Chun\n",
    "\n",
    "import datetime\n",
    "# For working with dates and times\n",
    "\n",
    "# This study downloads as a zipped folder containing data tables and forms\n",
    "# First download the entire dataset. Do not rename the downloaded folder\n",
    "# Place the downloaded folder into a folder of your creation specific for this dataset\n",
    "# You may name your created folder however you like\n",
    "# Here we have named the created folder by first author last name and date of the original paper\n",
    "dataset = \"../data_downloads/aleppo\"\n",
    "# If you have a different naming method, you will need to adjust this, eg.\n",
    "# dataset = \"insert_your_name\"\n",
    "\n",
    "# using the original file path exactly as downloaded\n",
    "file = dataset + \"/Data Tables/HDeviceCGM.txt\"\n",
    "# alternatively, if file paths have been changed simply set file = the CGM file\n",
    "\n",
    "basedate = datetime.date(2015, 5, 22)\n",
    "# The data has days as days since study start\n",
    "# Establishing a base date to work from\n",
    "\n",
    "newfile = dataset + \"_processed.csv\"\n",
    "with open(file) as file:  # Open the data file\n",
    "    with open(newfile, \"w\") as export:  # Open the file for the processed data\n",
    "        isheader = True\n",
    "        # Flag to mark when the header is being read\n",
    "\n",
    "        for line in file:\n",
    "            # Work line by line within the file\n",
    "\n",
    "            if isheader:\n",
    "                # Executes on the first iteration i.e. when reading the header\n",
    "\n",
    "                isheader = False\n",
    "                # All future lines will not be header lines\n",
    "\n",
    "                export.write('\"id\",\"time\",\"gl\"\\n')\n",
    "                # Write the export file's header\n",
    "\n",
    "                continue\n",
    "                # Move to the next iteration without executing the rest of the code\n",
    "\n",
    "            line = line.split(\"|\")\n",
    "            # Split the data by delimiting character so it can be worked with\n",
    "\n",
    "            day = datetime.timedelta(days=int(line[4]))\n",
    "            # obtain the \"number of days since enrolled in study\" field in a way useful for doing date arithmetic\n",
    "\n",
    "            thisdate = basedate + day\n",
    "            # Create the date that will get written to the file\n",
    "\n",
    "            thistime = datetime.datetime.strptime(line[5], \"%H:%M:%S\").time()\n",
    "            # Read the reading time as a time object\n",
    "\n",
    "            thedatetime = datetime.datetime.combine(thisdate, thistime)\n",
    "            # Combine the read date and time objects\n",
    "\n",
    "            val = line[9]\n",
    "\n",
    "            export.write(\n",
    "                str(line[2]) + \",\" + str(thedatetime) + \",\" + line[9][0:3] + \"\\n\"\n",
    "            )\n",
    "            # Write all the data to the export file in the working directory\n",
    "\n",
    "# this is a large dataset, so do not be surprised is the runtime is somewhat long"
   ]
  },
  {
   "cell_type": "code",
   "execution_count": 11,
   "id": "2c068922",
   "metadata": {},
   "outputs": [],
   "source": [
    "# import polars as pl\n",
    "# my_file = \"../data_downloads/aleppo_processed.csv\"\n",
    "\n",
    "# df = pl.read_csv(my_file)\n",
    "# Load each data table\n",
    "import pandas as pd\n",
    "import os\n",
    "\n",
    "dataset_path = os.path.abspath(\"../data_downloads/aleppo/Data Tables\")\n",
    "cgm_df = pd.read_csv(os.path.join(dataset_path, \"HDeviceCGM.txt\"), sep=\"|\")\n",
    "bgm_df = pd.read_csv(os.path.join(dataset_path, \"HDeviceBGM.txt\"), sep=\"|\")\n",
    "# a1c_df = pd.read_csv(os.path.join(dataset_path, 'HA1c.txt'), sep='|')\n",
    "insulin_df = pd.read_csv(os.path.join(dataset_path, \"HInsulin.txt\"), sep=\"|\")\n",
    "medications_df = pd.read_csv(os.path.join(dataset_path, \"HMedication.txt\"), sep=\"|\")\n",
    "# patient_df = pd.read_csv(os.path.join(dataset_path, 'HPatient.txt'), sep='|')"
   ]
  },
  {
   "cell_type": "code",
   "execution_count": 12,
   "id": "5711a6c7",
   "metadata": {},
   "outputs": [
    {
     "name": "stdout",
     "output_type": "stream",
     "text": [
      "Index(['RecID', 'ParentHDeviceUploadsID', 'PtID', 'SiteID',\n",
      "       'DeviceDtTmDaysFromEnroll', 'DeviceTm', 'DexInternalDtTmDaysFromEnroll',\n",
      "       'DexInternalTm', 'RecordType', 'GlucoseValue'],\n",
      "      dtype='object')\n",
      "Index(['RecID', 'ParentHDeviceUploadsID', 'PtID', 'SiteID',\n",
      "       'DeviceDtTmDaysFromEnroll', 'DeviceTm', 'RecordType', 'RecordSubType',\n",
      "       'GlucoseValue'],\n",
      "      dtype='object')\n",
      "Index(['RecID', 'PtID', 'SiteID', 'InsName', 'InsRoute', 'InsInjectionFreq',\n",
      "       'InsTypeStart', 'InsTypeStartDtDaysFromEnroll', 'InsTypeStartUnknown',\n",
      "       'InsTypeStopDtDaysFromEnroll', 'InsTypeStopUnknown',\n",
      "       'InsTypeStartEstimate', 'InsTypeStopEstimate'],\n",
      "      dtype='object')\n",
      "Index(['RecID', 'PtID', 'SiteID', 'DrugName', 'MedDose', 'MedUnit',\n",
      "       'MedDoseUnk', 'MedRoute', 'MedLocSide', 'MedFreqType', 'MedFreqNum',\n",
      "       'MedFreqPer', 'MedFreqUnk', 'MedInd', 'MedicalCondition1',\n",
      "       'MedicalCondition2', 'AdverseEvent1', 'AdverseEvent2',\n",
      "       'PreExistingCondition1', 'PreExistingCondition2', 'MedStartTrtCat',\n",
      "       'MedStartDtDaysFromEnroll', 'MedStartDtApprox',\n",
      "       'MedStopDtDaysFromEnroll', 'MedStopDtApprox', 'MedOngoing',\n",
      "       'MedStartPreEnrRange', 'MedStartMonthsAfterEnroll',\n",
      "       'MedStartYearsAfterEnroll', 'MedStopMonthsAfterEnroll',\n",
      "       'MedStopYearsAfterEnroll', 'MedStopDtUnk', 'MedStartDtUnk',\n",
      "       'MedCondNotReqd', 'PreExistCondNotReqd', 'AdvEventNotReqd'],\n",
      "      dtype='object')\n"
     ]
    }
   ],
   "source": [
    "print(cgm_df.columns)\n",
    "print(bgm_df.columns)\n",
    "# print(a1c_df.columns)\n",
    "print(insulin_df.columns)\n",
    "print(medications_df.columns)\n",
    "# print(patient_df.columns)"
   ]
  },
  {
   "cell_type": "code",
   "execution_count": 19,
   "id": "0695527c",
   "metadata": {},
   "outputs": [
    {
     "data": {
      "text/plain": [
       "(14950661, 10)"
      ]
     },
     "execution_count": 19,
     "metadata": {},
     "output_type": "execute_result"
    }
   ],
   "source": [
    "cgm_df.shape"
   ]
  },
  {
   "cell_type": "code",
   "execution_count": 18,
   "id": "8840fb8c",
   "metadata": {},
   "outputs": [
    {
     "data": {
      "application/vnd.microsoft.datawrangler.viewer.v0+json": {
       "columns": [
        {
         "name": "index",
         "rawType": "int64",
         "type": "integer"
        },
        {
         "name": "id",
         "rawType": "int64",
         "type": "integer"
        },
        {
         "name": "time",
         "rawType": "object",
         "type": "string"
        },
        {
         "name": "gl",
         "rawType": "float64",
         "type": "float"
        }
       ],
       "ref": "ce55374e-273e-4a0b-b3b2-1dc637f33102",
       "rows": [
        [
         "0",
         "183",
         "2015-05-16 05:35:41",
         "162.0"
        ],
        [
         "1",
         "183",
         "2015-05-16 05:30:41",
         "164.0"
        ],
        [
         "2",
         "183",
         "2015-05-16 05:25:41",
         "168.0"
        ],
        [
         "3",
         "183",
         "2015-05-16 05:20:41",
         "169.0"
        ],
        [
         "4",
         "183",
         "2015-05-16 05:15:41",
         "170.0"
        ],
        [
         "5",
         "183",
         "2015-05-16 05:10:41",
         "171.0"
        ],
        [
         "6",
         "183",
         "2015-05-16 05:05:41",
         "172.0"
        ],
        [
         "7",
         "183",
         "2015-05-16 05:00:42",
         "174.0"
        ],
        [
         "8",
         "183",
         "2015-05-16 04:55:41",
         "177.0"
        ],
        [
         "9",
         "183",
         "2015-05-16 04:50:41",
         "180.0"
        ],
        [
         "10",
         "183",
         "2015-05-16 04:45:41",
         "183.0"
        ],
        [
         "11",
         "183",
         "2015-05-16 04:40:41",
         "186.0"
        ],
        [
         "12",
         "183",
         "2015-05-16 04:35:41",
         "190.0"
        ],
        [
         "13",
         "183",
         "2015-05-16 04:30:41",
         "191.0"
        ],
        [
         "14",
         "183",
         "2015-05-16 04:25:42",
         "193.0"
        ],
        [
         "15",
         "183",
         "2015-05-16 04:20:42",
         "195.0"
        ],
        [
         "16",
         "183",
         "2015-05-16 04:15:42",
         "196.0"
        ],
        [
         "17",
         "183",
         "2015-05-16 04:10:42",
         "196.0"
        ],
        [
         "18",
         "183",
         "2015-05-16 04:05:42",
         "198.0"
        ],
        [
         "19",
         "183",
         "2015-05-16 04:00:42",
         "202.0"
        ],
        [
         "20",
         "183",
         "2015-05-16 03:55:42",
         "204.0"
        ],
        [
         "21",
         "183",
         "2015-05-16 03:50:42",
         "207.0"
        ],
        [
         "22",
         "183",
         "2015-05-16 03:45:42",
         "208.0"
        ],
        [
         "23",
         "183",
         "2015-05-16 03:40:42",
         "204.0"
        ],
        [
         "24",
         "183",
         "2015-05-16 03:35:42",
         "206.0"
        ],
        [
         "25",
         "183",
         "2015-05-16 03:30:42",
         "206.0"
        ],
        [
         "26",
         "183",
         "2015-05-16 03:25:42",
         "201.0"
        ],
        [
         "27",
         "183",
         "2015-05-16 03:20:42",
         "195.0"
        ],
        [
         "28",
         "183",
         "2015-06-09 20:26:54",
         "154.0"
        ],
        [
         "29",
         "183",
         "2015-06-09 20:21:54",
         "149.0"
        ],
        [
         "30",
         "183",
         "2015-06-09 20:16:54",
         "150.0"
        ],
        [
         "31",
         "183",
         "2015-06-09 20:11:54",
         "145.0"
        ],
        [
         "32",
         "183",
         "2015-06-09 20:06:54",
         "144.0"
        ],
        [
         "33",
         "183",
         "2015-06-09 20:01:55",
         "148.0"
        ],
        [
         "34",
         "183",
         "2015-06-09 19:56:55",
         "152.0"
        ],
        [
         "35",
         "183",
         "2015-06-09 19:51:54",
         "159.0"
        ],
        [
         "36",
         "183",
         "2015-06-09 19:46:55",
         "161.0"
        ],
        [
         "37",
         "183",
         "2015-06-09 19:41:55",
         "157.0"
        ],
        [
         "38",
         "183",
         "2015-06-09 19:36:55",
         "156.0"
        ],
        [
         "39",
         "183",
         "2015-06-09 19:31:55",
         "166.0"
        ],
        [
         "40",
         "183",
         "2015-06-09 19:26:55",
         "175.0"
        ],
        [
         "41",
         "183",
         "2015-06-09 19:21:55",
         "180.0"
        ],
        [
         "42",
         "183",
         "2015-06-09 19:16:55",
         "182.0"
        ],
        [
         "43",
         "183",
         "2015-06-09 19:11:55",
         "179.0"
        ],
        [
         "44",
         "183",
         "2015-06-09 19:06:55",
         "172.0"
        ],
        [
         "45",
         "183",
         "2015-06-09 19:01:56",
         "171.0"
        ],
        [
         "46",
         "183",
         "2015-06-09 18:56:55",
         "172.0"
        ],
        [
         "47",
         "183",
         "2015-06-09 18:51:55",
         "159.0"
        ],
        [
         "48",
         "183",
         "2015-06-09 18:46:55",
         "152.0"
        ],
        [
         "49",
         "183",
         "2015-06-09 18:41:55",
         "146.0"
        ]
       ],
       "shape": {
        "columns": 3,
        "rows": 14950661
       }
      },
      "text/html": [
       "<div>\n",
       "<style scoped>\n",
       "    .dataframe tbody tr th:only-of-type {\n",
       "        vertical-align: middle;\n",
       "    }\n",
       "\n",
       "    .dataframe tbody tr th {\n",
       "        vertical-align: top;\n",
       "    }\n",
       "\n",
       "    .dataframe thead th {\n",
       "        text-align: right;\n",
       "    }\n",
       "</style>\n",
       "<table border=\"1\" class=\"dataframe\">\n",
       "  <thead>\n",
       "    <tr style=\"text-align: right;\">\n",
       "      <th></th>\n",
       "      <th>id</th>\n",
       "      <th>time</th>\n",
       "      <th>gl</th>\n",
       "    </tr>\n",
       "  </thead>\n",
       "  <tbody>\n",
       "    <tr>\n",
       "      <th>0</th>\n",
       "      <td>183</td>\n",
       "      <td>2015-05-16 05:35:41</td>\n",
       "      <td>162.0</td>\n",
       "    </tr>\n",
       "    <tr>\n",
       "      <th>1</th>\n",
       "      <td>183</td>\n",
       "      <td>2015-05-16 05:30:41</td>\n",
       "      <td>164.0</td>\n",
       "    </tr>\n",
       "    <tr>\n",
       "      <th>2</th>\n",
       "      <td>183</td>\n",
       "      <td>2015-05-16 05:25:41</td>\n",
       "      <td>168.0</td>\n",
       "    </tr>\n",
       "    <tr>\n",
       "      <th>3</th>\n",
       "      <td>183</td>\n",
       "      <td>2015-05-16 05:20:41</td>\n",
       "      <td>169.0</td>\n",
       "    </tr>\n",
       "    <tr>\n",
       "      <th>4</th>\n",
       "      <td>183</td>\n",
       "      <td>2015-05-16 05:15:41</td>\n",
       "      <td>170.0</td>\n",
       "    </tr>\n",
       "    <tr>\n",
       "      <th>...</th>\n",
       "      <td>...</td>\n",
       "      <td>...</td>\n",
       "      <td>...</td>\n",
       "    </tr>\n",
       "    <tr>\n",
       "      <th>14950656</th>\n",
       "      <td>293</td>\n",
       "      <td>2015-09-04 08:47:46</td>\n",
       "      <td>210.0</td>\n",
       "    </tr>\n",
       "    <tr>\n",
       "      <th>14950657</th>\n",
       "      <td>293</td>\n",
       "      <td>2015-09-04 08:42:46</td>\n",
       "      <td>211.0</td>\n",
       "    </tr>\n",
       "    <tr>\n",
       "      <th>14950658</th>\n",
       "      <td>293</td>\n",
       "      <td>2015-09-04 08:37:46</td>\n",
       "      <td>210.0</td>\n",
       "    </tr>\n",
       "    <tr>\n",
       "      <th>14950659</th>\n",
       "      <td>293</td>\n",
       "      <td>2015-09-04 08:32:46</td>\n",
       "      <td>207.0</td>\n",
       "    </tr>\n",
       "    <tr>\n",
       "      <th>14950660</th>\n",
       "      <td>293</td>\n",
       "      <td>2015-09-04 08:27:46</td>\n",
       "      <td>206.0</td>\n",
       "    </tr>\n",
       "  </tbody>\n",
       "</table>\n",
       "<p>14950661 rows × 3 columns</p>\n",
       "</div>"
      ],
      "text/plain": [
       "           id                 time     gl\n",
       "0         183  2015-05-16 05:35:41  162.0\n",
       "1         183  2015-05-16 05:30:41  164.0\n",
       "2         183  2015-05-16 05:25:41  168.0\n",
       "3         183  2015-05-16 05:20:41  169.0\n",
       "4         183  2015-05-16 05:15:41  170.0\n",
       "...       ...                  ...    ...\n",
       "14950656  293  2015-09-04 08:47:46  210.0\n",
       "14950657  293  2015-09-04 08:42:46  211.0\n",
       "14950658  293  2015-09-04 08:37:46  210.0\n",
       "14950659  293  2015-09-04 08:32:46  207.0\n",
       "14950660  293  2015-09-04 08:27:46  206.0\n",
       "\n",
       "[14950661 rows x 3 columns]"
      ]
     },
     "execution_count": 18,
     "metadata": {},
     "output_type": "execute_result"
    }
   ],
   "source": [
    "test = pd.read_csv(\"../data_downloads/aleppo_processed.csv\")\n",
    "test"
   ]
  }
 ],
 "metadata": {
  "kernelspec": {
   "display_name": ".venv",
   "language": "python",
   "name": "python3"
  },
  "language_info": {
   "codemirror_mode": {
    "name": "ipython",
    "version": 3
   },
   "file_extension": ".py",
   "mimetype": "text/x-python",
   "name": "python",
   "nbconvert_exporter": "python",
   "pygments_lexer": "ipython3",
   "version": "3.11.9"
  }
 },
 "nbformat": 4,
 "nbformat_minor": 5
}
