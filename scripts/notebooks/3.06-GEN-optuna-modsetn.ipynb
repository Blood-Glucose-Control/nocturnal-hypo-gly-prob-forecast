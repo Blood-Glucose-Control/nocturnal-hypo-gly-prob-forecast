{
 "cells": [
  {
   "cell_type": "markdown",
   "metadata": {},
   "source": [
    "# Forecasting Optuna Search CV \n",
    "## Modulus Set 3\n",
    "\n",
    "**Notebook Goal**\n",
    "- A modeling pipeline that optimizes the hyperparameters of the sktime forecasters that have the [capavility:pred_int tag](https://www.sktime.net/en/stable/examples/01b_forecasting_proba.html) \n",
    "- This notebook will focus on the ones where `i mod 4 = 3` wher `i` is the index of the registry table in the above link.\n",
    "- The work will be based on this documentation: [ForecastingOptunaSearchCV](https://www.sktime.net/en/stable/api_reference/auto_generated/sktime.forecasting.model_selection.ForecastingOptunaSearchCV.html)"
   ]
  },
  {
   "cell_type": "code",
   "execution_count": 1,
   "metadata": {},
   "outputs": [],
   "source": [
    "from sktime.registry import all_estimators\n",
    "from src.data.data_loader import load_data\n",
    "from src.data.data_cleaner import clean_data, perform_train_test_split"
   ]
  },
  {
   "cell_type": "code",
   "execution_count": 3,
   "metadata": {},
   "outputs": [],
   "source": [
    "# Load the autoreload extension\n",
    "%load_ext autoreload\n",
    "# Reload all modules automatically before executing code\n",
    "%autoreload 2"
   ]
  },
  {
   "cell_type": "code",
   "execution_count": 7,
   "metadata": {},
   "outputs": [],
   "source": [
    "df = load_data()\n",
    "# Get the list of forecasters with prediction interval capability\n",
    "models = all_estimators(\n",
    "    \"forecaster\", filter_tags={\"capability:pred_int\": True}, as_dataframe=True\n",
    ")"
   ]
  },
  {
   "cell_type": "code",
   "execution_count": 10,
   "metadata": {},
   "outputs": [
    {
     "ename": "KeyError",
     "evalue": "\"['activity-0:00'] not found in axis\"",
     "output_type": "error",
     "traceback": [
      "\u001b[0;31m---------------------------------------------------------------------------\u001b[0m",
      "\u001b[0;31mKeyError\u001b[0m                                  Traceback (most recent call last)",
      "Cell \u001b[0;32mIn[10], line 1\u001b[0m\n\u001b[0;32m----> 1\u001b[0m df \u001b[38;5;241m=\u001b[39m \u001b[43mclean_data\u001b[49m\u001b[43m(\u001b[49m\u001b[43mdf\u001b[49m\u001b[43m)\u001b[49m \n\u001b[1;32m      2\u001b[0m \u001b[38;5;28mprint\u001b[39m(df\u001b[38;5;241m.\u001b[39mcolumns)\n",
      "File \u001b[0;32m~/Projects/diabetes/nocturnal-hypo-gly-prob-forecast/src/data/data_cleaner.py:20\u001b[0m, in \u001b[0;36mclean_data\u001b[0;34m(data, data_source_name)\u001b[0m\n\u001b[1;32m      8\u001b[0m \u001b[38;5;250m\u001b[39m\u001b[38;5;124;03m'''    \u001b[39;00m\n\u001b[1;32m      9\u001b[0m \u001b[38;5;124;03mCleans the input data based on the specified data source name.\u001b[39;00m\n\u001b[1;32m     10\u001b[0m \n\u001b[0;32m   (...)\u001b[0m\n\u001b[1;32m     16\u001b[0m \u001b[38;5;124;03m    pd.DataFrame: The cleaned data.\u001b[39;00m\n\u001b[1;32m     17\u001b[0m \u001b[38;5;124;03m'''\u001b[39;00m\n\u001b[1;32m     19\u001b[0m \u001b[38;5;28;01mif\u001b[39;00m data_source_name \u001b[38;5;241m==\u001b[39m \u001b[38;5;124m\"\u001b[39m\u001b[38;5;124mkaggle_brisT1D\u001b[39m\u001b[38;5;124m\"\u001b[39m:\n\u001b[0;32m---> 20\u001b[0m     \u001b[43m_clean_bris_data\u001b[49m\u001b[43m(\u001b[49m\u001b[43mdata\u001b[49m\u001b[43m)\u001b[49m \u001b[38;5;66;03m# modifies in place\u001b[39;00m\n\u001b[1;32m     22\u001b[0m \u001b[38;5;28;01mreturn\u001b[39;00m handle_missing_values(data)\n",
      "File \u001b[0;32m~/Projects/diabetes/nocturnal-hypo-gly-prob-forecast/src/data/data_cleaner.py:46\u001b[0m, in \u001b[0;36m_clean_bris_data\u001b[0;34m(data)\u001b[0m\n\u001b[1;32m     38\u001b[0m columns_to_drop \u001b[38;5;241m=\u001b[39m [\n\u001b[1;32m     39\u001b[0m     col\n\u001b[1;32m     40\u001b[0m     \u001b[38;5;28;01mfor\u001b[39;00m col \u001b[38;5;129;01min\u001b[39;00m data\u001b[38;5;241m.\u001b[39mcolumns\n\u001b[0;32m   (...)\u001b[0m\n\u001b[1;32m     43\u001b[0m     \u001b[38;5;129;01mand\u001b[39;00m \u001b[38;5;129;01mnot\u001b[39;00m col\u001b[38;5;241m.\u001b[39mendswith(\u001b[38;5;124m\"\u001b[39m\u001b[38;5;124m-0:00\u001b[39m\u001b[38;5;124m\"\u001b[39m)\n\u001b[1;32m     44\u001b[0m ]\n\u001b[1;32m     45\u001b[0m columns_to_drop\u001b[38;5;241m.\u001b[39mappend(\u001b[38;5;124m\"\u001b[39m\u001b[38;5;124mactivity-0:00\u001b[39m\u001b[38;5;124m\"\u001b[39m)\n\u001b[0;32m---> 46\u001b[0m \u001b[43mdata\u001b[49m\u001b[38;5;241;43m.\u001b[39;49m\u001b[43mdrop\u001b[49m\u001b[43m(\u001b[49m\u001b[43mcolumns\u001b[49m\u001b[38;5;241;43m=\u001b[39;49m\u001b[43mcolumns_to_drop\u001b[49m\u001b[43m,\u001b[49m\u001b[43m \u001b[49m\u001b[43minplace\u001b[49m\u001b[38;5;241;43m=\u001b[39;49m\u001b[38;5;28;43;01mTrue\u001b[39;49;00m\u001b[43m)\u001b[49m\n",
      "File \u001b[0;32m~/Projects/diabetes/nocturnal-hypo-gly-prob-forecast/.noctprob-venv/lib/python3.12/site-packages/pandas/core/frame.py:5581\u001b[0m, in \u001b[0;36mDataFrame.drop\u001b[0;34m(self, labels, axis, index, columns, level, inplace, errors)\u001b[0m\n\u001b[1;32m   5433\u001b[0m \u001b[38;5;28;01mdef\u001b[39;00m\u001b[38;5;250m \u001b[39m\u001b[38;5;21mdrop\u001b[39m(\n\u001b[1;32m   5434\u001b[0m     \u001b[38;5;28mself\u001b[39m,\n\u001b[1;32m   5435\u001b[0m     labels: IndexLabel \u001b[38;5;241m|\u001b[39m \u001b[38;5;28;01mNone\u001b[39;00m \u001b[38;5;241m=\u001b[39m \u001b[38;5;28;01mNone\u001b[39;00m,\n\u001b[0;32m   (...)\u001b[0m\n\u001b[1;32m   5442\u001b[0m     errors: IgnoreRaise \u001b[38;5;241m=\u001b[39m \u001b[38;5;124m\"\u001b[39m\u001b[38;5;124mraise\u001b[39m\u001b[38;5;124m\"\u001b[39m,\n\u001b[1;32m   5443\u001b[0m ) \u001b[38;5;241m-\u001b[39m\u001b[38;5;241m>\u001b[39m DataFrame \u001b[38;5;241m|\u001b[39m \u001b[38;5;28;01mNone\u001b[39;00m:\n\u001b[1;32m   5444\u001b[0m \u001b[38;5;250m    \u001b[39m\u001b[38;5;124;03m\"\"\"\u001b[39;00m\n\u001b[1;32m   5445\u001b[0m \u001b[38;5;124;03m    Drop specified labels from rows or columns.\u001b[39;00m\n\u001b[1;32m   5446\u001b[0m \n\u001b[0;32m   (...)\u001b[0m\n\u001b[1;32m   5579\u001b[0m \u001b[38;5;124;03m            weight  1.0     0.8\u001b[39;00m\n\u001b[1;32m   5580\u001b[0m \u001b[38;5;124;03m    \"\"\"\u001b[39;00m\n\u001b[0;32m-> 5581\u001b[0m     \u001b[38;5;28;01mreturn\u001b[39;00m \u001b[38;5;28;43msuper\u001b[39;49m\u001b[43m(\u001b[49m\u001b[43m)\u001b[49m\u001b[38;5;241;43m.\u001b[39;49m\u001b[43mdrop\u001b[49m\u001b[43m(\u001b[49m\n\u001b[1;32m   5582\u001b[0m \u001b[43m        \u001b[49m\u001b[43mlabels\u001b[49m\u001b[38;5;241;43m=\u001b[39;49m\u001b[43mlabels\u001b[49m\u001b[43m,\u001b[49m\n\u001b[1;32m   5583\u001b[0m \u001b[43m        \u001b[49m\u001b[43maxis\u001b[49m\u001b[38;5;241;43m=\u001b[39;49m\u001b[43maxis\u001b[49m\u001b[43m,\u001b[49m\n\u001b[1;32m   5584\u001b[0m \u001b[43m        \u001b[49m\u001b[43mindex\u001b[49m\u001b[38;5;241;43m=\u001b[39;49m\u001b[43mindex\u001b[49m\u001b[43m,\u001b[49m\n\u001b[1;32m   5585\u001b[0m \u001b[43m        \u001b[49m\u001b[43mcolumns\u001b[49m\u001b[38;5;241;43m=\u001b[39;49m\u001b[43mcolumns\u001b[49m\u001b[43m,\u001b[49m\n\u001b[1;32m   5586\u001b[0m \u001b[43m        \u001b[49m\u001b[43mlevel\u001b[49m\u001b[38;5;241;43m=\u001b[39;49m\u001b[43mlevel\u001b[49m\u001b[43m,\u001b[49m\n\u001b[1;32m   5587\u001b[0m \u001b[43m        \u001b[49m\u001b[43minplace\u001b[49m\u001b[38;5;241;43m=\u001b[39;49m\u001b[43minplace\u001b[49m\u001b[43m,\u001b[49m\n\u001b[1;32m   5588\u001b[0m \u001b[43m        \u001b[49m\u001b[43merrors\u001b[49m\u001b[38;5;241;43m=\u001b[39;49m\u001b[43merrors\u001b[49m\u001b[43m,\u001b[49m\n\u001b[1;32m   5589\u001b[0m \u001b[43m    \u001b[49m\u001b[43m)\u001b[49m\n",
      "File \u001b[0;32m~/Projects/diabetes/nocturnal-hypo-gly-prob-forecast/.noctprob-venv/lib/python3.12/site-packages/pandas/core/generic.py:4788\u001b[0m, in \u001b[0;36mNDFrame.drop\u001b[0;34m(self, labels, axis, index, columns, level, inplace, errors)\u001b[0m\n\u001b[1;32m   4786\u001b[0m \u001b[38;5;28;01mfor\u001b[39;00m axis, labels \u001b[38;5;129;01min\u001b[39;00m axes\u001b[38;5;241m.\u001b[39mitems():\n\u001b[1;32m   4787\u001b[0m     \u001b[38;5;28;01mif\u001b[39;00m labels \u001b[38;5;129;01mis\u001b[39;00m \u001b[38;5;129;01mnot\u001b[39;00m \u001b[38;5;28;01mNone\u001b[39;00m:\n\u001b[0;32m-> 4788\u001b[0m         obj \u001b[38;5;241m=\u001b[39m \u001b[43mobj\u001b[49m\u001b[38;5;241;43m.\u001b[39;49m\u001b[43m_drop_axis\u001b[49m\u001b[43m(\u001b[49m\u001b[43mlabels\u001b[49m\u001b[43m,\u001b[49m\u001b[43m \u001b[49m\u001b[43maxis\u001b[49m\u001b[43m,\u001b[49m\u001b[43m \u001b[49m\u001b[43mlevel\u001b[49m\u001b[38;5;241;43m=\u001b[39;49m\u001b[43mlevel\u001b[49m\u001b[43m,\u001b[49m\u001b[43m \u001b[49m\u001b[43merrors\u001b[49m\u001b[38;5;241;43m=\u001b[39;49m\u001b[43merrors\u001b[49m\u001b[43m)\u001b[49m\n\u001b[1;32m   4790\u001b[0m \u001b[38;5;28;01mif\u001b[39;00m inplace:\n\u001b[1;32m   4791\u001b[0m     \u001b[38;5;28mself\u001b[39m\u001b[38;5;241m.\u001b[39m_update_inplace(obj)\n",
      "File \u001b[0;32m~/Projects/diabetes/nocturnal-hypo-gly-prob-forecast/.noctprob-venv/lib/python3.12/site-packages/pandas/core/generic.py:4830\u001b[0m, in \u001b[0;36mNDFrame._drop_axis\u001b[0;34m(self, labels, axis, level, errors, only_slice)\u001b[0m\n\u001b[1;32m   4828\u001b[0m         new_axis \u001b[38;5;241m=\u001b[39m axis\u001b[38;5;241m.\u001b[39mdrop(labels, level\u001b[38;5;241m=\u001b[39mlevel, errors\u001b[38;5;241m=\u001b[39merrors)\n\u001b[1;32m   4829\u001b[0m     \u001b[38;5;28;01melse\u001b[39;00m:\n\u001b[0;32m-> 4830\u001b[0m         new_axis \u001b[38;5;241m=\u001b[39m \u001b[43maxis\u001b[49m\u001b[38;5;241;43m.\u001b[39;49m\u001b[43mdrop\u001b[49m\u001b[43m(\u001b[49m\u001b[43mlabels\u001b[49m\u001b[43m,\u001b[49m\u001b[43m \u001b[49m\u001b[43merrors\u001b[49m\u001b[38;5;241;43m=\u001b[39;49m\u001b[43merrors\u001b[49m\u001b[43m)\u001b[49m\n\u001b[1;32m   4831\u001b[0m     indexer \u001b[38;5;241m=\u001b[39m axis\u001b[38;5;241m.\u001b[39mget_indexer(new_axis)\n\u001b[1;32m   4833\u001b[0m \u001b[38;5;66;03m# Case for non-unique axis\u001b[39;00m\n\u001b[1;32m   4834\u001b[0m \u001b[38;5;28;01melse\u001b[39;00m:\n",
      "File \u001b[0;32m~/Projects/diabetes/nocturnal-hypo-gly-prob-forecast/.noctprob-venv/lib/python3.12/site-packages/pandas/core/indexes/base.py:7070\u001b[0m, in \u001b[0;36mIndex.drop\u001b[0;34m(self, labels, errors)\u001b[0m\n\u001b[1;32m   7068\u001b[0m \u001b[38;5;28;01mif\u001b[39;00m mask\u001b[38;5;241m.\u001b[39many():\n\u001b[1;32m   7069\u001b[0m     \u001b[38;5;28;01mif\u001b[39;00m errors \u001b[38;5;241m!=\u001b[39m \u001b[38;5;124m\"\u001b[39m\u001b[38;5;124mignore\u001b[39m\u001b[38;5;124m\"\u001b[39m:\n\u001b[0;32m-> 7070\u001b[0m         \u001b[38;5;28;01mraise\u001b[39;00m \u001b[38;5;167;01mKeyError\u001b[39;00m(\u001b[38;5;124mf\u001b[39m\u001b[38;5;124m\"\u001b[39m\u001b[38;5;132;01m{\u001b[39;00mlabels[mask]\u001b[38;5;241m.\u001b[39mtolist()\u001b[38;5;132;01m}\u001b[39;00m\u001b[38;5;124m not found in axis\u001b[39m\u001b[38;5;124m\"\u001b[39m)\n\u001b[1;32m   7071\u001b[0m     indexer \u001b[38;5;241m=\u001b[39m indexer[\u001b[38;5;241m~\u001b[39mmask]\n\u001b[1;32m   7072\u001b[0m \u001b[38;5;28;01mreturn\u001b[39;00m \u001b[38;5;28mself\u001b[39m\u001b[38;5;241m.\u001b[39mdelete(indexer)\n",
      "\u001b[0;31mKeyError\u001b[0m: \"['activity-0:00'] not found in axis\""
     ]
    }
   ],
   "source": [
    "df = clean_data(df) \n",
    "print(df.columns)"
   ]
  },
  {
   "cell_type": "code",
   "execution_count": 4,
   "metadata": {},
   "outputs": [],
   "source": [
    "filtered_models = models.iloc[3::4]"
   ]
  },
  {
   "cell_type": "code",
   "execution_count": 5,
   "metadata": {},
   "outputs": [],
   "source": [
    "y_train, y_test, X_train, X_test = perform_train_test_split(df, target_col=\"bg+1:00\")"
   ]
  },
  {
   "cell_type": "markdown",
   "metadata": {},
   "source": [
    "### Load Search Space\n",
    "\n",
    "Load the search space configurations (in the YAML file)"
   ]
  },
  {
   "cell_type": "code",
   "execution_count": 66,
   "metadata": {},
   "outputs": [],
   "source": [
    "import yaml\n",
    "from sktime.forecasting.model_selection import ForecastingOptunaSearchCV\n",
    "import optuna\n",
    "import optuna.distributions\n",
    "from sktime.split import ExpandingWindowSplitter\n",
    "from sktime.forecasting.base import ForecastingHorizon\n",
    "from sktime.performance_metrics.forecasting import MeanAbsolutePercentageError\n",
    "from sklearn.utils.discovery import all_estimators as sklearn_all_estimators\n",
    "\n",
    "sklearn_estimators = sklearn_all_estimators()\n",
    "\n",
    "# Define forecasting horizon\n",
    "fh_relative = ForecastingHorizon([1, 2, 3, 4, 5, 6, 7, 8], is_relative=True)\n",
    "# Cross-validation strategy\n",
    "cv_relative = ExpandingWindowSplitter(\n",
    "    initial_window=int(len(y_train) * 0.5), step_length=1, fh=fh_relative\n",
    ")"
   ]
  },
  {
   "cell_type": "code",
   "execution_count": 39,
   "metadata": {},
   "outputs": [],
   "source": [
    "def get_sklearn_estimator(model_name: str):\n",
    "    \"\"\"\n",
    "    Gets the associated class for the model name in sklearn\n",
    "    Args:\n",
    "        model_name: the name of the model (eg: 'ARDRegression')\n",
    "    Returns:\n",
    "        class for the model\n",
    "    \"\"\"\n",
    "    for pair in sklearn_estimators:\n",
    "        if pair[0] == model_name:\n",
    "            return pair[1]\n",
    "    raise ValueError(\"No model for \" + model_name + \" in sklearn!\")"
   ]
  },
  {
   "cell_type": "code",
   "execution_count": 56,
   "metadata": {},
   "outputs": [],
   "source": [
    "def map_yaml_to_optuna(param_dict):\n",
    "    \"\"\"\n",
    "    Maps the search grid in the yaml file to distributions used\n",
    "    by OptunaSearch for search_grid\n",
    "    Args:\n",
    "        param_dict: the yaml file contents. See search_space.yaml for an example\n",
    "    \"\"\"\n",
    "    optuna_params = {}\n",
    "    default_params = {}\n",
    "\n",
    "    for param, details in param_dict.items():\n",
    "        # if it's not a dictionary, add the value directly\n",
    "        if not isinstance(details, dict):\n",
    "            default_params[param] = details\n",
    "        elif param.endswith(\"__param\"):\n",
    "            p_type = details[\"type\"]\n",
    "            if p_type == \"sk_model_param\":\n",
    "                mdl = get_sklearn_estimator(details[\"model_name\"])\n",
    "                hypers = details[\"hyperparams\"]\n",
    "                if hypers is None:\n",
    "                    hypers = {}\n",
    "                default_params[param.replace(\"__param\", \"\")] = mdl(**hypers)\n",
    "        else:\n",
    "            # Handle the case where the details is a dictionary\n",
    "            if \"type\" in details.keys():\n",
    "                if details[\"type\"] == \"optuna_param\":\n",
    "                    continue\n",
    "                if details[\"type\"] == \"int\":\n",
    "                    optuna_params[param] = optuna.distributions.IntDistribution(\n",
    "                        details[\"low\"], details[\"high\"]\n",
    "                    )\n",
    "                elif details[\"type\"] == \"float\":\n",
    "                    optuna_params[param] = optuna.distributions.FloatDistribution(\n",
    "                        details[\"low\"], details[\"high\"]\n",
    "                    )\n",
    "                elif details[\"type\"] == \"categorical\":\n",
    "                    optuna_params[param] = optuna.distributions.CategoricalDistribution(\n",
    "                        details[\"values\"]\n",
    "                    )\n",
    "\n",
    "                elif details[\"type\"] == \"sk_categorical\":\n",
    "                    classes = [\n",
    "                        get_sklearn_estimator(model_name)(**(params if params else {}))\n",
    "                        for model_name, params in details[\"values\"].items()\n",
    "                    ]\n",
    "                    optuna_params[param] = optuna.distributions.CategoricalDistribution(\n",
    "                        classes\n",
    "                    )\n",
    "\n",
    "                # If type is a model name (eg: Forecaster arg for ConformalIntervals), then initiate the model with its params\n",
    "                elif details.get(\"type\") == \"model_name\":\n",
    "                    model_name = details.get(\"model_name\")\n",
    "                    if model_name and model_name in models[\"name\"].values:\n",
    "                        print(details.get(\"hyperparameters\", {}))\n",
    "                        model_cls = models[models[\"name\"] == model_name][\"object\"].iloc[\n",
    "                            0\n",
    "                        ]\n",
    "                        cls_instance = model_cls(**details.get(\"hyperparameters\", {}))\n",
    "                        default_params[param] = cls_instance\n",
    "                    else:\n",
    "                        print(\n",
    "                            f\"Model name '{model_name}' not found in models DataFrame.\"\n",
    "                        )\n",
    "\n",
    "                elif details[\"type\"] == \"list\":\n",
    "                    processed_list = []\n",
    "                    for item in details[\"values\"]:\n",
    "                        if isinstance(item, list) and item[1] in models[\"name\"].values:\n",
    "                            print(\"IS LIST\")\n",
    "                            model_class = models.set_index(\"name\").loc[\n",
    "                                item[1], \"object\"\n",
    "                            ]\n",
    "                            processed_list.append((item[0], model_class(), item[2]))\n",
    "                        else:\n",
    "                            processed_list.append(item)\n",
    "                    default_params[param] = processed_list\n",
    "            # If it's another dictionary, process it recursively\n",
    "            else:\n",
    "                optuna_params[param] = map_yaml_to_optuna(\n",
    "                    details\n",
    "                )  # Recursive call for nested dictionaries\n",
    "\n",
    "    return optuna_params, default_params"
   ]
  },
  {
   "cell_type": "code",
   "execution_count": 60,
   "metadata": {},
   "outputs": [],
   "source": [
    "def perform_optuna_search(param_space):\n",
    "    \"\"\"\n",
    "    Performs optuna search on the models specified in filtered_models dataframe\n",
    "    Args:\n",
    "        param_space: a dictionary of search space. Keys as model values, and values contain a dictionary of the search space. See search_space.yaml for example\n",
    "    Returns:\n",
    "        A dictionary. The keys are the model names. The values are as follows:\n",
    "        {\n",
    "            \"best_forecaster\": instance of best one for the model,\n",
    "            \"best_params\": best params for the model,\n",
    "            \"best_score\": best score for the model,\n",
    "        }\n",
    "    \"\"\"\n",
    "    best_forecasters = {}\n",
    "\n",
    "    for _, row in filtered_models.iterrows():\n",
    "        model_name = row[\"name\"]\n",
    "        model_class = row[\"object\"]\n",
    "\n",
    "        # Check if model has hyperparameter space defined in YAML\n",
    "        if model_name not in param_space.keys():\n",
    "            print(f\"No hyperparameter space defined for {model_name}. Skipping.\")\n",
    "            continue\n",
    "\n",
    "        # Load the model's hyperparameter space\n",
    "        optuna_param_distributions, default_params = map_yaml_to_optuna(\n",
    "            param_space[model_name]\n",
    "        )\n",
    "        horizon = param_space[model_name].get(\"fh\", {}).get(\"value\", [])\n",
    "        # Instantiate the model\n",
    "        try:\n",
    "            forecaster = model_class(**default_params)\n",
    "        except Exception as e:\n",
    "            print(f\"Failed to initialize {model_name}: {e}\")\n",
    "            continue\n",
    "\n",
    "        # Run OptunaSearch\n",
    "        optuna_search = ForecastingOptunaSearchCV(\n",
    "            forecaster=forecaster,\n",
    "            param_grid=optuna_param_distributions,\n",
    "            cv=cv_relative,\n",
    "            scoring=MeanAbsolutePercentageError(symmetric=False),\n",
    "            n_evals=50,\n",
    "        )\n",
    "\n",
    "        print(f\"Running OptunaSearch for {model_name}...\")\n",
    "        try:\n",
    "            optuna_search.fit(\n",
    "                y_train, X_train, fh=horizon if len(horizon) > 0 else None\n",
    "            )\n",
    "        except Exception as e:\n",
    "            print(f\"Failed to fit {model_name}: {e}\")\n",
    "            continue\n",
    "\n",
    "        # Store best results\n",
    "        best_forecasters[model_name] = {\n",
    "            \"best_forecaster\": optuna_search.best_forecaster_,\n",
    "            \"best_params\": optuna_search.best_params_,\n",
    "            \"best_score\": optuna_search.best_score_,\n",
    "        }\n",
    "\n",
    "    return best_forecasters"
   ]
  },
  {
   "cell_type": "code",
   "execution_count": 68,
   "metadata": {},
   "outputs": [],
   "source": [
    "filtered_models = models[models[\"name\"] == \"AutoETS\"]\n",
    "# filtered_models.head()\n",
    "# models"
   ]
  },
  {
   "cell_type": "code",
   "execution_count": null,
   "metadata": {},
   "outputs": [
    {
     "name": "stderr",
     "output_type": "stream",
     "text": [
      "c:\\Users\\viloh\\Documents\\nocturnal-hypo-gly-prob-forecast\\.venv\\Lib\\site-packages\\sktime\\forecasting\\model_selection\\_tune.py:1773: UserWarning: ForecastingOptunaSearchCV is experimental, and interfaces may change. User feedback and suggestions for future development are appreciated in issue #6618 here: https://github.com/sktime/sktime/issues/6618\n",
      "  warn(\n",
      "[I 2025-01-30 15:06:26,273] A new study created in memory with name: no-name-7e44af18-da3a-4425-9295-eaef899d3670\n",
      "c:\\Users\\viloh\\Documents\\nocturnal-hypo-gly-prob-forecast\\.venv\\Lib\\site-packages\\skbase\\base\\_base.py:152: UserWarning: The user-specified parameters provided alongside auto=True in AutoETS may not be respected. The AutoETS function automatically selects the best model based on the information criterion, ignoring the error, trend, seasonal, and damped_trend parameters when auto=True is set. Please ensure that your intended behavior aligns with the automatic model selection.\n",
      "  self.__init__(**params)\n",
      "c:\\Users\\viloh\\Documents\\nocturnal-hypo-gly-prob-forecast\\.venv\\Lib\\site-packages\\skbase\\base\\_clone_plugins.py:121: UserWarning: The user-specified parameters provided alongside auto=True in AutoETS may not be respected. The AutoETS function automatically selects the best model based on the information criterion, ignoring the error, trend, seasonal, and damped_trend parameters when auto=True is set. Please ensure that your intended behavior aligns with the automatic model selection.\n",
      "  new_object = klass(**new_object_params)\n",
      "c:\\Users\\viloh\\Documents\\nocturnal-hypo-gly-prob-forecast\\.venv\\Lib\\site-packages\\skbase\\base\\_base.py:152: UserWarning: The user-specified parameters provided alongside auto=True in AutoETS may not be respected. The AutoETS function automatically selects the best model based on the information criterion, ignoring the error, trend, seasonal, and damped_trend parameters when auto=True is set. Please ensure that your intended behavior aligns with the automatic model selection.\n",
      "  self.__init__(**params)\n"
     ]
    },
    {
     "name": "stdout",
     "output_type": "stream",
     "text": [
      "Running OptunaSearch for AutoETS...\n"
     ]
    }
   ],
   "source": [
    "with open(\"search_space.yaml\", \"r\") as file:\n",
    "    param_space = yaml.safe_load(file)\n",
    "\n",
    "# print(param_space['models'].keys())\n",
    "param_space = param_space[\"models\"]\n",
    "res = perform_optuna_search(param_space)"
   ]
  },
  {
   "cell_type": "code",
   "execution_count": 37,
   "metadata": {},
   "outputs": [
    {
     "data": {
      "text/plain": [
       "{}"
      ]
     },
     "execution_count": 37,
     "metadata": {},
     "output_type": "execute_result"
    }
   ],
   "source": [
    "res"
   ]
  }
 ],
 "metadata": {
  "kernelspec": {
   "display_name": ".noctprob-venv",
   "language": "python",
   "name": "python3"
  },
  "language_info": {
   "codemirror_mode": {
    "name": "ipython",
    "version": 3
   },
   "file_extension": ".py",
   "mimetype": "text/x-python",
   "name": "python",
   "nbconvert_exporter": "python",
   "pygments_lexer": "ipython3",
   "version": "3.12.3"
  }
 },
 "nbformat": 4,
 "nbformat_minor": 2
}
