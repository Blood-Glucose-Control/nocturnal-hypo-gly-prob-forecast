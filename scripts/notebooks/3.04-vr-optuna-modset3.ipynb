{
 "cells": [
  {
   "cell_type": "markdown",
   "metadata": {},
   "source": [
    "# Forecasting Optuna Search CV \n",
    "## Modulus Set 3\n",
    "\n",
    "**Notebook Goal**\n",
    "- A modeling pipeline that optimizes the hyperparameters of the sktime forecasters that have the [capavility:pred_int tag](https://www.sktime.net/en/stable/examples/01b_forecasting_proba.html) \n",
    "- This notebook will focus on the ones where `i mod 4 = 3` wher `i` is the index of the registry table in the above link.\n",
    "- The work will be based on this documentation: [ForecastingOptunaSearchCV](https://www.sktime.net/en/stable/api_reference/auto_generated/sktime.forecasting.model_selection.ForecastingOptunaSearchCV.html)"
   ]
  },
  {
   "cell_type": "code",
   "execution_count": 3,
   "metadata": {},
   "outputs": [],
   "source": [
    "# Load the autoreload extension\n",
    "%load_ext autoreload\n",
    "\n",
    "# Reload all modules automatically before executing code\n",
    "%autoreload 2"
   ]
  },
  {
   "cell_type": "code",
   "execution_count": 8,
   "metadata": {},
   "outputs": [
    {
     "name": "stderr",
     "output_type": "stream",
     "text": [
      "c:\\Users\\viloh\\Documents\\nocturnal-hypo-gly-prob-forecast\\src\\data\\data_loader.py:32: DtypeWarning: Columns (435,436,437,438,439,440,441,442,443,444,445,446,447,448,449,450,451,452,453,454,455,456,457,458,459,460,461,462,463,464,465,466,467,468,469,470,471,472,473,474,475,476,477,478,479,480,481,482,483,484,485,486,487,488,489,490,491,492,493,494,495,496,497,498,499,500,501,502,503,504,505,506) have mixed types. Specify dtype option on import or set low_memory=False.\n",
      "  return pd.read_csv(file_path, usecols=keep_columns)\n"
     ]
    }
   ],
   "source": [
    "from sktime.registry import all_estimators\n",
    "from dotenv import load_dotenv\n",
    "import sys\n",
    "import os\n",
    "\n",
    "# Load environment variables from .env file\n",
    "load_dotenv()\n",
    "repo_dir = os.path.abspath(os.path.join(os.getcwd(), \"../../\"))  # points to the root\n",
    "src_dir = os.path.join(repo_dir, \"src\")\n",
    "sys.path.insert(0, repo_dir)\n",
    "# Now the import works! :)\n",
    "from src.data.data_loader import load_data\n",
    "from src.data.data_cleaner import clean_data, perform_train_test_split\n",
    "\n",
    "# Load the data\n",
    "df = load_data()\n",
    "# Get the list of forecasters with prediction interval capability\n",
    "models = all_estimators(\n",
    "    \"forecaster\", filter_tags={\"capability:pred_int\": True}, as_dataframe=True\n",
    ")\n"
   ]
  },
  {
   "cell_type": "code",
   "execution_count": 9,
   "metadata": {},
   "outputs": [
    {
     "name": "stdout",
     "output_type": "stream",
     "text": [
      "Index(['id', 'p_num', 'time', 'bg-0:00', 'insulin-0:00', 'carbs-0:00',\n",
      "       'hr-0:00', 'steps-0:00', 'cals-0:00', 'activity-0:00', 'bg+1:00'],\n",
      "      dtype='object')\n"
     ]
    }
   ],
   "source": [
    "clean_data(df) # in place\n",
    "print(df.columns)"
   ]
  },
  {
   "cell_type": "code",
   "execution_count": 17,
   "metadata": {},
   "outputs": [
    {
     "data": {
      "text/html": [
       "<div>\n",
       "<style scoped>\n",
       "    .dataframe tbody tr th:only-of-type {\n",
       "        vertical-align: middle;\n",
       "    }\n",
       "\n",
       "    .dataframe tbody tr th {\n",
       "        vertical-align: top;\n",
       "    }\n",
       "\n",
       "    .dataframe thead th {\n",
       "        text-align: right;\n",
       "    }\n",
       "</style>\n",
       "<table border=\"1\" class=\"dataframe\">\n",
       "  <thead>\n",
       "    <tr style=\"text-align: right;\">\n",
       "      <th></th>\n",
       "      <th>name</th>\n",
       "      <th>object</th>\n",
       "    </tr>\n",
       "  </thead>\n",
       "  <tbody>\n",
       "    <tr>\n",
       "      <th>3</th>\n",
       "      <td>AutoETS</td>\n",
       "      <td>&lt;class 'sktime.forecasting.ets.AutoETS'&gt;</td>\n",
       "    </tr>\n",
       "    <tr>\n",
       "      <th>7</th>\n",
       "      <td>ColumnEnsembleForecaster</td>\n",
       "      <td>&lt;class 'sktime.forecasting.compose._column_ens...</td>\n",
       "    </tr>\n",
       "    <tr>\n",
       "      <th>11</th>\n",
       "      <td>DirRecTabularRegressionForecaster</td>\n",
       "      <td>&lt;class 'sktime.forecasting.compose._reduce.Dir...</td>\n",
       "    </tr>\n",
       "    <tr>\n",
       "      <th>15</th>\n",
       "      <td>DynamicFactor</td>\n",
       "      <td>&lt;class 'sktime.forecasting.dynamic_factor.Dyna...</td>\n",
       "    </tr>\n",
       "    <tr>\n",
       "      <th>19</th>\n",
       "      <td>ForecastingGridSearchCV</td>\n",
       "      <td>&lt;class 'sktime.forecasting.model_selection._tu...</td>\n",
       "    </tr>\n",
       "    <tr>\n",
       "      <th>23</th>\n",
       "      <td>ForecastingSkoptSearchCV</td>\n",
       "      <td>&lt;class 'sktime.forecasting.model_selection._tu...</td>\n",
       "    </tr>\n",
       "    <tr>\n",
       "      <th>27</th>\n",
       "      <td>NaiveForecaster</td>\n",
       "      <td>&lt;class 'sktime.forecasting.naive.NaiveForecast...</td>\n",
       "    </tr>\n",
       "    <tr>\n",
       "      <th>31</th>\n",
       "      <td>Prophet</td>\n",
       "      <td>&lt;class 'sktime.forecasting.fbprophet.Prophet'&gt;</td>\n",
       "    </tr>\n",
       "    <tr>\n",
       "      <th>35</th>\n",
       "      <td>PytorchForecastingNHiTS</td>\n",
       "      <td>&lt;class 'sktime.forecasting.pytorchforecasting....</td>\n",
       "    </tr>\n",
       "    <tr>\n",
       "      <th>39</th>\n",
       "      <td>SARIMAX</td>\n",
       "      <td>&lt;class 'sktime.forecasting.sarimax.SARIMAX'&gt;</td>\n",
       "    </tr>\n",
       "    <tr>\n",
       "      <th>43</th>\n",
       "      <td>StatsForecastAutoARIMA</td>\n",
       "      <td>&lt;class 'sktime.forecasting.statsforecast.Stats...</td>\n",
       "    </tr>\n",
       "    <tr>\n",
       "      <th>47</th>\n",
       "      <td>StatsForecastAutoTheta</td>\n",
       "      <td>&lt;class 'sktime.forecasting.statsforecast.Stats...</td>\n",
       "    </tr>\n",
       "    <tr>\n",
       "      <th>51</th>\n",
       "      <td>ThetaForecaster</td>\n",
       "      <td>&lt;class 'sktime.forecasting.theta.ThetaForecast...</td>\n",
       "    </tr>\n",
       "    <tr>\n",
       "      <th>55</th>\n",
       "      <td>VECM</td>\n",
       "      <td>&lt;class 'sktime.forecasting.vecm.VECM'&gt;</td>\n",
       "    </tr>\n",
       "  </tbody>\n",
       "</table>\n",
       "</div>"
      ],
      "text/plain": [
       "                                 name  \\\n",
       "3                             AutoETS   \n",
       "7            ColumnEnsembleForecaster   \n",
       "11  DirRecTabularRegressionForecaster   \n",
       "15                      DynamicFactor   \n",
       "19            ForecastingGridSearchCV   \n",
       "23           ForecastingSkoptSearchCV   \n",
       "27                    NaiveForecaster   \n",
       "31                            Prophet   \n",
       "35            PytorchForecastingNHiTS   \n",
       "39                            SARIMAX   \n",
       "43             StatsForecastAutoARIMA   \n",
       "47             StatsForecastAutoTheta   \n",
       "51                    ThetaForecaster   \n",
       "55                               VECM   \n",
       "\n",
       "                                               object  \n",
       "3            <class 'sktime.forecasting.ets.AutoETS'>  \n",
       "7   <class 'sktime.forecasting.compose._column_ens...  \n",
       "11  <class 'sktime.forecasting.compose._reduce.Dir...  \n",
       "15  <class 'sktime.forecasting.dynamic_factor.Dyna...  \n",
       "19  <class 'sktime.forecasting.model_selection._tu...  \n",
       "23  <class 'sktime.forecasting.model_selection._tu...  \n",
       "27  <class 'sktime.forecasting.naive.NaiveForecast...  \n",
       "31     <class 'sktime.forecasting.fbprophet.Prophet'>  \n",
       "35  <class 'sktime.forecasting.pytorchforecasting....  \n",
       "39       <class 'sktime.forecasting.sarimax.SARIMAX'>  \n",
       "43  <class 'sktime.forecasting.statsforecast.Stats...  \n",
       "47  <class 'sktime.forecasting.statsforecast.Stats...  \n",
       "51  <class 'sktime.forecasting.theta.ThetaForecast...  \n",
       "55             <class 'sktime.forecasting.vecm.VECM'>  "
      ]
     },
     "execution_count": 17,
     "metadata": {},
     "output_type": "execute_result"
    }
   ],
   "source": [
    "filtered_models = models.iloc[3::4]\n",
    "filtered_models"
   ]
  },
  {
   "cell_type": "code",
   "execution_count": 10,
   "metadata": {},
   "outputs": [],
   "source": [
    "y_train, y_test, X_train, X_test = perform_train_test_split(df, target_col='bg-0:00')"
   ]
  },
  {
   "cell_type": "markdown",
   "metadata": {},
   "source": [
    "### Load Search Space\n",
    "\n",
    "Load the search space configurations (in the YAML file)"
   ]
  },
  {
   "cell_type": "code",
   "execution_count": 18,
   "metadata": {},
   "outputs": [],
   "source": [
    "import yaml\n",
    "from sktime.forecasting.model_selection import (\n",
    "    ForecastingOptunaSearchCV,\n",
    ")\n",
    "import optuna\n",
    "import optuna.distributions\n",
    "from sktime.split import ExpandingWindowSplitter\n",
    "from sktime.forecasting.base import ForecastingHorizon\n",
    "from sktime.performance_metrics.forecasting import MeanAbsolutePercentageError\n",
    "\n",
    "# Define forecasting horizon\n",
    "fh = ForecastingHorizon(y_test.index, is_relative=False)\n",
    "\n",
    "# Cross-validation strategy\n",
    "cv = ExpandingWindowSplitter(initial_window=int(len(y_train) * 0.5), step_length=1, fh=fh)\n"
   ]
  },
  {
   "cell_type": "code",
   "execution_count": 19,
   "metadata": {},
   "outputs": [],
   "source": [
    "def map_yaml_to_optuna(param_dict):\n",
    "    '''\n",
    "    Maps the search grid in the yaml file to distributions used\n",
    "    by OptunaSearch for search_grid\n",
    "    Args:\n",
    "        param_dict: the yaml file contents. See search_space.yaml for an example\n",
    "    '''\n",
    "    optuna_params = {}\n",
    "    for param, details in param_dict.items():\n",
    "        if details[\"type\"] == \"int\":\n",
    "            optuna_params[param] = optuna.distributions.IntDistribution(details[\"low\"], details[\"high\"])\n",
    "        elif details[\"type\"] == \"float\":\n",
    "            optuna_params[param] = optuna.distributions.FloatDistribution(details[\"low\"], details[\"high\"])\n",
    "        elif details[\"type\"] == \"categorical\":\n",
    "            optuna_params[param] = optuna.distributions.CategoricalDistribution(details[\"values\"])\n",
    "    return optuna_params"
   ]
  },
  {
   "cell_type": "code",
   "execution_count": 37,
   "metadata": {},
   "outputs": [],
   "source": [
    "def perform_optuna_search(param_space):\n",
    "    '''\n",
    "    Performs optuna search on the models specified in filtered_models dataframe\n",
    "    Args:\n",
    "        param_space: a dictionary of search space. Keys as model values, and values contain a dictionary of the search space. See search_space.yaml for example\n",
    "    Returns:\n",
    "        A dictionary. The keys are the model names. The values are as follows:\n",
    "        {\n",
    "            \"best_forecaster\": instance of best one for the model,\n",
    "            \"best_params\": best params for the model,\n",
    "            \"best_score\": best score for the model,\n",
    "        }\n",
    "    '''\n",
    "    best_forecasters = {}\n",
    "\n",
    "    for _, row in filtered_models.iterrows():\n",
    "        model_name = row['name']\n",
    "        model_class = row['object']\n",
    "\n",
    "        # Check if model has hyperparameter space defined in YAML\n",
    "        if model_name not in param_space.keys():\n",
    "            print(f\"No hyperparameter space defined for {model_name}. Skipping.\")\n",
    "            continue\n",
    "\n",
    "        # Instantiate the model\n",
    "        try:\n",
    "            forecaster = model_class()\n",
    "        except Exception as e:\n",
    "            print(f\"Failed to initialize {model_name}: {e}\")\n",
    "            continue\n",
    "\n",
    "        # Load the model's hyperparameter space\n",
    "        optuna_param_distributions = map_yaml_to_optuna(param_space[model_name])\n",
    "\n",
    "        # Run OptunaSearch\n",
    "        optuna_search = ForecastingOptunaSearchCV(\n",
    "            forecaster=forecaster,\n",
    "            param_grid=optuna_param_distributions,\n",
    "            cv=cv,\n",
    "            scoring=MeanAbsolutePercentageError(symmetric=False),\n",
    "            n_evals=50,\n",
    "        )\n",
    "\n",
    "        print(f\"Running OptunaSearch for {model_name}...\")\n",
    "        try:\n",
    "            optuna_search.fit(y_train, X_train)\n",
    "        except Exception as e:\n",
    "            print(f\"Failed to fit {model_name}: {e}\")\n",
    "            continue\n",
    "\n",
    "        # Store best results\n",
    "        best_forecasters[model_name] = {\n",
    "            \"best_forecaster\": optuna_search.best_forecaster_,\n",
    "            \"best_params\": optuna_search.best_params_,\n",
    "            \"best_score\": optuna_search.best_score_,\n",
    "        }\n",
    "    \n",
    "    return best_forecasters"
   ]
  },
  {
   "cell_type": "code",
   "execution_count": 35,
   "metadata": {},
   "outputs": [
    {
     "name": "stderr",
     "output_type": "stream",
     "text": [
      "c:\\Users\\viloh\\Documents\\nocturnal-hypo-gly-prob-forecast\\.venv\\Lib\\site-packages\\sktime\\forecasting\\model_selection\\_tune.py:1773: UserWarning: ForecastingOptunaSearchCV is experimental, and interfaces may change. User feedback and suggestions for future development are appreciated in issue #6618 here: https://github.com/sktime/sktime/issues/6618\n",
      "  warn(\n",
      "[I 2025-01-28 16:56:26,594] A new study created in memory with name: no-name-ad58d5e7-e4be-4c70-9449-bcb5d2d355e2\n",
      "c:\\Users\\viloh\\Documents\\nocturnal-hypo-gly-prob-forecast\\.venv\\Lib\\site-packages\\sktime\\forecasting\\model_selection\\_tune.py:1773: UserWarning: ForecastingOptunaSearchCV is experimental, and interfaces may change. User feedback and suggestions for future development are appreciated in issue #6618 here: https://github.com/sktime/sktime/issues/6618\n",
      "  warn(\n",
      "[I 2025-01-28 16:56:26,633] A new study created in memory with name: no-name-6b9f436f-3382-4918-bcad-926ae41ebace\n"
     ]
    },
    {
     "name": "stdout",
     "output_type": "stream",
     "text": [
      "Running OptunaSearch for AutoETS...\n",
      "Failed to fit AutoETS: `fh` must be relative, but found absolute `fh`\n",
      "No hyperparameter space defined for ColumnEnsembleForecaster. Skipping.\n",
      "No hyperparameter space defined for DirRecTabularRegressionForecaster. Skipping.\n",
      "No hyperparameter space defined for DynamicFactor. Skipping.\n",
      "No hyperparameter space defined for ForecastingGridSearchCV. Skipping.\n",
      "No hyperparameter space defined for ForecastingSkoptSearchCV. Skipping.\n",
      "Running OptunaSearch for NaiveForecaster...\n",
      "Failed to fit NaiveForecaster: `fh` must be relative, but found absolute `fh`\n",
      "No hyperparameter space defined for Prophet. Skipping.\n",
      "No hyperparameter space defined for PytorchForecastingNHiTS. Skipping.\n",
      "Running OptunaSearch for SARIMAX...\n",
      "Failed to fit SARIMAX: ForecastingOptunaSearchCV cannot handle missing data (nans), but y passed contained missing data.\n",
      "No hyperparameter space defined for StatsForecastAutoARIMA. Skipping.\n",
      "No hyperparameter space defined for StatsForecastAutoTheta. Skipping.\n",
      "Running OptunaSearch for ThetaForecaster...\n",
      "Failed to fit ThetaForecaster: ForecastingOptunaSearchCV cannot handle missing data (nans), but y passed contained missing data.\n",
      "No hyperparameter space defined for VECM. Skipping.\n"
     ]
    },
    {
     "name": "stderr",
     "output_type": "stream",
     "text": [
      "c:\\Users\\viloh\\Documents\\nocturnal-hypo-gly-prob-forecast\\.venv\\Lib\\site-packages\\sktime\\forecasting\\model_selection\\_tune.py:1773: UserWarning: ForecastingOptunaSearchCV is experimental, and interfaces may change. User feedback and suggestions for future development are appreciated in issue #6618 here: https://github.com/sktime/sktime/issues/6618\n",
      "  warn(\n"
     ]
    }
   ],
   "source": [
    "with open(\"search_space.yaml\", \"r\") as file:\n",
    "    param_space = yaml.safe_load(file)\n",
    "\n",
    "# print(param_space['models'].keys())\n",
    "param_space = param_space['models']\n",
    "res = perform_optuna_search(param_space)"
   ]
  },
  {
   "cell_type": "code",
   "execution_count": 36,
   "metadata": {},
   "outputs": [
    {
     "data": {
      "text/plain": [
       "{}"
      ]
     },
     "execution_count": 36,
     "metadata": {},
     "output_type": "execute_result"
    }
   ],
   "source": [
    "res"
   ]
  }
 ],
 "metadata": {
  "kernelspec": {
   "display_name": ".venv",
   "language": "python",
   "name": "python3"
  },
  "language_info": {
   "codemirror_mode": {
    "name": "ipython",
    "version": 3
   },
   "file_extension": ".py",
   "mimetype": "text/x-python",
   "name": "python",
   "nbconvert_exporter": "python",
   "pygments_lexer": "ipython3",
   "version": "3.11.9"
  }
 },
 "nbformat": 4,
 "nbformat_minor": 2
}
