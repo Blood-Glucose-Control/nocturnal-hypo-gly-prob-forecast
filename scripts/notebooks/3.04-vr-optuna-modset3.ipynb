{
 "cells": [
  {
   "cell_type": "markdown",
   "metadata": {},
   "source": [
    "# Forecasting Optuna Search CV \n",
    "## Modulus Set 3\n",
    "\n",
    "**Notebook Goal**\n",
    "- A modeling pipeline that optimizes the hyperparameters of the sktime forecasters that have the [capavility:pred_int tag](https://www.sktime.net/en/stable/examples/01b_forecasting_proba.html) \n",
    "- This notebook will focus on the ones where `i mod 4 = 3` wher `i` is the index of the registry table in the above link.\n",
    "- The work will be based on this documentation: [ForecastingOptunaSearchCV](https://www.sktime.net/en/stable/api_reference/auto_generated/sktime.forecasting.model_selection.ForecastingOptunaSearchCV.html)"
   ]
  },
  {
   "cell_type": "code",
   "execution_count": 36,
   "metadata": {},
   "outputs": [
    {
     "name": "stderr",
     "output_type": "stream",
     "text": [
      "c:\\Users\\viloh\\Documents\\nocturnal-hypo-gly-prob-forecast\\src\\data\\data_loader.py:32: DtypeWarning: Columns (435,436,437,438,439,440,441,442,443,444,445,446,447,448,449,450,451,452,453,454,455,456,457,458,459,460,461,462,463,464,465,466,467,468,469,470,471,472,473,474,475,476,477,478,479,480,481,482,483,484,485,486,487,488,489,490,491,492,493,494,495,496,497,498,499,500,501,502,503,504,505,506) have mixed types. Specify dtype option on import or set low_memory=False.\n",
      "  return pd.read_csv(file_path, usecols=keep_columns)\n"
     ]
    }
   ],
   "source": [
    "from sktime.registry import all_estimators\n",
    "from dotenv import load_dotenv\n",
    "import sys\n",
    "import os\n",
    "\n",
    "# Load environment variables from .env file\n",
    "load_dotenv()\n",
    "repo_dir = os.path.abspath(os.path.join(os.getcwd(), \"../../\"))  # points to the root\n",
    "src_dir = os.path.join(repo_dir, \"src\")\n",
    "sys.path.insert(0, repo_dir)\n",
    "# Now the import works! :)\n",
    "from src.data.data_loader import load_data\n",
    "from src.data.data_cleaner import clean_data\n",
    "\n",
    "# Load the data\n",
    "df = load_data()\n",
    "# Get the list of forecasters with prediction interval capability\n",
    "models = all_estimators(\n",
    "    \"forecaster\", filter_tags={\"capability:pred_int\": True}, as_dataframe=True\n",
    ")\n"
   ]
  },
  {
   "cell_type": "code",
   "execution_count": 37,
   "metadata": {},
   "outputs": [
    {
     "name": "stdout",
     "output_type": "stream",
     "text": [
      "Index(['id', 'p_num', 'time', 'insulin-5:55', 'insulin-5:50', 'insulin-5:45',\n",
      "       'insulin-5:40', 'insulin-5:35', 'insulin-5:30', 'insulin-5:25',\n",
      "       ...\n",
      "       'cals-0:40', 'cals-0:35', 'cals-0:30', 'cals-0:25', 'cals-0:20',\n",
      "       'cals-0:15', 'cals-0:10', 'cals-0:05', 'cals-0:00', 'bg+1:00'],\n",
      "      dtype='object', length=364)\n"
     ]
    }
   ],
   "source": [
    "clean_data(df) # in place\n",
    "print(df.columns)"
   ]
  },
  {
   "cell_type": "code",
   "execution_count": null,
   "metadata": {},
   "outputs": [],
   "source": []
  }
 ],
 "metadata": {
  "kernelspec": {
   "display_name": ".venv",
   "language": "python",
   "name": "python3"
  },
  "language_info": {
   "codemirror_mode": {
    "name": "ipython",
    "version": 3
   },
   "file_extension": ".py",
   "mimetype": "text/x-python",
   "name": "python",
   "nbconvert_exporter": "python",
   "pygments_lexer": "ipython3",
   "version": "3.11.9"
  }
 },
 "nbformat": 4,
 "nbformat_minor": 2
}
