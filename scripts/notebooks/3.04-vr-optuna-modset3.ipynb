{
 "cells": [
  {
   "cell_type": "markdown",
   "metadata": {},
   "source": [
    "# Forecasting Optuna Search CV \n",
    "## Modulus Set 3\n",
    "\n",
    "**Notebook Goal**\n",
    "- A modeling pipeline that optimizes the hyperparameters of the sktime forecasters that have the [capavility:pred_int tag](https://www.sktime.net/en/stable/examples/01b_forecasting_proba.html) \n",
    "- This notebook will focus on the ones where `i mod 4 = 3` wher `i` is the index of the registry table in the above link.\n",
    "- The work will be based on this documentation: [ForecastingOptunaSearchCV](https://www.sktime.net/en/stable/api_reference/auto_generated/sktime.forecasting.model_selection.ForecastingOptunaSearchCV.html)"
   ]
  },
  {
   "cell_type": "code",
   "execution_count": 45,
   "metadata": {},
   "outputs": [
    {
     "name": "stdout",
     "output_type": "stream",
     "text": [
      "The autoreload extension is already loaded. To reload it, use:\n",
      "  %reload_ext autoreload\n"
     ]
    }
   ],
   "source": [
    "# Load the autoreload extension\n",
    "%load_ext autoreload\n",
    "\n",
    "# Reload all modules automatically before executing code\n",
    "%autoreload 2"
   ]
  },
  {
   "cell_type": "code",
   "execution_count": 46,
   "metadata": {},
   "outputs": [
    {
     "name": "stderr",
     "output_type": "stream",
     "text": [
      "c:\\Users\\viloh\\Documents\\nocturnal-hypo-gly-prob-forecast\\src\\data\\data_loader.py:32: DtypeWarning: Columns (435,436,437,438,439,440,441,442,443,444,445,446,447,448,449,450,451,452,453,454,455,456,457,458,459,460,461,462,463,464,465,466,467,468,469,470,471,472,473,474,475,476,477,478,479,480,481,482,483,484,485,486,487,488,489,490,491,492,493,494,495,496,497,498,499,500,501,502,503,504,505,506) have mixed types. Specify dtype option on import or set low_memory=False.\n",
      "  return pd.read_csv(file_path, usecols=keep_columns)\n"
     ]
    }
   ],
   "source": [
    "from sktime.registry import all_estimators\n",
    "from dotenv import load_dotenv\n",
    "import sys\n",
    "import os\n",
    "\n",
    "# Load environment variables from .env file\n",
    "load_dotenv()\n",
    "repo_dir = os.path.abspath(os.path.join(os.getcwd(), \"../../\"))  # points to the root\n",
    "src_dir = os.path.join(repo_dir, \"src\")\n",
    "sys.path.insert(0, repo_dir)\n",
    "# Now the import works! :)\n",
    "from src.data.data_loader import load_data\n",
    "from src.data.data_cleaner import clean_data, perform_train_test_split\n",
    "\n",
    "# Load the data\n",
    "df = load_data()\n",
    "# Get the list of forecasters with prediction interval capability\n",
    "models = all_estimators(\n",
    "    \"forecaster\", filter_tags={\"capability:pred_int\": True}, as_dataframe=True\n",
    ")\n"
   ]
  },
  {
   "cell_type": "code",
   "execution_count": 47,
   "metadata": {},
   "outputs": [
    {
     "name": "stdout",
     "output_type": "stream",
     "text": [
      "Index(['id', 'p_num', 'time', 'bg-0:00', 'insulin-0:00', 'carbs-0:00',\n",
      "       'hr-0:00', 'steps-0:00', 'cals-0:00', 'bg+1:00'],\n",
      "      dtype='object')\n"
     ]
    }
   ],
   "source": [
    "df = clean_data(df) # in place\n",
    "print(df.columns)"
   ]
  },
  {
   "cell_type": "code",
   "execution_count": 48,
   "metadata": {},
   "outputs": [],
   "source": [
    "filtered_models = models.iloc[3::4]"
   ]
  },
  {
   "cell_type": "code",
   "execution_count": 49,
   "metadata": {},
   "outputs": [],
   "source": [
    "y_train, y_test, X_train, X_test = perform_train_test_split(df, target_col='bg-0:00')"
   ]
  },
  {
   "cell_type": "markdown",
   "metadata": {},
   "source": [
    "### Load Search Space\n",
    "\n",
    "Load the search space configurations (in the YAML file)"
   ]
  },
  {
   "cell_type": "code",
   "execution_count": 81,
   "metadata": {},
   "outputs": [],
   "source": [
    "import yaml\n",
    "from sktime.forecasting.model_selection import (\n",
    "    ForecastingOptunaSearchCV,\n",
    ")\n",
    "import optuna\n",
    "import optuna.distributions\n",
    "from sktime.split import ExpandingWindowSplitter\n",
    "from sktime.forecasting.base import ForecastingHorizon\n",
    "from sktime.performance_metrics.forecasting import MeanAbsolutePercentageError\n",
    "import pandas as pd\n",
    "\n",
    "# Define forecasting horizon\n",
    "fh_relative = ForecastingHorizon([1,2,3,4,5,6,7,8], is_relative=False).to_relative(cutoff=y_train.index[-1])\n",
    "# Cross-validation strategy\n",
    "cv_relative = ExpandingWindowSplitter(initial_window=int(len(y_train) * 0.5), step_length=1, fh=fh_relative)\n"
   ]
  },
  {
   "cell_type": "code",
   "execution_count": 136,
   "metadata": {},
   "outputs": [],
   "source": [
    "def map_yaml_to_optuna(param_dict):\n",
    "    '''\n",
    "    Maps the search grid in the yaml file to distributions used\n",
    "    by OptunaSearch for search_grid\n",
    "    Args:\n",
    "        param_dict: the yaml file contents. See search_space.yaml for an example\n",
    "    '''\n",
    "    optuna_params = {}\n",
    "    default_params = {}\n",
    "    \n",
    "    for param, details in param_dict.items():\n",
    "        # if it's not a dictionary, add the value directly\n",
    "        if not isinstance(details, dict):\n",
    "            default_params[param] = details\n",
    "        else:\n",
    "            # Handle the case where the details is a dictionary\n",
    "            if 'type' in details.keys():\n",
    "                if details['type'] == 'int':\n",
    "                    optuna_params[param] = optuna.distributions.IntDistribution(details['low'], details['high'])\n",
    "                elif details['type'] == 'float':\n",
    "                    optuna_params[param] = optuna.distributions.FloatDistribution(details['low'], details['high'])\n",
    "                elif details['type'] == 'categorical':\n",
    "                    optuna_params[param] = optuna.distributions.CategoricalDistribution(details['values'])\n",
    "                # If type is a model name (eg: Forecaster arg for ConformalIntervals), then initiate the model with its params\n",
    "                elif details.get('type') == 'model_name':\n",
    "\n",
    "                    model_name = details.get('model_name')\n",
    "                    if model_name and model_name in models['name'].values:\n",
    "                        print(details.get('hyperparameters', {}))\n",
    "                        model_cls = models[models['name'] == model_name]['object'].iloc[0]\n",
    "                        cls_instance = model_cls(**details.get('hyperparameters', {}))\n",
    "                        default_params[param] = cls_instance\n",
    "                    else:\n",
    "                        print(f\"Model name '{model_name}' not found in models DataFrame.\")\n",
    "                \n",
    "                elif details['type'] == \"list\":\n",
    "                    processed_list = []\n",
    "                    for item in details[\"values\"]:\n",
    "                        if isinstance(item, list) and item[1] in models['name'].values:\n",
    "                            print(\"IS LIST\")\n",
    "                            model_class = models.set_index('name').loc[item[1], 'object']\n",
    "                            processed_list.append((item[0], model_class(), item[2]))\n",
    "                        else:\n",
    "                            processed_list.append(item)\n",
    "                    default_params[param] = processed_list\n",
    "            # If it's another dictionary, process it recursively\n",
    "            else:\n",
    "                optuna_params[param] = map_yaml_to_optuna(details)  # Recursive call for nested dictionaries\n",
    "\n",
    "    return optuna_params, default_params"
   ]
  },
  {
   "cell_type": "code",
   "execution_count": 90,
   "metadata": {},
   "outputs": [],
   "source": [
    "def perform_optuna_search(param_space):\n",
    "    '''\n",
    "    Performs optuna search on the models specified in filtered_models dataframe\n",
    "    Args:\n",
    "        param_space: a dictionary of search space. Keys as model values, and values contain a dictionary of the search space. See search_space.yaml for example\n",
    "    Returns:\n",
    "        A dictionary. The keys are the model names. The values are as follows:\n",
    "        {\n",
    "            \"best_forecaster\": instance of best one for the model,\n",
    "            \"best_params\": best params for the model,\n",
    "            \"best_score\": best score for the model,\n",
    "        }\n",
    "    '''\n",
    "    best_forecasters = {}\n",
    "\n",
    "    for _, row in filtered_models.iterrows():\n",
    "        model_name = row['name']\n",
    "        model_class = row['object']\n",
    "\n",
    "        # Check if model has hyperparameter space defined in YAML\n",
    "        if model_name not in param_space.keys():\n",
    "            print(f\"No hyperparameter space defined for {model_name}. Skipping.\")\n",
    "            continue\n",
    "\n",
    "        # Load the model's hyperparameter space\n",
    "        optuna_param_distributions, default_params = map_yaml_to_optuna(param_space[model_name])\n",
    "\n",
    "        # Instantiate the model\n",
    "        try:\n",
    "            forecaster = model_class(**default_params)\n",
    "        except Exception as e:\n",
    "            print(f\"Failed to initialize {model_name}: {e}\")\n",
    "            continue\n",
    "\n",
    "        # Run OptunaSearch\n",
    "        optuna_search = ForecastingOptunaSearchCV(\n",
    "            forecaster=forecaster,\n",
    "            param_grid=optuna_param_distributions,\n",
    "            cv=cv_relative,\n",
    "            scoring=MeanAbsolutePercentageError(symmetric=False),\n",
    "            n_evals=50,\n",
    "        )\n",
    "\n",
    "        print(f\"Running OptunaSearch for {model_name}...\")\n",
    "        try:\n",
    "            optuna_search.fit(y_train, X_train)\n",
    "        except Exception as e:\n",
    "            print(f\"Failed to fit {model_name}: {e}\")\n",
    "            continue\n",
    "\n",
    "        # Store best results\n",
    "        best_forecasters[model_name] = {\n",
    "            \"best_forecaster\": optuna_search.best_forecaster_,\n",
    "            \"best_params\": optuna_search.best_params_,\n",
    "            \"best_score\": optuna_search.best_score_,\n",
    "        }\n",
    "    \n",
    "    return best_forecasters"
   ]
  },
  {
   "cell_type": "code",
   "execution_count": 117,
   "metadata": {},
   "outputs": [],
   "source": [
    "filtered_models = models[models['name'] == \"ColumnEnsembleForecaster\"]\n",
    "# filtered_models.head()\n",
    "# models"
   ]
  },
  {
   "cell_type": "code",
   "execution_count": 153,
   "metadata": {},
   "outputs": [
    {
     "name": "stderr",
     "output_type": "stream",
     "text": [
      "c:\\Users\\viloh\\Documents\\nocturnal-hypo-gly-prob-forecast\\.venv\\Lib\\site-packages\\sktime\\forecasting\\model_selection\\_tune.py:1773: UserWarning: ForecastingOptunaSearchCV is experimental, and interfaces may change. User feedback and suggestions for future development are appreciated in issue #6618 here: https://github.com/sktime/sktime/issues/6618\n",
      "  warn(\n",
      "[I 2025-01-29 16:32:39,014] A new study created in memory with name: no-name-e3f99247-2ab2-43de-8ffc-1ebeafda5afc\n"
     ]
    },
    {
     "name": "stdout",
     "output_type": "stream",
     "text": [
      "IS LIST\n",
      "Running OptunaSearch for ColumnEnsembleForecaster...\n"
     ]
    }
   ],
   "source": [
    "with open(\"search_space.yaml\", \"r\") as file:\n",
    "    param_space = yaml.safe_load(file)\n",
    "\n",
    "# print(param_space['models'].keys())\n",
    "param_space = param_space['models']\n",
    "res = perform_optuna_search(param_space)"
   ]
  },
  {
   "cell_type": "code",
   "execution_count": 154,
   "metadata": {},
   "outputs": [
    {
     "data": {
      "text/plain": [
       "{'ColumnEnsembleForecaster': {'best_forecaster': ColumnEnsembleForecaster(forecasters=[('naive', NaiveForecaster(), 0)]),\n",
       "  'best_params': {'naive__strategy': 'last'},\n",
       "  'best_score': 0.6715778926219356}}"
      ]
     },
     "execution_count": 154,
     "metadata": {},
     "output_type": "execute_result"
    }
   ],
   "source": [
    "res"
   ]
  }
 ],
 "metadata": {
  "kernelspec": {
   "display_name": ".venv",
   "language": "python",
   "name": "python3"
  },
  "language_info": {
   "codemirror_mode": {
    "name": "ipython",
    "version": 3
   },
   "file_extension": ".py",
   "mimetype": "text/x-python",
   "name": "python",
   "nbconvert_exporter": "python",
   "pygments_lexer": "ipython3",
   "version": "3.11.9"
  }
 },
 "nbformat": 4,
 "nbformat_minor": 2
}
