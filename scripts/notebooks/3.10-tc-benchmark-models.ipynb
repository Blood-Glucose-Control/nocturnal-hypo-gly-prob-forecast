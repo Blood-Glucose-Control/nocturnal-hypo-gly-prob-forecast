{
 "cells": [
  {
   "cell_type": "code",
   "execution_count": 10,
   "id": "ec7d5a9784929826",
   "metadata": {},
   "outputs": [],
   "source": [
    "from src.data.data_loader import load_data, get_train_validation_split\n",
    "from src.tuning.benchmark import impute_missing_values\n",
    "\n",
    "df = load_data(use_cached=True)\n",
    "df, _ = get_train_validation_split(df)"
   ]
  },
  {
   "cell_type": "markdown",
   "id": "604dbfc3e51b11b6",
   "metadata": {},
   "source": [
    "### Use patient 1"
   ]
  },
  {
   "cell_type": "code",
   "execution_count": null,
   "id": "ba350e1d0f6fc102",
   "metadata": {
    "ExecuteTime": {
     "end_time": "2025-02-14T07:14:29.968016Z",
     "start_time": "2025-02-14T07:14:29.932125Z"
    }
   },
   "outputs": [],
   "source": [
    "patient_1 = df[df[\"p_num\"] == \"p01\"]"
   ]
  },
  {
   "cell_type": "markdown",
   "id": "23d6f8037c5d2250",
   "metadata": {},
   "source": [
    "### Reduce the size of the df"
   ]
  },
  {
   "cell_type": "code",
   "execution_count": 80,
   "id": "8483443afb964b49",
   "metadata": {
    "ExecuteTime": {
     "end_time": "2025-02-14T07:20:37.787238Z",
     "start_time": "2025-02-14T07:20:37.780929Z"
    }
   },
   "outputs": [],
   "source": [
    "# We'll just tune the hyperparams on the first 100 timepoints for patient 1 since we're just testing\n",
    "# full is 8459\n",
    "row_to_load = -1\n",
    "y_feature = [\"bg-0:00\"]\n",
    "x_features = [\n",
    "    \"hr-0:00\",\n",
    "    \"steps-0:00\",\n",
    "    \"cals-0:00\",\n",
    "    \"cob\",\n",
    "    \"carb_availability\",\n",
    "    \"insulin_availability\",\n",
    "    \"iob\",\n",
    "]\n",
    "p_df = df.iloc[:row_to_load][x_features + y_feature]\n",
    "\n",
    "# Impute with default methods\n",
    "p_df = impute_missing_values(p_df, columns=x_features)\n",
    "p_df = impute_missing_values(p_df, columns=y_feature)"
   ]
  },
  {
   "cell_type": "markdown",
   "id": "2d8554babc705855",
   "metadata": {},
   "source": [
    "### Handle missing values "
   ]
  },
  {
   "cell_type": "code",
   "execution_count": 81,
   "id": "ed5b2651825cdc91",
   "metadata": {
    "ExecuteTime": {
     "end_time": "2025-02-14T07:21:00.629644Z",
     "start_time": "2025-02-14T07:21:00.624098Z"
    }
   },
   "outputs": [
    {
     "name": "stdout",
     "output_type": "stream",
     "text": [
      "177023\n"
     ]
    }
   ],
   "source": [
    "from sktime.benchmarking.forecasting import ForecastingBenchmark\n",
    "from sktime.split import ExpandingWindowSplitter\n",
    "from sktime.performance_metrics.forecasting import MeanSquaredError\n",
    "\n",
    "\n",
    "def load_diabetes():\n",
    "    return (p_df[y_feature], p_df[x_features])\n",
    "\n",
    "\n",
    "y_diabetes, X_diabetes = load_diabetes()\n",
    "print(len(X_diabetes))"
   ]
  },
  {
   "cell_type": "markdown",
   "id": "2d59fc66cf1c670d",
   "metadata": {},
   "source": [
    "### Benchmark\n",
    "With out current setup for testing, our dataset is `patient_1_trimmed`, which only has 200 rows with 2 X features: iob and cob."
   ]
  },
  {
   "cell_type": "code",
   "execution_count": 82,
   "id": "dc2583990e4ab212",
   "metadata": {
    "ExecuteTime": {
     "end_time": "2025-02-14T07:22:44.587940Z",
     "start_time": "2025-02-14T07:22:44.418397Z"
    }
   },
   "outputs": [],
   "source": [
    "import numpy as np\n",
    "from src.tuning.benchmark import generate_estimators_from_param_grid\n",
    "from datetime import datetime\n",
    "\n",
    "benchmark = ForecastingBenchmark(\n",
    "    backend=\"loky\",  # Use parallel processing\n",
    "    backend_params={\"n_jobs\": -1},  # Use all available CPU cores\n",
    ")\n",
    "\n",
    "# for 5-min interval patietns use 12 * 24 * 3\n",
    "# for 15-min interval patients use 4 * 24 * 3\n",
    "cv_splitter = ExpandingWindowSplitter(\n",
    "    initial_window=4 * 24 * 3,\n",
    "    step_length=4 * 24 * 3,\n",
    "    fh=np.arange(1, 12 * 6 + 1),\n",
    ")\n",
    "\n",
    "# PinballLoss is giving us some issues\n",
    "# TODO: Figure out why\n",
    "scorers = [MeanSquaredError(square_root=True)]\n",
    "\n",
    "benchmark.add_task(\n",
    "    dataset_loader=load_diabetes,\n",
    "    cv_splitter=cv_splitter,\n",
    "    scorers=scorers,\n",
    "    error_score=\"raise\",\n",
    ")"
   ]
  },
  {
   "cell_type": "markdown",
   "id": "7088a75c",
   "metadata": {},
   "source": [
    "## Change your yaml path here"
   ]
  },
  {
   "cell_type": "code",
   "execution_count": 83,
   "id": "dfe8cd9d",
   "metadata": {},
   "outputs": [
    {
     "name": "stdout",
     "output_type": "stream",
     "text": [
      "Training 1 StatsForecastAutoCES models with different parameters\n"
     ]
    },
    {
     "ename": "Exception",
     "evalue": "no model able to be fitted",
     "output_type": "error",
     "traceback": [
      "\u001b[1;31m---------------------------------------------------------------------------\u001b[0m",
      "\u001b[1;31m_RemoteTraceback\u001b[0m                          Traceback (most recent call last)",
      "\u001b[1;31m_RemoteTraceback\u001b[0m: \n\"\"\"\nTraceback (most recent call last):\n  File \"c:\\Users\\Tony\\GlucoseML\\nocturnal-hypo-gly-prob-forecast\\.noctprob-venv\\Lib\\site-packages\\joblib\\externals\\loky\\process_executor.py\", line 463, in _process_worker\n    r = call_item()\n        ^^^^^^^^^^^\n  File \"c:\\Users\\Tony\\GlucoseML\\nocturnal-hypo-gly-prob-forecast\\.noctprob-venv\\Lib\\site-packages\\joblib\\externals\\loky\\process_executor.py\", line 291, in __call__\n    return self.fn(*self.args, **self.kwargs)\n           ^^^^^^^^^^^^^^^^^^^^^^^^^^^^^^^^^^\n  File \"c:\\Users\\Tony\\GlucoseML\\nocturnal-hypo-gly-prob-forecast\\.noctprob-venv\\Lib\\site-packages\\joblib\\parallel.py\", line 598, in __call__\n    return [func(*args, **kwargs)\n            ^^^^^^^^^^^^^^^^^^^^^\n  File \"c:\\Users\\Tony\\GlucoseML\\nocturnal-hypo-gly-prob-forecast\\.noctprob-venv\\Lib\\site-packages\\sktime\\forecasting\\model_evaluation\\_functions.py\", line 278, in _evaluate_window\n    raise e\n  File \"c:\\Users\\Tony\\GlucoseML\\nocturnal-hypo-gly-prob-forecast\\.noctprob-venv\\Lib\\site-packages\\sktime\\forecasting\\model_evaluation\\_functions.py\", line 223, in _evaluate_window\n    forecaster.fit(y=y_train, X=X_train, fh=fh)\n  File \"c:\\Users\\Tony\\GlucoseML\\nocturnal-hypo-gly-prob-forecast\\.noctprob-venv\\Lib\\site-packages\\sktime\\forecasting\\base\\_base.py\", line 395, in fit\n    self._fit(y=y_inner, X=X_inner, fh=fh)\n  File \"c:\\Users\\Tony\\GlucoseML\\nocturnal-hypo-gly-prob-forecast\\.noctprob-venv\\Lib\\site-packages\\sktime\\forecasting\\base\\adapters\\_generalised_statsforecast.py\", line 170, in _fit\n    self._forecaster.fit(y_fit_input, X=X_fit_input)\n  File \"c:\\Users\\Tony\\GlucoseML\\nocturnal-hypo-gly-prob-forecast\\.noctprob-venv\\Lib\\site-packages\\statsforecast\\models.py\", line 942, in fit\n    self.model_ = auto_ces(y, m=self.season_length, model=self.model)\n                  ^^^^^^^^^^^^^^^^^^^^^^^^^^^^^^^^^^^^^^^^^^^^^^^^^^^\n  File \"c:\\Users\\Tony\\GlucoseML\\nocturnal-hypo-gly-prob-forecast\\.noctprob-venv\\Lib\\site-packages\\statsforecast\\ces.py\", line 782, in auto_ces\n    raise Exception(\"no model able to be fitted\")\nException: no model able to be fitted\n\"\"\"",
      "\nThe above exception was the direct cause of the following exception:\n",
      "\u001b[1;31mException\u001b[0m                                 Traceback (most recent call last)",
      "Cell \u001b[1;32mIn[83], line 19\u001b[0m\n\u001b[0;32m     17\u001b[0m timestamp \u001b[38;5;241m=\u001b[39m datetime\u001b[38;5;241m.\u001b[39mnow()\u001b[38;5;241m.\u001b[39mstrftime(\u001b[38;5;124m\"\u001b[39m\u001b[38;5;124m%\u001b[39m\u001b[38;5;124mY\u001b[39m\u001b[38;5;124m%\u001b[39m\u001b[38;5;124mm\u001b[39m\u001b[38;5;132;01m%d\u001b[39;00m\u001b[38;5;124m_\u001b[39m\u001b[38;5;124m%\u001b[39m\u001b[38;5;124mH\u001b[39m\u001b[38;5;124m%\u001b[39m\u001b[38;5;124mM\u001b[39m\u001b[38;5;124m%\u001b[39m\u001b[38;5;124mS\u001b[39m\u001b[38;5;124m\"\u001b[39m)\n\u001b[0;32m     18\u001b[0m results_file \u001b[38;5;241m=\u001b[39m \u001b[38;5;124mf\u001b[39m\u001b[38;5;124m\"\u001b[39m\u001b[38;5;124m./results/param_tests/\u001b[39m\u001b[38;5;132;01m{\u001b[39;00mcurrent_time\u001b[38;5;132;01m}\u001b[39;00m\u001b[38;5;124m_results_\u001b[39m\u001b[38;5;132;01m{\u001b[39;00myaml_name\u001b[38;5;132;01m}\u001b[39;00m\u001b[38;5;124m.csv\u001b[39m\u001b[38;5;124m\"\u001b[39m\n\u001b[1;32m---> 19\u001b[0m \u001b[43mbenchmark\u001b[49m\u001b[38;5;241;43m.\u001b[39;49m\u001b[43mrun\u001b[49m\u001b[43m(\u001b[49m\u001b[43mresults_file\u001b[49m\u001b[43m)\u001b[49m\n\u001b[0;32m     21\u001b[0m \u001b[38;5;66;03m# If there is a file created, then it is probably good enough\u001b[39;00m\n\u001b[0;32m     22\u001b[0m \u001b[38;5;28;01mif\u001b[39;00m \u001b[38;5;129;01mnot\u001b[39;00m os\u001b[38;5;241m.\u001b[39mpath\u001b[38;5;241m.\u001b[39mexists(results_file):\n",
      "File \u001b[1;32mc:\\Users\\Tony\\GlucoseML\\nocturnal-hypo-gly-prob-forecast\\.noctprob-venv\\Lib\\site-packages\\sktime\\benchmarking\\benchmarks.py:147\u001b[0m, in \u001b[0;36mBaseBenchmark.run\u001b[1;34m(self, output_file)\u001b[0m\n\u001b[0;32m    135\u001b[0m \u001b[38;5;28;01mdef\u001b[39;00m\u001b[38;5;250m \u001b[39m\u001b[38;5;21mrun\u001b[39m(\u001b[38;5;28mself\u001b[39m, output_file: \u001b[38;5;28mstr\u001b[39m) \u001b[38;5;241m-\u001b[39m\u001b[38;5;241m>\u001b[39m pd\u001b[38;5;241m.\u001b[39mDataFrame:\n\u001b[0;32m    136\u001b[0m \u001b[38;5;250m    \u001b[39m\u001b[38;5;124;03m\"\"\"Run the benchmark.\u001b[39;00m\n\u001b[0;32m    137\u001b[0m \n\u001b[0;32m    138\u001b[0m \u001b[38;5;124;03m    Parameters\u001b[39;00m\n\u001b[1;32m   (...)\u001b[0m\n\u001b[0;32m    145\u001b[0m \u001b[38;5;124;03m    pandas DataFrame of results\u001b[39;00m\n\u001b[0;32m    146\u001b[0m \u001b[38;5;124;03m    \"\"\"\u001b[39;00m\n\u001b[1;32m--> 147\u001b[0m     results_df \u001b[38;5;241m=\u001b[39m \u001b[38;5;28;43mself\u001b[39;49m\u001b[38;5;241;43m.\u001b[39;49m\u001b[43mkotsu_run\u001b[49m\u001b[43m(\u001b[49m\u001b[38;5;28;43mself\u001b[39;49m\u001b[38;5;241;43m.\u001b[39;49m\u001b[43mestimators\u001b[49m\u001b[43m,\u001b[49m\u001b[43m \u001b[49m\u001b[38;5;28;43mself\u001b[39;49m\u001b[38;5;241;43m.\u001b[39;49m\u001b[43mvalidations\u001b[49m\u001b[43m,\u001b[49m\u001b[43m \u001b[49m\u001b[43moutput_file\u001b[49m\u001b[43m)\u001b[49m\n\u001b[0;32m    148\u001b[0m     \u001b[38;5;28;01mreturn\u001b[39;00m results_df\n",
      "File \u001b[1;32mc:\\Users\\Tony\\GlucoseML\\nocturnal-hypo-gly-prob-forecast\\.noctprob-venv\\Lib\\site-packages\\sktime\\benchmarking\\_lib_mini_kotsu\\run.py:101\u001b[0m, in \u001b[0;36mrun\u001b[1;34m(model_registry, validation_registry, results_path, force_rerun, artefacts_store_dir, run_params)\u001b[0m\n\u001b[0;32m     93\u001b[0m validation \u001b[38;5;241m=\u001b[39m _form_validation_partial_with_store_dirs(\n\u001b[0;32m     94\u001b[0m     validation,\n\u001b[0;32m     95\u001b[0m     artefacts_store_dir,\n\u001b[0;32m     96\u001b[0m     validation_spec,\n\u001b[0;32m     97\u001b[0m     model_spec,\n\u001b[0;32m     98\u001b[0m )\n\u001b[0;32m    100\u001b[0m model \u001b[38;5;241m=\u001b[39m model_spec\u001b[38;5;241m.\u001b[39mmake()\n\u001b[1;32m--> 101\u001b[0m results, elapsed_secs \u001b[38;5;241m=\u001b[39m \u001b[43m_run_validation_model\u001b[49m\u001b[43m(\u001b[49m\u001b[43mvalidation\u001b[49m\u001b[43m,\u001b[49m\u001b[43m \u001b[49m\u001b[43mmodel\u001b[49m\u001b[43m,\u001b[49m\u001b[43m \u001b[49m\u001b[43mrun_params\u001b[49m\u001b[43m)\u001b[49m\n\u001b[0;32m    102\u001b[0m results \u001b[38;5;241m=\u001b[39m _add_meta_data_to_results(\n\u001b[0;32m    103\u001b[0m     results, elapsed_secs, validation_spec, model_spec\n\u001b[0;32m    104\u001b[0m )\n\u001b[0;32m    105\u001b[0m results_list\u001b[38;5;241m.\u001b[39mappend(results)\n",
      "File \u001b[1;32mc:\\Users\\Tony\\GlucoseML\\nocturnal-hypo-gly-prob-forecast\\.noctprob-venv\\Lib\\site-packages\\sktime\\benchmarking\\_lib_mini_kotsu\\run.py:196\u001b[0m, in \u001b[0;36m_run_validation_model\u001b[1;34m(validation, model, run_params)\u001b[0m\n\u001b[0;32m    189\u001b[0m \u001b[38;5;250m\u001b[39m\u001b[38;5;124;03m\"\"\"Run given validation on given model, and store the results.\u001b[39;00m\n\u001b[0;32m    190\u001b[0m \n\u001b[0;32m    191\u001b[0m \u001b[38;5;124;03mReturns\u001b[39;00m\n\u001b[0;32m    192\u001b[0m \u001b[38;5;124;03m-------\u001b[39;00m\n\u001b[0;32m    193\u001b[0m \u001b[38;5;124;03mA tuple of (dict of results: Results type, elapsed time in seconds)\u001b[39;00m\n\u001b[0;32m    194\u001b[0m \u001b[38;5;124;03m\"\"\"\u001b[39;00m\n\u001b[0;32m    195\u001b[0m start_time \u001b[38;5;241m=\u001b[39m time\u001b[38;5;241m.\u001b[39mtime()\n\u001b[1;32m--> 196\u001b[0m results \u001b[38;5;241m=\u001b[39m \u001b[43mvalidation\u001b[49m\u001b[43m(\u001b[49m\u001b[43mmodel\u001b[49m\u001b[43m,\u001b[49m\u001b[43m \u001b[49m\u001b[38;5;241;43m*\u001b[39;49m\u001b[38;5;241;43m*\u001b[39;49m\u001b[43mrun_params\u001b[49m\u001b[43m)\u001b[49m\n\u001b[0;32m    197\u001b[0m elapsed_secs \u001b[38;5;241m=\u001b[39m time\u001b[38;5;241m.\u001b[39mtime() \u001b[38;5;241m-\u001b[39m start_time\n\u001b[0;32m    198\u001b[0m \u001b[38;5;28;01mreturn\u001b[39;00m results, elapsed_secs\n",
      "File \u001b[1;32mc:\\Users\\Tony\\GlucoseML\\nocturnal-hypo-gly-prob-forecast\\.noctprob-venv\\Lib\\site-packages\\sktime\\benchmarking\\forecasting.py:90\u001b[0m, in \u001b[0;36mforecasting_validation\u001b[1;34m(dataset_loader, cv_splitter, scorers, estimator, backend, backend_params, strategy, error_score, **kwargs)\u001b[0m\n\u001b[0;32m     88\u001b[0m \u001b[38;5;28;01mif\u001b[39;00m \u001b[38;5;28misinstance\u001b[39m(y, \u001b[38;5;28mtuple\u001b[39m):\n\u001b[0;32m     89\u001b[0m     y, X \u001b[38;5;241m=\u001b[39m y\n\u001b[1;32m---> 90\u001b[0m     scores_df \u001b[38;5;241m=\u001b[39m \u001b[43mevaluate\u001b[49m\u001b[43m(\u001b[49m\n\u001b[0;32m     91\u001b[0m \u001b[43m        \u001b[49m\u001b[43mforecaster\u001b[49m\u001b[38;5;241;43m=\u001b[39;49m\u001b[43mestimator\u001b[49m\u001b[43m,\u001b[49m\n\u001b[0;32m     92\u001b[0m \u001b[43m        \u001b[49m\u001b[43my\u001b[49m\u001b[38;5;241;43m=\u001b[39;49m\u001b[43my\u001b[49m\u001b[43m,\u001b[49m\n\u001b[0;32m     93\u001b[0m \u001b[43m        \u001b[49m\u001b[43mX\u001b[49m\u001b[38;5;241;43m=\u001b[39;49m\u001b[43mX\u001b[49m\u001b[43m,\u001b[49m\n\u001b[0;32m     94\u001b[0m \u001b[43m        \u001b[49m\u001b[43mcv\u001b[49m\u001b[38;5;241;43m=\u001b[39;49m\u001b[43mcv_splitter\u001b[49m\u001b[43m,\u001b[49m\n\u001b[0;32m     95\u001b[0m \u001b[43m        \u001b[49m\u001b[43mscoring\u001b[49m\u001b[38;5;241;43m=\u001b[39;49m\u001b[43mscorers\u001b[49m\u001b[43m,\u001b[49m\n\u001b[0;32m     96\u001b[0m \u001b[43m        \u001b[49m\u001b[43mbackend\u001b[49m\u001b[38;5;241;43m=\u001b[39;49m\u001b[43mbackend\u001b[49m\u001b[43m,\u001b[49m\n\u001b[0;32m     97\u001b[0m \u001b[43m        \u001b[49m\u001b[43mbackend_params\u001b[49m\u001b[38;5;241;43m=\u001b[39;49m\u001b[43mbackend_params\u001b[49m\u001b[43m,\u001b[49m\n\u001b[0;32m     98\u001b[0m \u001b[43m        \u001b[49m\u001b[43merror_score\u001b[49m\u001b[38;5;241;43m=\u001b[39;49m\u001b[43merror_score\u001b[49m\u001b[43m,\u001b[49m\n\u001b[0;32m     99\u001b[0m \u001b[43m        \u001b[49m\u001b[43mstrategy\u001b[49m\u001b[38;5;241;43m=\u001b[39;49m\u001b[43mstrategy\u001b[49m\u001b[43m,\u001b[49m\n\u001b[0;32m    100\u001b[0m \u001b[43m    \u001b[49m\u001b[43m)\u001b[49m\n\u001b[0;32m    101\u001b[0m \u001b[38;5;28;01melse\u001b[39;00m:\n\u001b[0;32m    102\u001b[0m     scores_df \u001b[38;5;241m=\u001b[39m evaluate(\n\u001b[0;32m    103\u001b[0m         forecaster\u001b[38;5;241m=\u001b[39mestimator,\n\u001b[0;32m    104\u001b[0m         y\u001b[38;5;241m=\u001b[39my,\n\u001b[1;32m   (...)\u001b[0m\n\u001b[0;32m    110\u001b[0m         strategy\u001b[38;5;241m=\u001b[39mstrategy,\n\u001b[0;32m    111\u001b[0m     )\n",
      "File \u001b[1;32mc:\\Users\\Tony\\GlucoseML\\nocturnal-hypo-gly-prob-forecast\\.noctprob-venv\\Lib\\site-packages\\sktime\\forecasting\\model_evaluation\\_functions.py:647\u001b[0m, in \u001b[0;36mevaluate\u001b[1;34m(forecaster, cv, y, X, strategy, scoring, return_data, error_score, backend, cv_X, backend_params, return_model)\u001b[0m\n\u001b[0;32m    645\u001b[0m     \u001b[38;5;28;01melse\u001b[39;00m:\n\u001b[0;32m    646\u001b[0m         backend_in \u001b[38;5;241m=\u001b[39m backend\n\u001b[1;32m--> 647\u001b[0m     results \u001b[38;5;241m=\u001b[39m \u001b[43mparallelize\u001b[49m\u001b[43m(\u001b[49m\n\u001b[0;32m    648\u001b[0m \u001b[43m        \u001b[49m\u001b[43mfun\u001b[49m\u001b[38;5;241;43m=\u001b[39;49m\u001b[43m_evaluate_window\u001b[49m\u001b[43m,\u001b[49m\n\u001b[0;32m    649\u001b[0m \u001b[43m        \u001b[49m\u001b[38;5;28;43miter\u001b[39;49m\u001b[38;5;241;43m=\u001b[39;49m\u001b[38;5;28;43menumerate\u001b[39;49m\u001b[43m(\u001b[49m\u001b[43myx_splits\u001b[49m\u001b[43m)\u001b[49m\u001b[43m,\u001b[49m\n\u001b[0;32m    650\u001b[0m \u001b[43m        \u001b[49m\u001b[43mmeta\u001b[49m\u001b[38;5;241;43m=\u001b[39;49m\u001b[43m_evaluate_window_kwargs\u001b[49m\u001b[43m,\u001b[49m\n\u001b[0;32m    651\u001b[0m \u001b[43m        \u001b[49m\u001b[43mbackend\u001b[49m\u001b[38;5;241;43m=\u001b[39;49m\u001b[43mbackend_in\u001b[49m\u001b[43m,\u001b[49m\n\u001b[0;32m    652\u001b[0m \u001b[43m        \u001b[49m\u001b[43mbackend_params\u001b[49m\u001b[38;5;241;43m=\u001b[39;49m\u001b[43mbackend_params\u001b[49m\u001b[43m,\u001b[49m\n\u001b[0;32m    653\u001b[0m \u001b[43m    \u001b[49m\u001b[43m)\u001b[49m\n\u001b[0;32m    655\u001b[0m \u001b[38;5;66;03m# final formatting of dask dataframes\u001b[39;00m\n\u001b[0;32m    656\u001b[0m \u001b[38;5;28;01mif\u001b[39;00m backend \u001b[38;5;129;01min\u001b[39;00m [\u001b[38;5;124m\"\u001b[39m\u001b[38;5;124mdask\u001b[39m\u001b[38;5;124m\"\u001b[39m, \u001b[38;5;124m\"\u001b[39m\u001b[38;5;124mdask_lazy\u001b[39m\u001b[38;5;124m\"\u001b[39m] \u001b[38;5;129;01mand\u001b[39;00m \u001b[38;5;129;01mnot\u001b[39;00m not_parallel:\n",
      "File \u001b[1;32mc:\\Users\\Tony\\GlucoseML\\nocturnal-hypo-gly-prob-forecast\\.noctprob-venv\\Lib\\site-packages\\sktime\\utils\\parallel.py:72\u001b[0m, in \u001b[0;36mparallelize\u001b[1;34m(fun, iter, meta, backend, backend_params)\u001b[0m\n\u001b[0;32m     69\u001b[0m backend_name \u001b[38;5;241m=\u001b[39m backend_dict[backend]\n\u001b[0;32m     70\u001b[0m para_fun \u001b[38;5;241m=\u001b[39m para_dict[backend_name]\n\u001b[1;32m---> 72\u001b[0m ret \u001b[38;5;241m=\u001b[39m \u001b[43mpara_fun\u001b[49m\u001b[43m(\u001b[49m\n\u001b[0;32m     73\u001b[0m \u001b[43m    \u001b[49m\u001b[43mfun\u001b[49m\u001b[38;5;241;43m=\u001b[39;49m\u001b[43mfun\u001b[49m\u001b[43m,\u001b[49m\u001b[43m \u001b[49m\u001b[38;5;28;43miter\u001b[39;49m\u001b[38;5;241;43m=\u001b[39;49m\u001b[38;5;28;43miter\u001b[39;49m\u001b[43m,\u001b[49m\u001b[43m \u001b[49m\u001b[43mmeta\u001b[49m\u001b[38;5;241;43m=\u001b[39;49m\u001b[43mmeta\u001b[49m\u001b[43m,\u001b[49m\u001b[43m \u001b[49m\u001b[43mbackend\u001b[49m\u001b[38;5;241;43m=\u001b[39;49m\u001b[43mbackend\u001b[49m\u001b[43m,\u001b[49m\u001b[43m \u001b[49m\u001b[43mbackend_params\u001b[49m\u001b[38;5;241;43m=\u001b[39;49m\u001b[43mbackend_params\u001b[49m\n\u001b[0;32m     74\u001b[0m \u001b[43m\u001b[49m\u001b[43m)\u001b[49m\n\u001b[0;32m     75\u001b[0m \u001b[38;5;28;01mreturn\u001b[39;00m ret\n",
      "File \u001b[1;32mc:\\Users\\Tony\\GlucoseML\\nocturnal-hypo-gly-prob-forecast\\.noctprob-venv\\Lib\\site-packages\\sktime\\utils\\parallel.py:131\u001b[0m, in \u001b[0;36m_parallelize_joblib\u001b[1;34m(fun, iter, meta, backend, backend_params)\u001b[0m\n\u001b[0;32m    128\u001b[0m \u001b[38;5;28;01mif\u001b[39;00m \u001b[38;5;124m\"\u001b[39m\u001b[38;5;124mn_jobs\u001b[39m\u001b[38;5;124m\"\u001b[39m \u001b[38;5;129;01mnot\u001b[39;00m \u001b[38;5;129;01min\u001b[39;00m par_params:\n\u001b[0;32m    129\u001b[0m     par_params[\u001b[38;5;124m\"\u001b[39m\u001b[38;5;124mn_jobs\u001b[39m\u001b[38;5;124m\"\u001b[39m] \u001b[38;5;241m=\u001b[39m \u001b[38;5;241m-\u001b[39m\u001b[38;5;241m1\u001b[39m\n\u001b[1;32m--> 131\u001b[0m ret \u001b[38;5;241m=\u001b[39m \u001b[43mParallel\u001b[49m\u001b[43m(\u001b[49m\u001b[38;5;241;43m*\u001b[39;49m\u001b[38;5;241;43m*\u001b[39;49m\u001b[43mpar_params\u001b[49m\u001b[43m)\u001b[49m\u001b[43m(\u001b[49m\u001b[43mdelayed\u001b[49m\u001b[43m(\u001b[49m\u001b[43mfun\u001b[49m\u001b[43m)\u001b[49m\u001b[43m(\u001b[49m\u001b[43mx\u001b[49m\u001b[43m,\u001b[49m\u001b[43m \u001b[49m\u001b[43mmeta\u001b[49m\u001b[38;5;241;43m=\u001b[39;49m\u001b[43mmeta\u001b[49m\u001b[43m)\u001b[49m\u001b[43m \u001b[49m\u001b[38;5;28;43;01mfor\u001b[39;49;00m\u001b[43m \u001b[49m\u001b[43mx\u001b[49m\u001b[43m \u001b[49m\u001b[38;5;129;43;01min\u001b[39;49;00m\u001b[43m \u001b[49m\u001b[38;5;28;43miter\u001b[39;49m\u001b[43m)\u001b[49m\n\u001b[0;32m    132\u001b[0m \u001b[38;5;28;01mreturn\u001b[39;00m ret\n",
      "File \u001b[1;32mc:\\Users\\Tony\\GlucoseML\\nocturnal-hypo-gly-prob-forecast\\.noctprob-venv\\Lib\\site-packages\\joblib\\parallel.py:2007\u001b[0m, in \u001b[0;36mParallel.__call__\u001b[1;34m(self, iterable)\u001b[0m\n\u001b[0;32m   2001\u001b[0m \u001b[38;5;66;03m# The first item from the output is blank, but it makes the interpreter\u001b[39;00m\n\u001b[0;32m   2002\u001b[0m \u001b[38;5;66;03m# progress until it enters the Try/Except block of the generator and\u001b[39;00m\n\u001b[0;32m   2003\u001b[0m \u001b[38;5;66;03m# reaches the first `yield` statement. This starts the asynchronous\u001b[39;00m\n\u001b[0;32m   2004\u001b[0m \u001b[38;5;66;03m# dispatch of the tasks to the workers.\u001b[39;00m\n\u001b[0;32m   2005\u001b[0m \u001b[38;5;28mnext\u001b[39m(output)\n\u001b[1;32m-> 2007\u001b[0m \u001b[38;5;28;01mreturn\u001b[39;00m output \u001b[38;5;28;01mif\u001b[39;00m \u001b[38;5;28mself\u001b[39m\u001b[38;5;241m.\u001b[39mreturn_generator \u001b[38;5;28;01melse\u001b[39;00m \u001b[38;5;28;43mlist\u001b[39;49m\u001b[43m(\u001b[49m\u001b[43moutput\u001b[49m\u001b[43m)\u001b[49m\n",
      "File \u001b[1;32mc:\\Users\\Tony\\GlucoseML\\nocturnal-hypo-gly-prob-forecast\\.noctprob-venv\\Lib\\site-packages\\joblib\\parallel.py:1650\u001b[0m, in \u001b[0;36mParallel._get_outputs\u001b[1;34m(self, iterator, pre_dispatch)\u001b[0m\n\u001b[0;32m   1647\u001b[0m     \u001b[38;5;28;01myield\u001b[39;00m\n\u001b[0;32m   1649\u001b[0m     \u001b[38;5;28;01mwith\u001b[39;00m \u001b[38;5;28mself\u001b[39m\u001b[38;5;241m.\u001b[39m_backend\u001b[38;5;241m.\u001b[39mretrieval_context():\n\u001b[1;32m-> 1650\u001b[0m         \u001b[38;5;28;01myield from\u001b[39;00m \u001b[38;5;28mself\u001b[39m\u001b[38;5;241m.\u001b[39m_retrieve()\n\u001b[0;32m   1652\u001b[0m \u001b[38;5;28;01mexcept\u001b[39;00m \u001b[38;5;167;01mGeneratorExit\u001b[39;00m:\n\u001b[0;32m   1653\u001b[0m     \u001b[38;5;66;03m# The generator has been garbage collected before being fully\u001b[39;00m\n\u001b[0;32m   1654\u001b[0m     \u001b[38;5;66;03m# consumed. This aborts the remaining tasks if possible and warn\u001b[39;00m\n\u001b[0;32m   1655\u001b[0m     \u001b[38;5;66;03m# the user if necessary.\u001b[39;00m\n\u001b[0;32m   1656\u001b[0m     \u001b[38;5;28mself\u001b[39m\u001b[38;5;241m.\u001b[39m_exception \u001b[38;5;241m=\u001b[39m \u001b[38;5;28;01mTrue\u001b[39;00m\n",
      "File \u001b[1;32mc:\\Users\\Tony\\GlucoseML\\nocturnal-hypo-gly-prob-forecast\\.noctprob-venv\\Lib\\site-packages\\joblib\\parallel.py:1754\u001b[0m, in \u001b[0;36mParallel._retrieve\u001b[1;34m(self)\u001b[0m\n\u001b[0;32m   1747\u001b[0m \u001b[38;5;28;01mwhile\u001b[39;00m \u001b[38;5;28mself\u001b[39m\u001b[38;5;241m.\u001b[39m_wait_retrieval():\n\u001b[0;32m   1748\u001b[0m \n\u001b[0;32m   1749\u001b[0m     \u001b[38;5;66;03m# If the callback thread of a worker has signaled that its task\u001b[39;00m\n\u001b[0;32m   1750\u001b[0m     \u001b[38;5;66;03m# triggered an exception, or if the retrieval loop has raised an\u001b[39;00m\n\u001b[0;32m   1751\u001b[0m     \u001b[38;5;66;03m# exception (e.g. `GeneratorExit`), exit the loop and surface the\u001b[39;00m\n\u001b[0;32m   1752\u001b[0m     \u001b[38;5;66;03m# worker traceback.\u001b[39;00m\n\u001b[0;32m   1753\u001b[0m     \u001b[38;5;28;01mif\u001b[39;00m \u001b[38;5;28mself\u001b[39m\u001b[38;5;241m.\u001b[39m_aborting:\n\u001b[1;32m-> 1754\u001b[0m         \u001b[38;5;28;43mself\u001b[39;49m\u001b[38;5;241;43m.\u001b[39;49m\u001b[43m_raise_error_fast\u001b[49m\u001b[43m(\u001b[49m\u001b[43m)\u001b[49m\n\u001b[0;32m   1755\u001b[0m         \u001b[38;5;28;01mbreak\u001b[39;00m\n\u001b[0;32m   1757\u001b[0m     \u001b[38;5;66;03m# If the next job is not ready for retrieval yet, we just wait for\u001b[39;00m\n\u001b[0;32m   1758\u001b[0m     \u001b[38;5;66;03m# async callbacks to progress.\u001b[39;00m\n",
      "File \u001b[1;32mc:\\Users\\Tony\\GlucoseML\\nocturnal-hypo-gly-prob-forecast\\.noctprob-venv\\Lib\\site-packages\\joblib\\parallel.py:1789\u001b[0m, in \u001b[0;36mParallel._raise_error_fast\u001b[1;34m(self)\u001b[0m\n\u001b[0;32m   1785\u001b[0m \u001b[38;5;66;03m# If this error job exists, immediately raise the error by\u001b[39;00m\n\u001b[0;32m   1786\u001b[0m \u001b[38;5;66;03m# calling get_result. This job might not exists if abort has been\u001b[39;00m\n\u001b[0;32m   1787\u001b[0m \u001b[38;5;66;03m# called directly or if the generator is gc'ed.\u001b[39;00m\n\u001b[0;32m   1788\u001b[0m \u001b[38;5;28;01mif\u001b[39;00m error_job \u001b[38;5;129;01mis\u001b[39;00m \u001b[38;5;129;01mnot\u001b[39;00m \u001b[38;5;28;01mNone\u001b[39;00m:\n\u001b[1;32m-> 1789\u001b[0m     \u001b[43merror_job\u001b[49m\u001b[38;5;241;43m.\u001b[39;49m\u001b[43mget_result\u001b[49m\u001b[43m(\u001b[49m\u001b[38;5;28;43mself\u001b[39;49m\u001b[38;5;241;43m.\u001b[39;49m\u001b[43mtimeout\u001b[49m\u001b[43m)\u001b[49m\n",
      "File \u001b[1;32mc:\\Users\\Tony\\GlucoseML\\nocturnal-hypo-gly-prob-forecast\\.noctprob-venv\\Lib\\site-packages\\joblib\\parallel.py:745\u001b[0m, in \u001b[0;36mBatchCompletionCallBack.get_result\u001b[1;34m(self, timeout)\u001b[0m\n\u001b[0;32m    739\u001b[0m backend \u001b[38;5;241m=\u001b[39m \u001b[38;5;28mself\u001b[39m\u001b[38;5;241m.\u001b[39mparallel\u001b[38;5;241m.\u001b[39m_backend\n\u001b[0;32m    741\u001b[0m \u001b[38;5;28;01mif\u001b[39;00m backend\u001b[38;5;241m.\u001b[39msupports_retrieve_callback:\n\u001b[0;32m    742\u001b[0m     \u001b[38;5;66;03m# We assume that the result has already been retrieved by the\u001b[39;00m\n\u001b[0;32m    743\u001b[0m     \u001b[38;5;66;03m# callback thread, and is stored internally. It's just waiting to\u001b[39;00m\n\u001b[0;32m    744\u001b[0m     \u001b[38;5;66;03m# be returned.\u001b[39;00m\n\u001b[1;32m--> 745\u001b[0m     \u001b[38;5;28;01mreturn\u001b[39;00m \u001b[38;5;28;43mself\u001b[39;49m\u001b[38;5;241;43m.\u001b[39;49m\u001b[43m_return_or_raise\u001b[49m\u001b[43m(\u001b[49m\u001b[43m)\u001b[49m\n\u001b[0;32m    747\u001b[0m \u001b[38;5;66;03m# For other backends, the main thread needs to run the retrieval step.\u001b[39;00m\n\u001b[0;32m    748\u001b[0m \u001b[38;5;28;01mtry\u001b[39;00m:\n",
      "File \u001b[1;32mc:\\Users\\Tony\\GlucoseML\\nocturnal-hypo-gly-prob-forecast\\.noctprob-venv\\Lib\\site-packages\\joblib\\parallel.py:763\u001b[0m, in \u001b[0;36mBatchCompletionCallBack._return_or_raise\u001b[1;34m(self)\u001b[0m\n\u001b[0;32m    761\u001b[0m \u001b[38;5;28;01mtry\u001b[39;00m:\n\u001b[0;32m    762\u001b[0m     \u001b[38;5;28;01mif\u001b[39;00m \u001b[38;5;28mself\u001b[39m\u001b[38;5;241m.\u001b[39mstatus \u001b[38;5;241m==\u001b[39m TASK_ERROR:\n\u001b[1;32m--> 763\u001b[0m         \u001b[38;5;28;01mraise\u001b[39;00m \u001b[38;5;28mself\u001b[39m\u001b[38;5;241m.\u001b[39m_result\n\u001b[0;32m    764\u001b[0m     \u001b[38;5;28;01mreturn\u001b[39;00m \u001b[38;5;28mself\u001b[39m\u001b[38;5;241m.\u001b[39m_result\n\u001b[0;32m    765\u001b[0m \u001b[38;5;28;01mfinally\u001b[39;00m:\n",
      "\u001b[1;31mException\u001b[0m: no model able to be fitted"
     ]
    }
   ],
   "source": [
    "import pandas as pd\n",
    "import os\n",
    "\n",
    "## Change your yaml path here\n",
    "yaml_path = \"../../src/tuning/configs/1_exponential_smooth_15min.yaml\"\n",
    "\n",
    "estimators = generate_estimators_from_param_grid(yaml_path)\n",
    "for estimator, estimator_id in estimators:\n",
    "    benchmark.add_estimator(estimator=estimator, estimator_id=estimator_id)\n",
    "\n",
    "# Needs to add the datetime to make the file name unique\n",
    "# so when you run benchmark.run, it doesn't see the file as cached result and not rerun\n",
    "current_time = pd.Timestamp.now().strftime(\"%Y-%m-%d_%H-%M-%S\")\n",
    "yaml_name = yaml_path.split(\"/\")[-1].replace(\".yaml\", \"\")\n",
    "\n",
    "os.makedirs(\"./results/param_tests\", exist_ok=True)\n",
    "timestamp = datetime.now().strftime(\"%Y%m%d_%H%M%S\")\n",
    "results_file = f\"./results/param_tests/{current_time}_results_{yaml_name}.csv\"\n",
    "benchmark.run(results_file)\n",
    "\n",
    "# If there is a file created, then it is probably good enough\n",
    "if not os.path.exists(results_file):\n",
    "    raise FileNotFoundError(f\"Results file {results_file} was not created\")\n",
    "else:\n",
    "    print(f\"Passed: Results file {results_file} was created\")"
   ]
  }
 ],
 "metadata": {
  "kernelspec": {
   "display_name": ".noctprob-venv",
   "language": "python",
   "name": "python3"
  },
  "language_info": {
   "codemirror_mode": {
    "name": "ipython",
    "version": 3
   },
   "file_extension": ".py",
   "mimetype": "text/x-python",
   "name": "python",
   "nbconvert_exporter": "python",
   "pygments_lexer": "ipython3",
   "version": "3.12.3"
  }
 },
 "nbformat": 4,
 "nbformat_minor": 5
}
