{
 "cells": [
  {
   "cell_type": "markdown",
   "metadata": {},
   "source": [
    "# Probabilistic Forecasting with `sktime`: Distribution Forecast\n",
    "\n",
    "## Notebook Goal: \n",
    "* Provide an example workflow of a distribution forecast with BGL data using sktime.\n",
    "* Demonstrate how to use Optuna for a single forecasting type."
   ]
  },
  {
   "cell_type": "code",
   "execution_count": 1,
   "metadata": {},
   "outputs": [],
   "source": [
    "%load_ext autoreload\n",
    "%autoreload 2"
   ]
  },
  {
   "cell_type": "markdown",
   "metadata": {},
   "source": [
    "## Data Load"
   ]
  },
  {
   "cell_type": "code",
   "execution_count": 3,
   "metadata": {},
   "outputs": [
    {
     "name": "stdout",
     "output_type": "stream",
     "text": [
      "      id p_num      time  bg-0:00  insulin-0:00  carbs-0:00  hr-0:00  \\\n",
      "0  p01_0   p01  06:10:00     15.1        0.0417         NaN      NaN   \n",
      "1  p01_1   p01  06:25:00     14.4        0.0417         NaN      NaN   \n",
      "2  p01_2   p01  06:40:00     13.9        0.0417         NaN      NaN   \n",
      "3  p01_3   p01  06:55:00     13.8        0.0417         NaN      NaN   \n",
      "4  p01_4   p01  07:10:00     13.4        0.0417         NaN      NaN   \n",
      "\n",
      "   steps-0:00  cals-0:00 activity-0:00  \n",
      "0         NaN        NaN           NaN  \n",
      "1         NaN        NaN           NaN  \n",
      "2         NaN        NaN           NaN  \n",
      "3         NaN        NaN           NaN  \n",
      "4         NaN        NaN           NaN  \n"
     ]
    },
    {
     "name": "stderr",
     "output_type": "stream",
     "text": [
      "/home/cjrisi/Projects/diabetes/nocturnal-hypo-gly-prob-forecast/src/data/data_loader.py:26: DtypeWarning: Columns (506) have mixed types. Specify dtype option on import or set low_memory=False.\n",
      "  return pd.read_csv(file_path, usecols=keep_columns)\n"
     ]
    }
   ],
   "source": [
    "from src.data.data_loader import load_data\n",
    "\n",
    "# Specify the columns to keep\n",
    "keep_columns = [\n",
    "    \"id\",\n",
    "    \"p_num\",\n",
    "    \"time\",\n",
    "    \"bg-0:00\",\n",
    "    \"insulin-0:00\",\n",
    "    \"carbs-0:00\",\n",
    "    \"hr-0:00\",\n",
    "    \"steps-0:00\",\n",
    "    \"cals-0:00\",\n",
    "    \"activity-0:00\",\n",
    "]\n",
    "\n",
    "# Load the data with specified columns\n",
    "df = load_data(\n",
    "    data_source_name=\"kaggle_brisT1D\", dataset_type=\"train\", keep_columns=keep_columns\n",
    ")\n",
    "\n",
    "# Print the first 5 rows of the data\n",
    "print(df.head())"
   ]
  },
  {
   "cell_type": "code",
   "execution_count": 4,
   "metadata": {},
   "outputs": [
    {
     "name": "stderr",
     "output_type": "stream",
     "text": [
      "/home/cjrisi/Projects/diabetes/nocturnal-hypo-gly-prob-forecast/.noctprob-venv/lib/python3.12/site-packages/gluonts/json.py:102: UserWarning: Using `json`-module for json-handling. Consider installing one of `orjson`, `ujson` to speed up serialization and deserialization.\n",
      "  warnings.warn(\n"
     ]
    },
    {
     "data": {
      "text/html": [
       "<div>\n",
       "<style scoped>\n",
       "    .dataframe tbody tr th:only-of-type {\n",
       "        vertical-align: middle;\n",
       "    }\n",
       "\n",
       "    .dataframe tbody tr th {\n",
       "        vertical-align: top;\n",
       "    }\n",
       "\n",
       "    .dataframe thead tr th {\n",
       "        text-align: left;\n",
       "    }\n",
       "</style>\n",
       "<table border=\"1\" class=\"dataframe\">\n",
       "  <thead>\n",
       "    <tr>\n",
       "      <th></th>\n",
       "      <th colspan=\"2\" halign=\"left\">bg-0:00</th>\n",
       "    </tr>\n",
       "    <tr>\n",
       "      <th></th>\n",
       "      <th colspan=\"2\" halign=\"left\">0.9</th>\n",
       "    </tr>\n",
       "    <tr>\n",
       "      <th></th>\n",
       "      <th>lower</th>\n",
       "      <th>upper</th>\n",
       "    </tr>\n",
       "  </thead>\n",
       "  <tbody>\n",
       "    <tr>\n",
       "      <th>177024</th>\n",
       "      <td>10.782319</td>\n",
       "      <td>12.334859</td>\n",
       "    </tr>\n",
       "    <tr>\n",
       "      <th>177025</th>\n",
       "      <td>10.426719</td>\n",
       "      <td>12.608672</td>\n",
       "    </tr>\n",
       "    <tr>\n",
       "      <th>177026</th>\n",
       "      <td>10.149430</td>\n",
       "      <td>12.805196</td>\n",
       "    </tr>\n",
       "  </tbody>\n",
       "</table>\n",
       "</div>"
      ],
      "text/plain": [
       "          bg-0:00           \n",
       "              0.9           \n",
       "            lower      upper\n",
       "177024  10.782319  12.334859\n",
       "177025  10.426719  12.608672\n",
       "177026  10.149430  12.805196"
      ]
     },
     "execution_count": 4,
     "metadata": {},
     "output_type": "execute_result"
    }
   ],
   "source": [
    "from sktime.forecasting.arima import ARIMA\n",
    "\n",
    "# step 1: data specification\n",
    "y = df[\"bg-0:00\"]\n",
    "# step 2: specifying forecasting horizon\n",
    "fh = [1, 2, 3]\n",
    "# step 3: specifying the forecasting algorithm\n",
    "forecaster = ARIMA()\n",
    "# step 4: fitting the forecaster\n",
    "forecaster.fit(y, fh=[1, 2, 3])\n",
    "# step 5: querying predictions\n",
    "y_pred = forecaster.predict()\n",
    "\n",
    "# for probabilistic forecasting:\n",
    "#   call a probabilistic forecasting method after or instead of step 5\n",
    "y_pred_int = forecaster.predict_interval(coverage=0.9)\n",
    "y_pred_int"
   ]
  },
  {
   "cell_type": "code",
   "execution_count": null,
   "metadata": {},
   "outputs": [],
   "source": [
    "import warnings\n",
    "\n",
    "warnings.simplefilter(action=\"ignore\", category=FutureWarning)"
   ]
  }
 ],
 "metadata": {
  "kernelspec": {
   "display_name": ".noctprob-venv",
   "language": "python",
   "name": "python3"
  },
  "language_info": {
   "codemirror_mode": {
    "name": "ipython",
    "version": 3
   },
   "file_extension": ".py",
   "mimetype": "text/x-python",
   "name": "python",
   "nbconvert_exporter": "python",
   "pygments_lexer": "ipython3",
   "version": "3.12.3"
  }
 },
 "nbformat": 4,
 "nbformat_minor": 2
}
