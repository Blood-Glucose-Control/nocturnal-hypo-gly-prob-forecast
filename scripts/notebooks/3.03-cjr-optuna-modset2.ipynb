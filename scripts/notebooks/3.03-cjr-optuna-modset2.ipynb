{
 "cells": [
  {
   "cell_type": "markdown",
   "metadata": {},
   "source": [
    "# Forecasting Optuna Search CV \n",
    "## Modulus Set 2\n",
    "\n",
    "**Notebook Goal**\n",
    "- A modeling pipeline that optimizes the hyperparameters of the sktime forecasters that have the [capavility:pred_int tag](https://www.sktime.net/en/stable/examples/01b_forecasting_proba.html) \n",
    "- This notebook will focus on the ones where `i mod 4 = 2` wher `i` is the index of the registry table in the above link.\n",
    "- The work will be based on this documentation: [ForecastingOptunaSearchCV](https://www.sktime.net/en/stable/api_reference/auto_generated/sktime.forecasting.model_selection.ForecastingOptunaSearchCV.html)"
   ]
  }
 ],
 "metadata": {
  "language_info": {
   "name": "python"
  }
 },
 "nbformat": 4,
 "nbformat_minor": 2
}
