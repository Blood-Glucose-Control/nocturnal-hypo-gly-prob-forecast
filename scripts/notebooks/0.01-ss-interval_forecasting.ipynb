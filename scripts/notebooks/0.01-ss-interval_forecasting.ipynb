{
 "cells": [
  {
   "cell_type": "code",
   "execution_count": null,
   "metadata": {},
   "outputs": [],
   "source": [
    "# imports\n",
    "import pandas as pd\n",
    "import numpy as np\n",
    "\n",
    "from sktime.datasets import load_airline\n",
    "from sktime.utils.plotting import plot_series\n",
    "from sktime.forecasting.naive import NaiveForecaster"
   ]
  },
  {
   "cell_type": "code",
   "execution_count": null,
   "metadata": {},
   "outputs": [],
   "source": [
    "# step 1: data specification\n",
    "y = load_airline()\n",
    "\n",
    "print(y.head())\n",
    "plot_series(y)"
   ]
  },
  {
   "cell_type": "code",
   "execution_count": null,
   "metadata": {},
   "outputs": [],
   "source": [
    "# step 2: specify the forecasting horizon\n",
    "\n",
    "from sktime.forecasting.base import ForecastingHorizon\n",
    "\n",
    "print(y.tail())  # last date in data is 1960-12\n",
    "fh = ForecastingHorizon(\n",
    "    # forecast next 12 months from last date in data\n",
    "    pd.PeriodIndex(pd.date_range(\"1961-01\", periods=12, freq=\"M\")),\n",
    "    is_relative=False,\n",
    ")"
   ]
  },
  {
   "cell_type": "code",
   "execution_count": null,
   "metadata": {},
   "outputs": [],
   "source": [
    "# step 3: specifying the forecasting algorithm\n",
    "\n",
    "# sp=12: Indicates the data has yearly seasonality with 12 time steps per season (e.g., monthly data where patterns repeat every year).\n",
    "# strategy=\"last\": Predict future values using the last observed value for each season (e.g., 1961-01 = 1960-01, Jan 2024 = Jan 2023)\n",
    "forecaster = NaiveForecaster(strategy=\"last\", sp=12)"
   ]
  },
  {
   "cell_type": "code",
   "execution_count": null,
   "metadata": {},
   "outputs": [],
   "source": [
    "# step 4: fit the forecaster\n",
    "\n",
    "# Exogeneous time series should always be passed as pandas.DataFrames\n",
    "X_fit = pd.DataFrame(index=y.index)\n",
    "\n",
    "# X represents exogenous data (e.g., advertising spend), not forecasted itself,\n",
    "# but used to improve the forecast of y (the target variable).\n",
    "# Pass X in fit() to teach the model how X influences y,\n",
    "# and in predict() to provide future values of X for making predictions.\n",
    "# Multivariate forecasting differs by treating all variables as targets.\n",
    "forecaster.fit(y, X=X_fit, fh=fh)"
   ]
  },
  {
   "cell_type": "code",
   "execution_count": null,
   "metadata": {},
   "outputs": [],
   "source": [
    "# step 5: querying predictions\n",
    "\n",
    "# Time indices of X passed to predict are a super-set of time indices in fh\n",
    "\n",
    "X_predict = pd.DataFrame(index=fh.to_absolute_index())\n",
    "y_pred = forecaster.predict(X=X_predict)\n",
    "plot_series(y, y_pred, labels=[\"y\", \"y_pred\"])"
   ]
  },
  {
   "cell_type": "code",
   "execution_count": null,
   "metadata": {},
   "outputs": [],
   "source": [
    "from sktime.datasets import load_airline\n",
    "from sktime.forecasting.theta import ThetaForecaster\n",
    "\n",
    "# step 1: data specification\n",
    "y = load_airline()\n",
    "# step 2: specifying forecasting horizon\n",
    "fh = ForecastingHorizon(np.arange(1, 13), is_relative=True)  # forecast next 12 months\n",
    "# step 3: specifying the forecasting algorithm\n",
    "forecaster = ThetaForecaster(sp=12)\n",
    "# step 4: fitting the forecaster\n",
    "forecaster.fit(y, fh=fh)\n",
    "# step 5: call a probabilistic forecasting method\n",
    "\n",
    "# Coverage refers to the probability that the true value lies within the predicted interval.\n",
    "# Higher coverage = wider intervals, less informative but more certainty\n",
    "# Smaller coverage = narrower intervals, more informative but less certainty.\n",
    "y_pred_int = forecaster.predict_interval(coverage=0.9)\n",
    "y_pred_int"
   ]
  },
  {
   "cell_type": "code",
   "execution_count": null,
   "metadata": {},
   "outputs": [],
   "source": [
    "from sktime.registry import all_estimators\n",
    "\n",
    "# estimators that support probabilistic forecasting\n",
    "estimators = all_estimators(\n",
    "    \"forecaster\", filter_tags={\"capability:pred_int\": True}, as_dataframe=True\n",
    ")\n",
    "estimators"
   ]
  },
  {
   "cell_type": "code",
   "execution_count": null,
   "metadata": {},
   "outputs": [],
   "source": [
    "y_pred = forecaster.predict()\n",
    "\n",
    "fig, ax = plot_series(y, y_pred, labels=[\"y\", \"y_pred\"], pred_interval=y_pred_int)\n",
    "\n",
    "ax.legend()"
   ]
  },
  {
   "cell_type": "code",
   "execution_count": null,
   "metadata": {},
   "outputs": [],
   "source": [
    "# Higher coverage = wider intervals, less informative but more certainty\n",
    "# Smaller coverage = narrower intervals, more informative but less certainty.\n",
    "\n",
    "coverage = [0.5, 0.9, 0.95]\n",
    "y_pred_ints = forecaster.predict_interval(coverage=coverage)\n",
    "y_pred_ints"
   ]
  },
  {
   "cell_type": "code",
   "execution_count": null,
   "metadata": {},
   "outputs": [],
   "source": [
    "columns = [y_pred_ints[i] for i in y_pred_ints.columns]\n",
    "fig, ax = plot_series(y[-50:], *columns)"
   ]
  },
  {
   "cell_type": "code",
   "execution_count": null,
   "metadata": {},
   "outputs": [],
   "source": [
    "# Example using PinballLoss evaluation metric\n",
    "# Pinball Loss evaluates how well predicted quantiles or intervals capture true values.\n",
    "# It penalizes over-predictions and under-predictions differently, weighted by quantile level or interval coverage.\n",
    "# Supports both predict_quantiles() (specific percentiles) and predict_interval() (ranges at desired coverage).\n",
    "\n",
    "from sktime.performance_metrics.forecasting.probabilistic import PinballLoss\n",
    "\n",
    "pinball_loss = PinballLoss()\n",
    "\n",
    "y_train = load_airline()[0:24]  # train on 24 months, 1949 and 1950\n",
    "y_test = load_airline()[24:36]  # ground truth for 12 months in 1951\n",
    "\n",
    "# try to forecast 12 months ahead, from y_train\n",
    "fh = np.arange(1, 13)\n",
    "\n",
    "forecaster = ThetaForecaster(sp=12)\n",
    "forecaster.fit(y_train, fh=fh)\n",
    "\n",
    "pred_intervals = forecaster.predict_interval(coverage=[0.5, 0.9, 0.95])\n",
    "\n",
    "# Aggregated pinball loss for all intervals\n",
    "print(pinball_loss(y_true=y_test, y_pred=pred_intervals))\n",
    "# Detailed pinball loss for each time step in the forecasting horizon\n",
    "print(pinball_loss.evaluate_by_index(y_true=y_test, y_pred=pred_intervals))"
   ]
  }
 ],
 "metadata": {
  "language_info": {
   "name": "python"
  }
 },
 "nbformat": 4,
 "nbformat_minor": 2
}
