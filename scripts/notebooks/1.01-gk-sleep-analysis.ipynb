{
 "cells": [
  {
   "cell_type": "code",
   "execution_count": null,
   "metadata": {},
   "outputs": [],
   "source": [
    "from src.data.data_loader import load_data\n",
    "from src.data.data_cleaner import clean_data\n",
    "import pandas as pd\n",
    "import numpy as np\n",
    "import datetime\n",
    "from datetime import datetime  # noqa: F811"
   ]
  },
  {
   "cell_type": "code",
   "execution_count": 64,
   "metadata": {},
   "outputs": [
    {
     "name": "stderr",
     "output_type": "stream",
     "text": [
      "C:\\Uni Stuff\\WAT.ai\\repo_forks\\teams\\nocturnal-hypo-gly-prob-forecast\\src\\data\\data_loader.py:32: DtypeWarning: Columns (435,436,437,438,439,440,441,442,443,444,445,446,447,448,449,450,451,452,453,454,455,456,457,458,459,460,461,462,463,464,465,466,467,468,469,470,471,472,473,474,475,476,477,478,479,480,481,482,483,484,485,486,487,488,489,490,491,492,493,494,495,496,497,498,499,500,501,502,503,504,505,506) have mixed types. Specify dtype option on import or set low_memory=False.\n",
      "  return pd.read_csv(file_path, usecols=keep_columns)\n"
     ]
    }
   ],
   "source": [
    "data = clean_data(data=load_data(), data_source_name=\"kaggle_brisT1D\")"
   ]
  },
  {
   "cell_type": "code",
   "execution_count": null,
   "metadata": {},
   "outputs": [
    {
     "data": {
      "text/plain": [
       "1.0"
      ]
     },
     "execution_count": 70,
     "metadata": {},
     "output_type": "execute_result"
    }
   ],
   "source": [
    "def calculate_physiological_sleep_score(row: pd.Series) -> float:\n",
    "    \"\"\"\n",
    "    Calculates sleep probability based purely on physiological indicators,\n",
    "    without making assumptions about normal sleep times\n",
    "    \"\"\"\n",
    "    # Get current values\n",
    "    hr = row[\"hr-0:00\"]\n",
    "    steps = row[\"steps-0:00\"]\n",
    "    cals = row[\"cals-0:00\"]\n",
    "\n",
    "    # Calculate individual indicator scores\n",
    "\n",
    "    # hr\n",
    "    # look for relatively low heart rate compared to typical range (about 25% less)\n",
    "    hr_score = np.exp(-hr / 40)  # Exponential decay, stronger response to low HR\n",
    "\n",
    "    # steps\n",
    "    # 0 steps is a very strong sleep indicator\n",
    "    steps_score = 1.0 if steps == 0 else np.exp(-steps / 10)\n",
    "\n",
    "    # cals\n",
    "    # low cal bur rate suggests sleep\n",
    "    # less weight as it's less reliable\n",
    "    cal_score = np.exp(-cals / 40)\n",
    "\n",
    "    # weight sum of scores based on reliability\n",
    "    combined_score = 0.6 * steps_score + 0.3 * hr_score + 0.1 * cal_score\n",
    "\n",
    "    return np.clip(combined_score, 0, 1)\n",
    "\n",
    "\n",
    "def detect_sleep_clusters(data: pd.DataFrame, patient_id: int) -> dict:\n",
    "    \"\"\"\n",
    "    Analyzes a patient's data to find their typical rest periods,\n",
    "    without assuming specific sleep times\n",
    "    \"\"\"\n",
    "    patient_data = data[data[\"p_num\"] == patient_id].copy()\n",
    "\n",
    "    # group data by hour to find typical rest periods\n",
    "    patient_data[\"hour\"] = pd.to_datetime(patient_data[\"time\"]).dt.hour\n",
    "\n",
    "    # calculate average activity levels by hour\n",
    "    hourly_stats = patient_data.groupby(\"hour\").agg(\n",
    "        {\"steps-0:00\": \"mean\", \"hr-0:00\": \"mean\", \"cals-0:00\": \"mean\"}\n",
    "    )\n",
    "\n",
    "    return hourly_stats\n",
    "\n",
    "\n",
    "def calculate_sleep_probability(row: pd.Series, patient_patterns: dict = None) -> float:\n",
    "    \"\"\"\n",
    "    Calculates final sleep probability using both physiological indicators\n",
    "    and learned patient patterns (if available)\n",
    "    \"\"\"\n",
    "    # calculate probability from physiological indicators\n",
    "    phys_score = calculate_physiological_sleep_score(row)\n",
    "\n",
    "    # use patient pattern data if its available\n",
    "    if patient_patterns is not None:\n",
    "        hour = datetime.strptime(row[\"time\"], \"%H:%M:%S\").hour\n",
    "        hour_stats = patient_patterns.loc[hour]\n",
    "\n",
    "        # get pattern score\n",
    "        pattern_score = np.exp(\n",
    "            -(\n",
    "                hour_stats[\"steps-0:00\"] / 100\n",
    "                + hour_stats[\"hr-0:00\"] / 100\n",
    "                + hour_stats[\"cals-0:00\"] / 100\n",
    "            )\n",
    "        )\n",
    "\n",
    "        # combine scores\n",
    "        # less weight on patient patterns since they dont always dictate what the patient is doing (ie they could be out later than usual at a concert)\n",
    "        final_score = 0.85 * phys_score + 0.15 * pattern_score\n",
    "    else:\n",
    "        final_score = phys_score\n",
    "\n",
    "    return np.clip(final_score, 0, 1)\n",
    "\n",
    "\n",
    "def analyze_sleep_patterns(data: pd.DataFrame) -> pd.DataFrame:\n",
    "    \"\"\"\n",
    "    Analyzes sleep patterns for each patient individually\n",
    "    \"\"\"\n",
    "    patient_patterns = {}\n",
    "\n",
    "    # learn patient patterns\n",
    "    for patient in data[\"p_num\"].unique():\n",
    "        patient_patterns[patient] = detect_sleep_clusters(data, patient)\n",
    "\n",
    "    # calculate sleep probabilities\n",
    "    data[\"sleep_probability\"] = data.apply(\n",
    "        lambda row: calculate_sleep_probability(\n",
    "            row, patient_patterns.get(row[\"p_num\"])\n",
    "        ),\n",
    "        axis=1,\n",
    "    )\n",
    "\n",
    "    return data\n",
    "\n",
    "\n",
    "def main(data: pd.DataFrame) -> pd.DataFrame:\n",
    "    \"\"\"\n",
    "    Main workflow function\n",
    "    \"\"\"\n",
    "    clean_df = clean_data(data)\n",
    "    results = analyze_sleep_patterns(clean_df)\n",
    "    return results"
   ]
  }
 ],
 "metadata": {
  "kernelspec": {
   "display_name": "nocturnal-venv",
   "language": "python",
   "name": "python3"
  },
  "language_info": {
   "codemirror_mode": {
    "name": "ipython",
    "version": 3
   },
   "file_extension": ".py",
   "mimetype": "text/x-python",
   "name": "python",
   "nbconvert_exporter": "python",
   "pygments_lexer": "ipython3",
   "version": "3.12.6"
  }
 },
 "nbformat": 4,
 "nbformat_minor": 2
}
