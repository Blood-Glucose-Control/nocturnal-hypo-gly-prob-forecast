{
 "cells": [
  {
   "cell_type": "markdown",
   "id": "759c0770",
   "metadata": {},
   "source": [
    "# 3.00 Checkpoint Recovery Example\n"
   ]
  }
 ],
 "metadata": {
  "language_info": {
   "name": "python"
  }
 },
 "nbformat": 4,
 "nbformat_minor": 5
}
