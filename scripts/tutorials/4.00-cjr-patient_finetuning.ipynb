{
 "cells": [
  {
   "cell_type": "markdown",
   "id": "f6e701e8",
   "metadata": {},
   "source": [
    "# 4.00 Patient Finetuning Example"
   ]
  }
 ],
 "metadata": {
  "language_info": {
   "name": "python"
  }
 },
 "nbformat": 4,
 "nbformat_minor": 5
}
